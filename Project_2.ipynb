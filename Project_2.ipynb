{
 "cells": [
  {
   "cell_type": "markdown",
   "id": "6dce6849",
   "metadata": {},
   "source": [
    "# Project 2"
   ]
  },
  {
   "cell_type": "markdown",
   "id": "b4519e77",
   "metadata": {},
   "source": [
    "# Задание 1. A/B-test"
   ]
  },
  {
   "cell_type": "markdown",
   "id": "44abfa1c",
   "metadata": {},
   "source": [
    "### 1.1 Условие\n",
    "\n",
    "Одной из основных задач аналитика в нашей команде является корректное проведение экспериментов. Для этого мы применяем метод A/B–тестирования. В ходе тестирования одной гипотезы целевой группе была предложена новая механика оплаты услуг на сайте, у контрольной группы оставалась базовая механика. В качестве задания Вам необходимо проанализировать итоги эксперимента и сделать вывод, стоит ли запускать новую механику оплаты на всех пользователей."
   ]
  },
  {
   "cell_type": "markdown",
   "id": "e8331077",
   "metadata": {},
   "source": [
    "### 1.2 Входные данные\n",
    "\n",
    "В качестве входных данных Вы имеете 4 csv-файла:\n",
    "\n",
    "- **groups.csv** - файл с информацией о принадлежности пользователя к контрольной или экспериментальной группе (А – контроль, B – целевая группа) \\\n",
    "- **groups_add.csv** - дополнительный файл с пользователями, который вам прислали спустя 2 дня после передачи данных \\\n",
    "- **active_studs.csv** - файл с информацией о пользователях, которые зашли на платформу в дни проведения эксперимента \\\n",
    "- **checks.csv** - файл с информацией об оплатах пользователей в дни проведения эксперимента. "
   ]
  },
  {
   "cell_type": "markdown",
   "id": "fdb8a7ac",
   "metadata": {},
   "source": [
    "### 1.3 Вопросы\n",
    "\n",
    "**Предлагаем Вам ответить на следующие вопросы:**\n",
    "\n",
    "- На какие метрики Вы смотрите в ходе анализа и почему?\n",
    "- Имеются ли различия в показателях и с чем они могут быть связаны?\n",
    "- Являются ли эти различия статистически значимыми?\n",
    "- Стоит ли запускать новую механику на всех пользователей?"
   ]
  },
  {
   "cell_type": "markdown",
   "id": "efeb1d4b",
   "metadata": {},
   "source": [
    "### 1.4 Решение"
   ]
  },
  {
   "cell_type": "markdown",
   "id": "51e3e5a1",
   "metadata": {},
   "source": [
    "#### Импортируем библиотеки"
   ]
  },
  {
   "cell_type": "code",
   "execution_count": 1,
   "id": "d54e1b3e",
   "metadata": {},
   "outputs": [],
   "source": [
    "import pandas as pd\n",
    "import numpy as np\n",
    "import scipy.stats as ss\n",
    "import statsmodels.api as sm\n",
    "import statsmodels.formula.api as smf\n",
    "import pingouin as pg\n",
    "import math\n",
    "\n",
    "import seaborn as sns\n",
    "import matplotlib.pyplot as plt\n",
    "import matplotlib\n",
    "from tqdm.auto import tqdm\n",
    "plt.style.use('ggplot')\n",
    "\n",
    "from datetime import datetime\n",
    "from datetime import timedelta\n",
    "from urllib.parse import urlencode\n",
    "import json\n",
    "import urllib\n",
    "from calendar import monthrange\n",
    "from operator import attrgetter\n",
    "\n",
    "import io\n",
    "import requests"
   ]
  },
  {
   "cell_type": "markdown",
   "id": "aab98933",
   "metadata": {},
   "source": [
    "### 1) Используем API и загружаем csv файлы с яндекс диска"
   ]
  },
  {
   "cell_type": "markdown",
   "id": "b2785840",
   "metadata": {},
   "source": [
    "Используем api "
   ]
  },
  {
   "cell_type": "code",
   "execution_count": 2,
   "id": "ba5d577d",
   "metadata": {},
   "outputs": [],
   "source": [
    "base_url = 'https://cloud-api.yandex.net/v1/disk/public/resources/download?'\n",
    "public_key_groups = 'https://disk.yandex.ru/d/UhyYx41rTt3clQ'\n",
    "public_key_groups_add = 'https://disk.yandex.ru/d/5Kxrz02m3IBUwQ'\n",
    "public_key_active_studs = 'https://disk.yandex.ru/d/Tbs44Bm6H_FwFQ'\n",
    "public_key_checks = 'https://disk.yandex.ru/d/pH1q-VqcxXjsVA'"
   ]
  },
  {
   "cell_type": "markdown",
   "id": "41e2a4ce",
   "metadata": {},
   "source": [
    "Получаем url"
   ]
  },
  {
   "cell_type": "code",
   "execution_count": 3,
   "id": "1b2ac59d",
   "metadata": {},
   "outputs": [],
   "source": [
    "final_url_1 = base_url + urlencode(dict(public_key=public_key_groups)) \n",
    "response_1 = requests.get(final_url_1)\n",
    "download_url_1 = response_1.json()['href']\n",
    "\n",
    "final_url_2 = base_url + urlencode(dict(public_key=public_key_groups_add)) \n",
    "response_2 = requests.get(final_url_2)\n",
    "download_url_2 = response_2.json()['href']\n",
    "\n",
    "final_url_3 = base_url + urlencode(dict(public_key=public_key_active_studs)) \n",
    "response_3 = requests.get(final_url_3)\n",
    "download_url_3 = response_3.json()['href']\n",
    "\n",
    "final_url_4 = base_url + urlencode(dict(public_key=public_key_checks)) \n",
    "response_4 = requests.get(final_url_4)\n",
    "download_url_4 = response_4.json()['href']"
   ]
  },
  {
   "cell_type": "markdown",
   "id": "e9677659",
   "metadata": {},
   "source": [
    "Загружаем файлы и формируем датафреймы "
   ]
  },
  {
   "cell_type": "code",
   "execution_count": 4,
   "id": "f02bbb4e",
   "metadata": {},
   "outputs": [],
   "source": [
    "download_response = requests.get(download_url_1) \n",
    "groups = pd.read_csv(download_url_1, sep=';')\n",
    "download_response = requests.get(download_url_2)\n",
    "groups_add = pd.read_csv(download_url_2)\n",
    "download_response = requests.get(download_url_3)\n",
    "active_studs = pd.read_csv(download_url_3)\n",
    "checks = pd.read_csv(download_url_4, sep=';')\n",
    "download_response = requests.get(download_url_4)"
   ]
  },
  {
   "cell_type": "markdown",
   "id": "17d102c2",
   "metadata": {},
   "source": [
    "### 2) Проверим запись данных, соответствие типов данных и отсутствие null значений"
   ]
  },
  {
   "cell_type": "code",
   "execution_count": 5,
   "id": "5c506fd3",
   "metadata": {},
   "outputs": [
    {
     "data": {
      "text/html": [
       "<div>\n",
       "<style scoped>\n",
       "    .dataframe tbody tr th:only-of-type {\n",
       "        vertical-align: middle;\n",
       "    }\n",
       "\n",
       "    .dataframe tbody tr th {\n",
       "        vertical-align: top;\n",
       "    }\n",
       "\n",
       "    .dataframe thead th {\n",
       "        text-align: right;\n",
       "    }\n",
       "</style>\n",
       "<table border=\"1\" class=\"dataframe\">\n",
       "  <thead>\n",
       "    <tr style=\"text-align: right;\">\n",
       "      <th></th>\n",
       "      <th>id</th>\n",
       "      <th>grp</th>\n",
       "    </tr>\n",
       "  </thead>\n",
       "  <tbody>\n",
       "    <tr>\n",
       "      <th>0</th>\n",
       "      <td>1489</td>\n",
       "      <td>B</td>\n",
       "    </tr>\n",
       "    <tr>\n",
       "      <th>1</th>\n",
       "      <td>1627</td>\n",
       "      <td>A</td>\n",
       "    </tr>\n",
       "    <tr>\n",
       "      <th>2</th>\n",
       "      <td>1768</td>\n",
       "      <td>B</td>\n",
       "    </tr>\n",
       "  </tbody>\n",
       "</table>\n",
       "</div>"
      ],
      "text/plain": [
       "     id grp\n",
       "0  1489   B\n",
       "1  1627   A\n",
       "2  1768   B"
      ]
     },
     "execution_count": 5,
     "metadata": {},
     "output_type": "execute_result"
    }
   ],
   "source": [
    "groups.head(3)"
   ]
  },
  {
   "cell_type": "markdown",
   "id": "0e5234df",
   "metadata": {},
   "source": [
    "Видим, что типы данных соответствуют значениям в колонках. Также, видим, что количество не null значений совпадает с кол-вом строк в датафрейме, что значит отсутствие null значений. Проделаем схожие операции с другими df"
   ]
  },
  {
   "cell_type": "code",
   "execution_count": 6,
   "id": "b6b71336",
   "metadata": {},
   "outputs": [
    {
     "name": "stdout",
     "output_type": "stream",
     "text": [
      "<class 'pandas.core.frame.DataFrame'>\n",
      "RangeIndex: 74484 entries, 0 to 74483\n",
      "Data columns (total 2 columns):\n",
      " #   Column  Non-Null Count  Dtype \n",
      "---  ------  --------------  ----- \n",
      " 0   id      74484 non-null  int64 \n",
      " 1   grp     74484 non-null  object\n",
      "dtypes: int64(1), object(1)\n",
      "memory usage: 1.1+ MB\n"
     ]
    }
   ],
   "source": [
    "groups.info()"
   ]
  },
  {
   "cell_type": "markdown",
   "id": "0dd5e98e",
   "metadata": {},
   "source": [
    "Проверим на дубликаты"
   ]
  },
  {
   "cell_type": "code",
   "execution_count": 7,
   "id": "7cb41f51",
   "metadata": {},
   "outputs": [
    {
     "name": "stdout",
     "output_type": "stream",
     "text": [
      "Дубликатов нет\n"
     ]
    }
   ],
   "source": [
    "if groups.nunique()[0] < groups.shape[0]:\n",
    "    print('Дубликаты есть')\n",
    "else: print('Дубликатов нет')"
   ]
  },
  {
   "cell_type": "markdown",
   "id": "6b9efa3a",
   "metadata": {},
   "source": [
    "Проверяем, есть ли отсутствующие значения"
   ]
  },
  {
   "cell_type": "code",
   "execution_count": 341,
   "id": "94a3627e",
   "metadata": {},
   "outputs": [
    {
     "data": {
      "text/plain": [
       "id     False\n",
       "grp    False\n",
       "dtype: bool"
      ]
     },
     "execution_count": 341,
     "metadata": {},
     "output_type": "execute_result"
    }
   ],
   "source": [
    "groups.isna().any()"
   ]
  },
  {
   "cell_type": "markdown",
   "id": "8f14b6df",
   "metadata": {},
   "source": [
    "Проверим следующий датафрейм groups_add"
   ]
  },
  {
   "cell_type": "code",
   "execution_count": 8,
   "id": "dac9d818",
   "metadata": {},
   "outputs": [
    {
     "data": {
      "text/html": [
       "<div>\n",
       "<style scoped>\n",
       "    .dataframe tbody tr th:only-of-type {\n",
       "        vertical-align: middle;\n",
       "    }\n",
       "\n",
       "    .dataframe tbody tr th {\n",
       "        vertical-align: top;\n",
       "    }\n",
       "\n",
       "    .dataframe thead th {\n",
       "        text-align: right;\n",
       "    }\n",
       "</style>\n",
       "<table border=\"1\" class=\"dataframe\">\n",
       "  <thead>\n",
       "    <tr style=\"text-align: right;\">\n",
       "      <th></th>\n",
       "      <th>id</th>\n",
       "      <th>grp</th>\n",
       "    </tr>\n",
       "  </thead>\n",
       "  <tbody>\n",
       "    <tr>\n",
       "      <th>0</th>\n",
       "      <td>5694584</td>\n",
       "      <td>B</td>\n",
       "    </tr>\n",
       "    <tr>\n",
       "      <th>1</th>\n",
       "      <td>5694830</td>\n",
       "      <td>B</td>\n",
       "    </tr>\n",
       "    <tr>\n",
       "      <th>2</th>\n",
       "      <td>5695057</td>\n",
       "      <td>B</td>\n",
       "    </tr>\n",
       "  </tbody>\n",
       "</table>\n",
       "</div>"
      ],
      "text/plain": [
       "        id grp\n",
       "0  5694584   B\n",
       "1  5694830   B\n",
       "2  5695057   B"
      ]
     },
     "execution_count": 8,
     "metadata": {},
     "output_type": "execute_result"
    }
   ],
   "source": [
    "groups_add.head(3)"
   ]
  },
  {
   "cell_type": "markdown",
   "id": "933b6320",
   "metadata": {},
   "source": [
    "Здесь все хорошо, замечаний нет"
   ]
  },
  {
   "cell_type": "code",
   "execution_count": 9,
   "id": "91352ef1",
   "metadata": {
    "scrolled": false
   },
   "outputs": [
    {
     "name": "stdout",
     "output_type": "stream",
     "text": [
      "<class 'pandas.core.frame.DataFrame'>\n",
      "RangeIndex: 92 entries, 0 to 91\n",
      "Data columns (total 2 columns):\n",
      " #   Column  Non-Null Count  Dtype \n",
      "---  ------  --------------  ----- \n",
      " 0   id      92 non-null     int64 \n",
      " 1   grp     92 non-null     object\n",
      "dtypes: int64(1), object(1)\n",
      "memory usage: 1.6+ KB\n"
     ]
    }
   ],
   "source": [
    "groups_add.info()"
   ]
  },
  {
   "cell_type": "code",
   "execution_count": 10,
   "id": "5356a700",
   "metadata": {},
   "outputs": [
    {
     "name": "stdout",
     "output_type": "stream",
     "text": [
      "Дубликатов нет\n"
     ]
    }
   ],
   "source": [
    "if groups_add.nunique()[0] < groups_add.shape[0]:\n",
    "    print('Дубликаты есть')\n",
    "else: print('Дубликатов нет')"
   ]
  },
  {
   "cell_type": "markdown",
   "id": "117ad115",
   "metadata": {},
   "source": [
    "Проверяем, есть ли отсутствующие значения"
   ]
  },
  {
   "cell_type": "code",
   "execution_count": 340,
   "id": "03c39e96",
   "metadata": {},
   "outputs": [
    {
     "data": {
      "text/plain": [
       "id     False\n",
       "grp    False\n",
       "dtype: bool"
      ]
     },
     "execution_count": 340,
     "metadata": {},
     "output_type": "execute_result"
    }
   ],
   "source": [
    "groups_add.isna().any()"
   ]
  },
  {
   "cell_type": "markdown",
   "id": "07f51379",
   "metadata": {},
   "source": [
    "Проверим следующий датафрейм active_studs"
   ]
  },
  {
   "cell_type": "code",
   "execution_count": 11,
   "id": "a4df6f72",
   "metadata": {},
   "outputs": [
    {
     "data": {
      "text/html": [
       "<div>\n",
       "<style scoped>\n",
       "    .dataframe tbody tr th:only-of-type {\n",
       "        vertical-align: middle;\n",
       "    }\n",
       "\n",
       "    .dataframe tbody tr th {\n",
       "        vertical-align: top;\n",
       "    }\n",
       "\n",
       "    .dataframe thead th {\n",
       "        text-align: right;\n",
       "    }\n",
       "</style>\n",
       "<table border=\"1\" class=\"dataframe\">\n",
       "  <thead>\n",
       "    <tr style=\"text-align: right;\">\n",
       "      <th></th>\n",
       "      <th>student_id</th>\n",
       "    </tr>\n",
       "  </thead>\n",
       "  <tbody>\n",
       "    <tr>\n",
       "      <th>0</th>\n",
       "      <td>581585</td>\n",
       "    </tr>\n",
       "    <tr>\n",
       "      <th>1</th>\n",
       "      <td>5723133</td>\n",
       "    </tr>\n",
       "    <tr>\n",
       "      <th>2</th>\n",
       "      <td>3276743</td>\n",
       "    </tr>\n",
       "  </tbody>\n",
       "</table>\n",
       "</div>"
      ],
      "text/plain": [
       "   student_id\n",
       "0      581585\n",
       "1     5723133\n",
       "2     3276743"
      ]
     },
     "execution_count": 11,
     "metadata": {},
     "output_type": "execute_result"
    }
   ],
   "source": [
    "active_studs.head(3)"
   ]
  },
  {
   "cell_type": "markdown",
   "id": "1d3b6818",
   "metadata": {},
   "source": [
    "Здесь все хорошо, замечаний нет"
   ]
  },
  {
   "cell_type": "code",
   "execution_count": 12,
   "id": "25c1bc5c",
   "metadata": {
    "scrolled": true
   },
   "outputs": [
    {
     "name": "stdout",
     "output_type": "stream",
     "text": [
      "<class 'pandas.core.frame.DataFrame'>\n",
      "RangeIndex: 8341 entries, 0 to 8340\n",
      "Data columns (total 1 columns):\n",
      " #   Column      Non-Null Count  Dtype\n",
      "---  ------      --------------  -----\n",
      " 0   student_id  8341 non-null   int64\n",
      "dtypes: int64(1)\n",
      "memory usage: 65.3 KB\n"
     ]
    }
   ],
   "source": [
    "active_studs.info()"
   ]
  },
  {
   "cell_type": "code",
   "execution_count": 13,
   "id": "b3ba1da7",
   "metadata": {},
   "outputs": [
    {
     "name": "stdout",
     "output_type": "stream",
     "text": [
      "Дубликатов нет\n"
     ]
    }
   ],
   "source": [
    "if active_studs.nunique()[0] < active_studs.shape[0]:\n",
    "    print('Дубликаты есть')\n",
    "else: print('Дубликатов нет')"
   ]
  },
  {
   "cell_type": "markdown",
   "id": "7f79ac4e",
   "metadata": {},
   "source": [
    "Проверяем, есть ли отсутствующие значения"
   ]
  },
  {
   "cell_type": "code",
   "execution_count": 339,
   "id": "5d0ea73a",
   "metadata": {},
   "outputs": [
    {
     "data": {
      "text/plain": [
       "id     False\n",
       "exp    False\n",
       "dtype: bool"
      ]
     },
     "execution_count": 339,
     "metadata": {},
     "output_type": "execute_result"
    }
   ],
   "source": [
    "active_studs.isna().any()"
   ]
  },
  {
   "cell_type": "markdown",
   "id": "3e098b71",
   "metadata": {},
   "source": [
    "Проверим последний датафрейм"
   ]
  },
  {
   "cell_type": "code",
   "execution_count": 14,
   "id": "0bcdc896",
   "metadata": {},
   "outputs": [
    {
     "data": {
      "text/html": [
       "<div>\n",
       "<style scoped>\n",
       "    .dataframe tbody tr th:only-of-type {\n",
       "        vertical-align: middle;\n",
       "    }\n",
       "\n",
       "    .dataframe tbody tr th {\n",
       "        vertical-align: top;\n",
       "    }\n",
       "\n",
       "    .dataframe thead th {\n",
       "        text-align: right;\n",
       "    }\n",
       "</style>\n",
       "<table border=\"1\" class=\"dataframe\">\n",
       "  <thead>\n",
       "    <tr style=\"text-align: right;\">\n",
       "      <th></th>\n",
       "      <th>student_id</th>\n",
       "      <th>rev</th>\n",
       "    </tr>\n",
       "  </thead>\n",
       "  <tbody>\n",
       "    <tr>\n",
       "      <th>0</th>\n",
       "      <td>1627</td>\n",
       "      <td>990.0</td>\n",
       "    </tr>\n",
       "    <tr>\n",
       "      <th>1</th>\n",
       "      <td>3185</td>\n",
       "      <td>690.0</td>\n",
       "    </tr>\n",
       "    <tr>\n",
       "      <th>2</th>\n",
       "      <td>25973</td>\n",
       "      <td>690.0</td>\n",
       "    </tr>\n",
       "  </tbody>\n",
       "</table>\n",
       "</div>"
      ],
      "text/plain": [
       "   student_id    rev\n",
       "0        1627  990.0\n",
       "1        3185  690.0\n",
       "2       25973  690.0"
      ]
     },
     "execution_count": 14,
     "metadata": {},
     "output_type": "execute_result"
    }
   ],
   "source": [
    "checks.head(3)"
   ]
  },
  {
   "cell_type": "markdown",
   "id": "c8c612b3",
   "metadata": {},
   "source": [
    "Здесь также все хорошо, замечаний нет. На всякий случай можно проверить отсутствие null значений методом isna()"
   ]
  },
  {
   "cell_type": "code",
   "execution_count": 15,
   "id": "85593bc2",
   "metadata": {},
   "outputs": [
    {
     "name": "stdout",
     "output_type": "stream",
     "text": [
      "<class 'pandas.core.frame.DataFrame'>\n",
      "RangeIndex: 541 entries, 0 to 540\n",
      "Data columns (total 2 columns):\n",
      " #   Column      Non-Null Count  Dtype  \n",
      "---  ------      --------------  -----  \n",
      " 0   student_id  541 non-null    int64  \n",
      " 1   rev         541 non-null    float64\n",
      "dtypes: float64(1), int64(1)\n",
      "memory usage: 8.6 KB\n"
     ]
    }
   ],
   "source": [
    "checks.info()"
   ]
  },
  {
   "cell_type": "code",
   "execution_count": 16,
   "id": "ba19b6e0",
   "metadata": {},
   "outputs": [
    {
     "name": "stdout",
     "output_type": "stream",
     "text": [
      "Дубликатов нет\n"
     ]
    }
   ],
   "source": [
    "if checks.nunique()[0] < checks.shape[0]:\n",
    "    print('Дубликаты есть')\n",
    "else: print('Дубликатов нет')"
   ]
  },
  {
   "cell_type": "markdown",
   "id": "0d0329ea",
   "metadata": {},
   "source": [
    "Проверяем, есть ли отсутствующие значения"
   ]
  },
  {
   "cell_type": "code",
   "execution_count": 17,
   "id": "eaf84ef6",
   "metadata": {},
   "outputs": [
    {
     "data": {
      "text/plain": [
       "student_id    False\n",
       "rev           False\n",
       "dtype: bool"
      ]
     },
     "execution_count": 17,
     "metadata": {},
     "output_type": "execute_result"
    }
   ],
   "source": [
    "checks.isna().any()"
   ]
  },
  {
   "cell_type": "markdown",
   "id": "1de4f709",
   "metadata": {},
   "source": [
    "### 3) Итак, с данными все хорошо. Подготовим датафрейм к анализу"
   ]
  },
  {
   "cell_type": "markdown",
   "id": "83a0332d",
   "metadata": {},
   "source": [
    "Соединим (concatenate) датафреймы groups_add, который прислали позже и датафрейм groups"
   ]
  },
  {
   "cell_type": "code",
   "execution_count": 18,
   "id": "2fdc3bc9",
   "metadata": {},
   "outputs": [],
   "source": [
    "groups_full = pd.concat([groups, groups_add], ignore_index=True, axis=0)"
   ]
  },
  {
   "cell_type": "code",
   "execution_count": 19,
   "id": "80050836",
   "metadata": {},
   "outputs": [
    {
     "data": {
      "text/html": [
       "<div>\n",
       "<style scoped>\n",
       "    .dataframe tbody tr th:only-of-type {\n",
       "        vertical-align: middle;\n",
       "    }\n",
       "\n",
       "    .dataframe tbody tr th {\n",
       "        vertical-align: top;\n",
       "    }\n",
       "\n",
       "    .dataframe thead th {\n",
       "        text-align: right;\n",
       "    }\n",
       "</style>\n",
       "<table border=\"1\" class=\"dataframe\">\n",
       "  <thead>\n",
       "    <tr style=\"text-align: right;\">\n",
       "      <th></th>\n",
       "      <th>id</th>\n",
       "      <th>grp</th>\n",
       "    </tr>\n",
       "  </thead>\n",
       "  <tbody>\n",
       "    <tr>\n",
       "      <th>0</th>\n",
       "      <td>1489</td>\n",
       "      <td>B</td>\n",
       "    </tr>\n",
       "    <tr>\n",
       "      <th>1</th>\n",
       "      <td>1627</td>\n",
       "      <td>A</td>\n",
       "    </tr>\n",
       "    <tr>\n",
       "      <th>2</th>\n",
       "      <td>1768</td>\n",
       "      <td>B</td>\n",
       "    </tr>\n",
       "  </tbody>\n",
       "</table>\n",
       "</div>"
      ],
      "text/plain": [
       "     id grp\n",
       "0  1489   B\n",
       "1  1627   A\n",
       "2  1768   B"
      ]
     },
     "execution_count": 19,
     "metadata": {},
     "output_type": "execute_result"
    }
   ],
   "source": [
    "groups_full.head(3)"
   ]
  },
  {
   "cell_type": "markdown",
   "id": "d272d932",
   "metadata": {},
   "source": [
    "74484 строки (groups) + 92 строки (groups_add) = 74576"
   ]
  },
  {
   "cell_type": "code",
   "execution_count": 20,
   "id": "b8fdf1ff",
   "metadata": {},
   "outputs": [
    {
     "data": {
      "text/plain": [
       "(74576, 2)"
      ]
     },
     "execution_count": 20,
     "metadata": {},
     "output_type": "execute_result"
    }
   ],
   "source": [
    "groups_full.shape"
   ]
  },
  {
   "cell_type": "markdown",
   "id": "44b1e42b",
   "metadata": {},
   "source": [
    "Проверим наличие дубликатов"
   ]
  },
  {
   "cell_type": "code",
   "execution_count": 21,
   "id": "311e82df",
   "metadata": {},
   "outputs": [
    {
     "name": "stdout",
     "output_type": "stream",
     "text": [
      "Дубликатов нет\n"
     ]
    }
   ],
   "source": [
    "if groups_full.nunique()[0] < groups_full.shape[0]:\n",
    "    groups_full = groups_full.drop_duplicates(subset=['id', 'grp'])\n",
    "    print('Дубликаты есть')\n",
    "else: print('Дубликатов нет')"
   ]
  },
  {
   "cell_type": "markdown",
   "id": "0e05d5cb",
   "metadata": {},
   "source": [
    "Изменим имена колонок в active_studs и checks, а затем проверим, что в full_group содержатся все студенты из датафреймов active_studs и checks"
   ]
  },
  {
   "cell_type": "code",
   "execution_count": 22,
   "id": "3dde852d",
   "metadata": {},
   "outputs": [],
   "source": [
    "active_studs = active_studs.rename(columns={'student_id':'id'})"
   ]
  },
  {
   "cell_type": "code",
   "execution_count": 23,
   "id": "ba226eca",
   "metadata": {},
   "outputs": [],
   "source": [
    "checks = checks.rename(columns={'student_id':'id'})"
   ]
  },
  {
   "cell_type": "markdown",
   "id": "bb9cc20b",
   "metadata": {},
   "source": [
    "Проверим, что в full_group содержатся все студенты из датафреймов active_studs и checks"
   ]
  },
  {
   "cell_type": "code",
   "execution_count": 24,
   "id": "2d090dc1",
   "metadata": {},
   "outputs": [
    {
     "name": "stdout",
     "output_type": "stream",
     "text": [
      "Значения есть в обоих датафреймах\n"
     ]
    }
   ],
   "source": [
    "if groups_full.merge(active_studs, how='inner', on='id').nunique()[0] == active_studs.id.nunique():\n",
    "    print('Значения есть в обоих датафреймах')\n",
    "else: print('Некоторых значений нет в groups_full, которые есть в active_studs')"
   ]
  },
  {
   "cell_type": "code",
   "execution_count": 25,
   "id": "802c5b15",
   "metadata": {},
   "outputs": [
    {
     "name": "stdout",
     "output_type": "stream",
     "text": [
      "Значения есть в обоих датафреймах\n"
     ]
    }
   ],
   "source": [
    "if groups_full.merge(checks, how='inner', on='id').nunique()[0] == checks.id.nunique():\n",
    "    print('Значения есть в обоих датафреймах')\n",
    "else: print('Некоторых значений нет в groups_full, которые есть в active_studs')"
   ]
  },
  {
   "cell_type": "markdown",
   "id": "a0ac69ff",
   "metadata": {},
   "source": [
    "Создадим колонку exp_participated, в которой укажем значения: \\\n",
    "- 0 - не учавствовал в эксперименте\n",
    "- 1 - учавтсвовал в эксперименте"
   ]
  },
  {
   "cell_type": "code",
   "execution_count": 26,
   "id": "5ebd435b",
   "metadata": {},
   "outputs": [],
   "source": [
    "active_studs['exp_participated'] = 1"
   ]
  },
  {
   "cell_type": "markdown",
   "id": "d394c11a",
   "metadata": {},
   "source": [
    "Сджоиним все датафреймы"
   ]
  },
  {
   "cell_type": "code",
   "execution_count": 27,
   "id": "81c1c2e9",
   "metadata": {},
   "outputs": [],
   "source": [
    "groups_merged = groups_full \\\n",
    "    .merge(active_studs, how='left', on='id').fillna(0) \\\n",
    "    .merge(checks, how='left', on='id').fillna(0)"
   ]
  },
  {
   "cell_type": "markdown",
   "id": "01b201a6",
   "metadata": {},
   "source": [
    "Итак, наш датафрейм готов к анализу"
   ]
  },
  {
   "cell_type": "code",
   "execution_count": 28,
   "id": "d1617ee9",
   "metadata": {},
   "outputs": [
    {
     "data": {
      "text/html": [
       "<div>\n",
       "<style scoped>\n",
       "    .dataframe tbody tr th:only-of-type {\n",
       "        vertical-align: middle;\n",
       "    }\n",
       "\n",
       "    .dataframe tbody tr th {\n",
       "        vertical-align: top;\n",
       "    }\n",
       "\n",
       "    .dataframe thead th {\n",
       "        text-align: right;\n",
       "    }\n",
       "</style>\n",
       "<table border=\"1\" class=\"dataframe\">\n",
       "  <thead>\n",
       "    <tr style=\"text-align: right;\">\n",
       "      <th></th>\n",
       "      <th>id</th>\n",
       "      <th>grp</th>\n",
       "      <th>exp_participated</th>\n",
       "      <th>rev</th>\n",
       "    </tr>\n",
       "  </thead>\n",
       "  <tbody>\n",
       "    <tr>\n",
       "      <th>0</th>\n",
       "      <td>1489</td>\n",
       "      <td>B</td>\n",
       "      <td>0.0</td>\n",
       "      <td>0.0</td>\n",
       "    </tr>\n",
       "    <tr>\n",
       "      <th>1</th>\n",
       "      <td>1627</td>\n",
       "      <td>A</td>\n",
       "      <td>1.0</td>\n",
       "      <td>990.0</td>\n",
       "    </tr>\n",
       "    <tr>\n",
       "      <th>2</th>\n",
       "      <td>1768</td>\n",
       "      <td>B</td>\n",
       "      <td>0.0</td>\n",
       "      <td>0.0</td>\n",
       "    </tr>\n",
       "    <tr>\n",
       "      <th>3</th>\n",
       "      <td>1783</td>\n",
       "      <td>B</td>\n",
       "      <td>0.0</td>\n",
       "      <td>0.0</td>\n",
       "    </tr>\n",
       "    <tr>\n",
       "      <th>4</th>\n",
       "      <td>1794</td>\n",
       "      <td>A</td>\n",
       "      <td>0.0</td>\n",
       "      <td>0.0</td>\n",
       "    </tr>\n",
       "    <tr>\n",
       "      <th>...</th>\n",
       "      <td>...</td>\n",
       "      <td>...</td>\n",
       "      <td>...</td>\n",
       "      <td>...</td>\n",
       "    </tr>\n",
       "    <tr>\n",
       "      <th>74571</th>\n",
       "      <td>200247820</td>\n",
       "      <td>B</td>\n",
       "      <td>0.0</td>\n",
       "      <td>0.0</td>\n",
       "    </tr>\n",
       "    <tr>\n",
       "      <th>74572</th>\n",
       "      <td>201032527</td>\n",
       "      <td>B</td>\n",
       "      <td>0.0</td>\n",
       "      <td>0.0</td>\n",
       "    </tr>\n",
       "    <tr>\n",
       "      <th>74573</th>\n",
       "      <td>201067612</td>\n",
       "      <td>B</td>\n",
       "      <td>0.0</td>\n",
       "      <td>0.0</td>\n",
       "    </tr>\n",
       "    <tr>\n",
       "      <th>74574</th>\n",
       "      <td>201067653</td>\n",
       "      <td>B</td>\n",
       "      <td>0.0</td>\n",
       "      <td>0.0</td>\n",
       "    </tr>\n",
       "    <tr>\n",
       "      <th>74575</th>\n",
       "      <td>201067659</td>\n",
       "      <td>B</td>\n",
       "      <td>0.0</td>\n",
       "      <td>0.0</td>\n",
       "    </tr>\n",
       "  </tbody>\n",
       "</table>\n",
       "<p>74576 rows × 4 columns</p>\n",
       "</div>"
      ],
      "text/plain": [
       "              id grp  exp_participated    rev\n",
       "0           1489   B               0.0    0.0\n",
       "1           1627   A               1.0  990.0\n",
       "2           1768   B               0.0    0.0\n",
       "3           1783   B               0.0    0.0\n",
       "4           1794   A               0.0    0.0\n",
       "...          ...  ..               ...    ...\n",
       "74571  200247820   B               0.0    0.0\n",
       "74572  201032527   B               0.0    0.0\n",
       "74573  201067612   B               0.0    0.0\n",
       "74574  201067653   B               0.0    0.0\n",
       "74575  201067659   B               0.0    0.0\n",
       "\n",
       "[74576 rows x 4 columns]"
      ]
     },
     "execution_count": 28,
     "metadata": {},
     "output_type": "execute_result"
    }
   ],
   "source": [
    "groups_merged"
   ]
  },
  {
   "cell_type": "markdown",
   "id": "6e425bae",
   "metadata": {},
   "source": [
    "### 4) Проверим датафрейм на аномалии"
   ]
  },
  {
   "cell_type": "markdown",
   "id": "57af2018",
   "metadata": {},
   "source": [
    "Проверим, имеются ли пользователи, которые совершили покупку, но не заходили на платформу в дни проведения эксперимента"
   ]
  },
  {
   "cell_type": "markdown",
   "id": "d3518210",
   "metadata": {},
   "source": [
    "Видим, что такие пользователи есть"
   ]
  },
  {
   "cell_type": "code",
   "execution_count": 29,
   "id": "cb0e072d",
   "metadata": {},
   "outputs": [
    {
     "data": {
      "text/plain": [
       "149"
      ]
     },
     "execution_count": 29,
     "metadata": {},
     "output_type": "execute_result"
    }
   ],
   "source": [
    "groups_merged.query('exp_participated == 0 and rev > 0').id.count()"
   ]
  },
  {
   "cell_type": "markdown",
   "id": "8bdf7d5b",
   "metadata": {},
   "source": [
    "Посчитаем, какое количество таких пользователей в датафрейме по отношению ко всем пользователям, которые совершили покупку"
   ]
  },
  {
   "cell_type": "markdown",
   "id": "dfa3b1f1",
   "metadata": {},
   "source": [
    "Видим, что около 30% пользователей сделали покупку, но не заходили на платформу в этот день"
   ]
  },
  {
   "cell_type": "code",
   "execution_count": 30,
   "id": "81ba2548",
   "metadata": {},
   "outputs": [
    {
     "data": {
      "text/plain": [
       "27.5"
      ]
     },
     "execution_count": 30,
     "metadata": {},
     "output_type": "execute_result"
    }
   ],
   "source": [
    "round(149 / groups_merged[groups_merged['rev'] > 0].id.count() * 100, 1)"
   ]
  },
  {
   "cell_type": "markdown",
   "id": "3bc9022a",
   "metadata": {},
   "source": [
    "Причиной такой аномалии может быть:\n",
    "1) Ошибка в алгоритме / коде, и на самом деле они заходили на сайт, но данные считались неверно \\\n",
    "2) Возможно деньги списываются платформой каждый месяц у некоторых пользователей, и с данными все впорядке"
   ]
  },
  {
   "cell_type": "markdown",
   "id": "37c73567",
   "metadata": {},
   "source": [
    "#### Будем считать, что произошла ошибка при записи данных, и эти пользователи все-таки зашли на платформу для совершения оплаты"
   ]
  },
  {
   "cell_type": "markdown",
   "id": "a5c01fa9",
   "metadata": {},
   "source": [
    "Добавим колонку с данными о том, сделал пользователь покупку или нет"
   ]
  },
  {
   "cell_type": "code",
   "execution_count": 31,
   "id": "e6768e12",
   "metadata": {},
   "outputs": [],
   "source": [
    "groups_merged['made_purchase'] = groups_merged.rev > 0"
   ]
  },
  {
   "cell_type": "code",
   "execution_count": 32,
   "id": "a334043f",
   "metadata": {},
   "outputs": [
    {
     "data": {
      "text/html": [
       "<div>\n",
       "<style scoped>\n",
       "    .dataframe tbody tr th:only-of-type {\n",
       "        vertical-align: middle;\n",
       "    }\n",
       "\n",
       "    .dataframe tbody tr th {\n",
       "        vertical-align: top;\n",
       "    }\n",
       "\n",
       "    .dataframe thead th {\n",
       "        text-align: right;\n",
       "    }\n",
       "</style>\n",
       "<table border=\"1\" class=\"dataframe\">\n",
       "  <thead>\n",
       "    <tr style=\"text-align: right;\">\n",
       "      <th></th>\n",
       "      <th>id</th>\n",
       "      <th>grp</th>\n",
       "      <th>exp_participated</th>\n",
       "      <th>rev</th>\n",
       "      <th>made_purchase</th>\n",
       "    </tr>\n",
       "  </thead>\n",
       "  <tbody>\n",
       "    <tr>\n",
       "      <th>0</th>\n",
       "      <td>1489</td>\n",
       "      <td>B</td>\n",
       "      <td>0.0</td>\n",
       "      <td>0.0</td>\n",
       "      <td>False</td>\n",
       "    </tr>\n",
       "    <tr>\n",
       "      <th>1</th>\n",
       "      <td>1627</td>\n",
       "      <td>A</td>\n",
       "      <td>1.0</td>\n",
       "      <td>990.0</td>\n",
       "      <td>True</td>\n",
       "    </tr>\n",
       "    <tr>\n",
       "      <th>2</th>\n",
       "      <td>1768</td>\n",
       "      <td>B</td>\n",
       "      <td>0.0</td>\n",
       "      <td>0.0</td>\n",
       "      <td>False</td>\n",
       "    </tr>\n",
       "  </tbody>\n",
       "</table>\n",
       "</div>"
      ],
      "text/plain": [
       "     id grp  exp_participated    rev  made_purchase\n",
       "0  1489   B               0.0    0.0          False\n",
       "1  1627   A               1.0  990.0           True\n",
       "2  1768   B               0.0    0.0          False"
      ]
     },
     "execution_count": 32,
     "metadata": {},
     "output_type": "execute_result"
    }
   ],
   "source": [
    "groups_merged.head(3)"
   ]
  },
  {
   "cell_type": "markdown",
   "id": "d2423593",
   "metadata": {},
   "source": [
    "### 5) Определение основных метрик"
   ]
  },
  {
   "cell_type": "markdown",
   "id": "b7cd94b1",
   "metadata": {},
   "source": [
    "В ходе тестирования одной гипотезы целевой группе была предложена новая механика оплаты услуг на сайте, у контрольной группы оставалась базовая механика. Проверим, отличаются ли значения следующих метрик:\n",
    "\n",
    "- средний чек (avprice),\n",
    "- общее количество заказов,\n",
    "- ARPU,\n",
    "- ARPPU,\n",
    "- конверсия в покупку (CR)."
   ]
  },
  {
   "cell_type": "markdown",
   "id": "380a3b96",
   "metadata": {},
   "source": [
    "Запишем пользователей контрольной и тестовой групп для удобства расчетов"
   ]
  },
  {
   "cell_type": "code",
   "execution_count": 33,
   "id": "582ee50c",
   "metadata": {},
   "outputs": [],
   "source": [
    "group_control = groups_merged[groups_merged['grp'] == 'A']\n",
    "group_test = groups_merged[groups_merged['grp'] == 'B']"
   ]
  },
  {
   "cell_type": "markdown",
   "id": "17c6788b",
   "metadata": {},
   "source": [
    "Запишем пользователей, которые участвовали в эксперименте, в соответствующие группы для удобства расчетов"
   ]
  },
  {
   "cell_type": "code",
   "execution_count": 34,
   "id": "6b904307",
   "metadata": {},
   "outputs": [],
   "source": [
    "group_control_exp = groups_merged[groups_merged['grp'] == 'A'].query('exp_participated == 1')\n",
    "group_test_exp = groups_merged[groups_merged['grp'] == 'B'].query('exp_participated == 1')"
   ]
  },
  {
   "cell_type": "markdown",
   "id": "5fda6e1d",
   "metadata": {},
   "source": [
    "**Считаем средний чек**"
   ]
  },
  {
   "cell_type": "code",
   "execution_count": 35,
   "id": "5753343c",
   "metadata": {},
   "outputs": [],
   "source": [
    "avg_check_control = group_control[group_control['rev'] > 0].rev.mean() # контрольная группа"
   ]
  },
  {
   "cell_type": "code",
   "execution_count": 36,
   "id": "ab12cbf1",
   "metadata": {},
   "outputs": [],
   "source": [
    "avg_check_test = group_test[group_test['rev'] > 0].rev.mean() # тестовая группа"
   ]
  },
  {
   "cell_type": "code",
   "execution_count": 37,
   "id": "ac0cd731",
   "metadata": {},
   "outputs": [],
   "source": [
    "avg_check_control_exp = group_control_exp[group_control_exp['rev'] > 0].rev.mean() # контрольная группа (эксперимент)"
   ]
  },
  {
   "cell_type": "code",
   "execution_count": 38,
   "id": "57f230e7",
   "metadata": {},
   "outputs": [],
   "source": [
    "avg_check_test_exp = group_test_exp[group_test_exp['rev'] > 0].rev.mean() # тестовая группа (эксперимент)"
   ]
  },
  {
   "cell_type": "markdown",
   "id": "71d13e38",
   "metadata": {},
   "source": [
    "**Считаем общее количество заказов**"
   ]
  },
  {
   "cell_type": "code",
   "execution_count": 39,
   "id": "dfa6f294",
   "metadata": {},
   "outputs": [],
   "source": [
    "orders_control = group_control[group_control['rev'] > 0].rev.count() # контрольная группа"
   ]
  },
  {
   "cell_type": "code",
   "execution_count": 40,
   "id": "afa31d34",
   "metadata": {},
   "outputs": [],
   "source": [
    "orders_test = group_test[group_test['rev'] > 0].rev.count() # тестовая группа"
   ]
  },
  {
   "cell_type": "code",
   "execution_count": 41,
   "id": "b054d53a",
   "metadata": {},
   "outputs": [],
   "source": [
    "orders_control_exp = group_control_exp[group_control_exp['rev'] > 0].rev.count() # контрольная группа (эксперимент)"
   ]
  },
  {
   "cell_type": "code",
   "execution_count": 42,
   "id": "72da93f0",
   "metadata": {},
   "outputs": [],
   "source": [
    "orders_test_exp = group_test_exp[group_test_exp['rev'] > 0].rev.count() # тестовая группа (эксперимент)"
   ]
  },
  {
   "cell_type": "markdown",
   "id": "41a3114c",
   "metadata": {},
   "source": [
    "**Считаем ARPU**"
   ]
  },
  {
   "cell_type": "code",
   "execution_count": 43,
   "id": "f3ed08e0",
   "metadata": {},
   "outputs": [],
   "source": [
    "ARPU_control = group_control.rev.sum() / group_control.id.nunique()"
   ]
  },
  {
   "cell_type": "code",
   "execution_count": 44,
   "id": "53ee6cda",
   "metadata": {},
   "outputs": [],
   "source": [
    "ARPU_test = group_test.rev.sum() / group_test.id.nunique()"
   ]
  },
  {
   "cell_type": "code",
   "execution_count": 45,
   "id": "2d54d62e",
   "metadata": {},
   "outputs": [],
   "source": [
    "ARPU_control_exp = group_control_exp.rev.sum() / group_control_exp.id.nunique()"
   ]
  },
  {
   "cell_type": "code",
   "execution_count": 46,
   "id": "979776ee",
   "metadata": {},
   "outputs": [],
   "source": [
    "ARPU_test_exp = group_test_exp.rev.sum() / group_test_exp.id.nunique()"
   ]
  },
  {
   "cell_type": "markdown",
   "id": "d08d64b3",
   "metadata": {},
   "source": [
    "**Считаем ARPPU**"
   ]
  },
  {
   "cell_type": "code",
   "execution_count": 47,
   "id": "ab20665b",
   "metadata": {},
   "outputs": [],
   "source": [
    "ARPPU_control = group_control.rev.sum() / group_control[group_control['rev'] > 0].id.nunique()"
   ]
  },
  {
   "cell_type": "code",
   "execution_count": 48,
   "id": "6170e5d6",
   "metadata": {},
   "outputs": [],
   "source": [
    "ARPPU_test = group_test.rev.sum() / group_test[group_test['rev'] > 0].id.nunique()"
   ]
  },
  {
   "cell_type": "code",
   "execution_count": 49,
   "id": "95d613a0",
   "metadata": {},
   "outputs": [],
   "source": [
    "ARPPU_control_exp = group_control_exp.rev.sum() / group_control_exp[group_control_exp['rev'] > 0].id.nunique()"
   ]
  },
  {
   "cell_type": "code",
   "execution_count": 50,
   "id": "9adfb9f7",
   "metadata": {},
   "outputs": [],
   "source": [
    "ARPPU_test_exp = group_test_exp.rev.sum() / group_test_exp[group_test_exp['rev'] > 0].id.nunique()"
   ]
  },
  {
   "cell_type": "markdown",
   "id": "fe044cd0",
   "metadata": {},
   "source": [
    "**Считаем CR**"
   ]
  },
  {
   "cell_type": "code",
   "execution_count": 51,
   "id": "b689b2ed",
   "metadata": {},
   "outputs": [],
   "source": [
    "CR_control = group_control[group_control['rev'] > 0].id.nunique() / group_control.id.nunique() *100"
   ]
  },
  {
   "cell_type": "code",
   "execution_count": 52,
   "id": "6161225e",
   "metadata": {},
   "outputs": [],
   "source": [
    "CR_test = group_test[group_test['rev'] > 0].id.nunique() / group_test.id.nunique() *100"
   ]
  },
  {
   "cell_type": "code",
   "execution_count": 53,
   "id": "2c47918e",
   "metadata": {},
   "outputs": [],
   "source": [
    "CR_control_exp = group_control_exp[group_control_exp['rev'] > 0].id.nunique() / group_control_exp.id.nunique() *100"
   ]
  },
  {
   "cell_type": "code",
   "execution_count": 54,
   "id": "959c6005",
   "metadata": {},
   "outputs": [],
   "source": [
    "CR_test_exp = group_test_exp[group_test_exp['rev'] > 0].id.nunique() / group_test_exp.id.nunique() *100"
   ]
  },
  {
   "cell_type": "code",
   "execution_count": 97,
   "id": "10f3f774",
   "metadata": {},
   "outputs": [
    {
     "name": "stdout",
     "output_type": "stream",
     "text": [
      "1.1 AVG Check: \n",
      "Control Group = 860.71\n",
      "Test Group = 1108.82\n",
      "1.2 AVG Check of experiment days: \n",
      "Control Group = 933.59\n",
      "Test Group = 1257.88\n",
      "\n",
      "\n",
      "2.1 Orders Number: \n",
      "Control Group = 107\n",
      "Test Group = 434\n",
      "2.2 Orders Number of experiment days: \n",
      "Control Group = 78\n",
      "Test Group = 314\n",
      "\n",
      "\n",
      "3.1 ARPU: \n",
      "Control Group = 6.27\n",
      "Test Group = 8.04\n",
      "3.2 ARPU of experiment days: \n",
      "Control Group = 47.35\n",
      "Test Group = 58.06\n",
      "\n",
      "\n",
      "4.1 ARPPU: \n",
      "Control Group = 860.71\n",
      "Test Group = 1108.82\n",
      "4.2. ARPPU of experiment days: \n",
      "Control Group = 933.59\n",
      "Test Group = 1257.88\n",
      "\n",
      "\n",
      "5.1 CR: \n",
      "Control Group = 0.73\n",
      "Test Group = 0.72\n",
      "5.2 CR of experiment days: \n",
      "Control Group = 5.07\n",
      "Test Group = 4.62\n"
     ]
    }
   ],
   "source": [
    "print('1.1 AVG Check: ')\n",
    "print(f'Control Group = {round(avg_check_control, 2)}\\nTest Group = {round(avg_check_test, 2)}')\n",
    "print('1.2 AVG Check of experiment days: ')\n",
    "print(f'Control Group = {round(avg_check_control_exp, 2)}\\nTest Group = {round(avg_check_test_exp, 2)}')\n",
    "print('\\n')\n",
    "print('2.1 Orders Number: ')\n",
    "print(f'Control Group = {round(orders_control)}\\nTest Group = {round(orders_test)}')\n",
    "print('2.2 Orders Number of experiment days: ')\n",
    "print(f'Control Group = {round(orders_control_exp)}\\nTest Group = {round(orders_test_exp)}')\n",
    "print('\\n')\n",
    "print('3.1 ARPU: ')\n",
    "print(f'Control Group = {round(ARPU_control, 2)}\\nTest Group = {round(ARPU_test, 2)}')\n",
    "print('3.2 ARPU of experiment days: ')\n",
    "print(f'Control Group = {round(ARPU_control_exp, 2)}\\nTest Group = {round(ARPU_test_exp, 2)}')\n",
    "print('\\n')\n",
    "print('4.1 ARPPU: ')\n",
    "print(f'Control Group = {round(ARPPU_control, 2)}\\nTest Group = {round(ARPPU_test, 2)}')\n",
    "print('4.2. ARPPU of experiment days: ')\n",
    "print(f'Control Group = {round(ARPPU_control_exp, 2)}\\nTest Group = {round(ARPPU_test_exp, 2)}')\n",
    "print('\\n')\n",
    "print('5.1 CR: ')\n",
    "print(f'Control Group = {round(CR_control, 2)}\\nTest Group = {round(CR_test, 2)}')\n",
    "print('5.2 CR of experiment days: ')\n",
    "print(f'Control Group = {round(CR_control_exp, 2)}\\nTest Group = {round(CR_test_exp, 2)}')"
   ]
  },
  {
   "cell_type": "markdown",
   "id": "57d4b447",
   "metadata": {},
   "source": [
    "Итак, показатели среднего чека, количества заказов, ARPU, ARPPU, CR (только в день эксперимента) выше у тестовых групп.\n",
    "\n",
    "Видно, что показатели **ARPPU** и **AVG check** равны. Это значит, что, исходя из формулы **AVG check = Revenue / Orders_num**, каждый покупатель совершил только один заказ, что будет равно **ARPPU = Revenue / Paying_user**\n",
    "\n",
    "Можно не учитывать метрику ARPPU и использовать только метрику AVG check при следующих расчетах, так как значения метрик равны"
   ]
  },
  {
   "cell_type": "markdown",
   "id": "e032f538",
   "metadata": {},
   "source": [
    "### 6) Выбор метода для проверки гипотез"
   ]
  },
  {
   "cell_type": "markdown",
   "id": "1a65d4b3",
   "metadata": {},
   "source": [
    "#### Проверка на нормальность распределения"
   ]
  },
  {
   "cell_type": "markdown",
   "id": "cdbe49ae",
   "metadata": {},
   "source": [
    "Зачем проверять данные на нормальность распределения? - Для того, чтобы провести Т-тест, нужно помнить о том, что:\n",
    "1. Дисперсии внутри наших групп должны быть примерно одинаковы (требование гомогенности дисперсий).\n",
    "2. Данные должны быть распределены нормальным образом, так как тест параметрический.\n",
    "3. Если данные будут распределены не нормально, то придется применять непараметрические аналоги.\n",
    "\n",
    "Посмотрим распределение данных тестовой и контрольной группы, которые были включены в эксперимент"
   ]
  },
  {
   "cell_type": "markdown",
   "id": "f5351b69",
   "metadata": {},
   "source": [
    "У контрольной группы распределение отличается от нормального. Это видно из графика распределения и qqplot'а"
   ]
  },
  {
   "cell_type": "code",
   "execution_count": 56,
   "id": "d1c20092",
   "metadata": {},
   "outputs": [
    {
     "data": {
      "text/plain": [
       "<AxesSubplot:xlabel='rev', ylabel='Count'>"
      ]
     },
     "execution_count": 56,
     "metadata": {},
     "output_type": "execute_result"
    },
    {
     "data": {
      "image/png": "[encoded data removed]",
      "text/plain": [
       "<Figure size 640x480 with 1 Axes>"
      ]
     },
     "metadata": {},
     "output_type": "display_data"
    }
   ],
   "source": [
    "plt.figure(figsize=(8, 6), dpi=80)\n",
    "sns.histplot(data = group_control_exp[group_control_exp['made_purchase'] == True], x='rev', kde=True)"
   ]
  },
  {
   "cell_type": "code",
   "execution_count": 57,
   "id": "d81b2352",
   "metadata": {
    "scrolled": false
   },
   "outputs": [
    {
     "data": {
      "text/plain": [
       "<Figure size 400x300 with 0 Axes>"
      ]
     },
     "metadata": {},
     "output_type": "display_data"
    },
    {
     "data": {
      "image/png": "[encoded data removed]",
      "text/plain": [
       "<Figure size 640x480 with 1 Axes>"
      ]
     },
     "metadata": {},
     "output_type": "display_data"
    }
   ],
   "source": [
    "plt.figure(figsize = (8,6), dpi=50)\n",
    "sm.qqplot(group_control_exp[group_control_exp['made_purchase'] == True].rev.values, line='r')\n",
    "plt.show()"
   ]
  },
  {
   "cell_type": "markdown",
   "id": "803cc67f",
   "metadata": {},
   "source": [
    "Попробуем прологарифмировать данные. Но, к сожалению, распределение все еще не нормальное"
   ]
  },
  {
   "cell_type": "code",
   "execution_count": 58,
   "id": "7b485f95",
   "metadata": {
    "scrolled": false
   },
   "outputs": [
    {
     "data": {
      "text/plain": [
       "<Figure size 400x300 with 0 Axes>"
      ]
     },
     "metadata": {},
     "output_type": "display_data"
    },
    {
     "data": {
      "image/png": "[encoded data removed]",
      "text/plain": [
       "<Figure size 640x480 with 1 Axes>"
      ]
     },
     "metadata": {},
     "output_type": "display_data"
    }
   ],
   "source": [
    "plt.figure(figsize = (8,6), dpi=50)\n",
    "sm.qqplot(np.log(group_control_exp[group_control_exp['made_purchase'] == True].rev.values), line='r')\n",
    "plt.show()"
   ]
  },
  {
   "cell_type": "markdown",
   "id": "6c6fcfcc",
   "metadata": {},
   "source": [
    "У тестовой группы распределение отличается от нормального. Это видно из графика распределения и qqplot'а"
   ]
  },
  {
   "cell_type": "code",
   "execution_count": 59,
   "id": "69e8137e",
   "metadata": {
    "scrolled": false
   },
   "outputs": [
    {
     "data": {
      "text/plain": [
       "<AxesSubplot:xlabel='rev', ylabel='Count'>"
      ]
     },
     "execution_count": 59,
     "metadata": {},
     "output_type": "execute_result"
    },
    {
     "data": {
      "image/png": "[encoded data removed]",
      "text/plain": [
       "<Figure size 640x480 with 1 Axes>"
      ]
     },
     "metadata": {},
     "output_type": "display_data"
    }
   ],
   "source": [
    "plt.figure(figsize=(8, 6), dpi=80)\n",
    "sns.histplot(data = group_test_exp[group_test_exp['made_purchase'] == True], x='rev', kde=True)"
   ]
  },
  {
   "cell_type": "code",
   "execution_count": 60,
   "id": "a21c75e9",
   "metadata": {},
   "outputs": [
    {
     "data": {
      "text/plain": [
       "<Figure size 400x300 with 0 Axes>"
      ]
     },
     "metadata": {},
     "output_type": "display_data"
    },
    {
     "data": {
      "image/png": "[encoded data removed]",
      "text/plain": [
       "<Figure size 640x480 with 1 Axes>"
      ]
     },
     "metadata": {},
     "output_type": "display_data"
    }
   ],
   "source": [
    "plt.figure(figsize = (8,6), dpi=50)\n",
    "sm.qqplot(group_test_exp[group_test_exp['made_purchase'] == True].rev.values, line='r')\n",
    "plt.show()"
   ]
  },
  {
   "cell_type": "markdown",
   "id": "8d62b067",
   "metadata": {},
   "source": [
    "Также проверим распределение с помощью теста Агостино-Пирсона. Тест показал, что распределения отличаются от нормального"
   ]
  },
  {
   "cell_type": "code",
   "execution_count": 61,
   "id": "431ea03c",
   "metadata": {},
   "outputs": [
    {
     "data": {
      "text/html": [
       "<div>\n",
       "<style scoped>\n",
       "    .dataframe tbody tr th:only-of-type {\n",
       "        vertical-align: middle;\n",
       "    }\n",
       "\n",
       "    .dataframe tbody tr th {\n",
       "        vertical-align: top;\n",
       "    }\n",
       "\n",
       "    .dataframe thead th {\n",
       "        text-align: right;\n",
       "    }\n",
       "</style>\n",
       "<table border=\"1\" class=\"dataframe\">\n",
       "  <thead>\n",
       "    <tr style=\"text-align: right;\">\n",
       "      <th></th>\n",
       "      <th>W</th>\n",
       "      <th>pval</th>\n",
       "      <th>normal</th>\n",
       "    </tr>\n",
       "    <tr>\n",
       "      <th>grp</th>\n",
       "      <th></th>\n",
       "      <th></th>\n",
       "      <th></th>\n",
       "    </tr>\n",
       "  </thead>\n",
       "  <tbody>\n",
       "    <tr>\n",
       "      <th>A</th>\n",
       "      <td>52.218452</td>\n",
       "      <td>4.580439e-12</td>\n",
       "      <td>False</td>\n",
       "    </tr>\n",
       "    <tr>\n",
       "      <th>B</th>\n",
       "      <td>33.195875</td>\n",
       "      <td>6.188814e-08</td>\n",
       "      <td>False</td>\n",
       "    </tr>\n",
       "  </tbody>\n",
       "</table>\n",
       "</div>"
      ],
      "text/plain": [
       "             W          pval  normal\n",
       "grp                                 \n",
       "A    52.218452  4.580439e-12   False\n",
       "B    33.195875  6.188814e-08   False"
      ]
     },
     "execution_count": 61,
     "metadata": {},
     "output_type": "execute_result"
    }
   ],
   "source": [
    "pg.normality(data=groups_merged[groups_merged['made_purchase'] == True], \\\n",
    "             dv='rev', group='grp', method='normaltest', alpha=0.05)"
   ]
  },
  {
   "cell_type": "markdown",
   "id": "e0bdefd9",
   "metadata": {},
   "source": [
    "#### Проверка гомогенности дисперсий"
   ]
  },
  {
   "cell_type": "markdown",
   "id": "0092dc07",
   "metadata": {},
   "source": [
    "Проверим гомогенность дисперсий. Используем критерий Левена и тест Анова-Уэлча. Видим, что дисперсии двух различаются"
   ]
  },
  {
   "cell_type": "code",
   "execution_count": 62,
   "id": "09b47385",
   "metadata": {},
   "outputs": [
    {
     "data": {
      "text/html": [
       "<div>\n",
       "<style scoped>\n",
       "    .dataframe tbody tr th:only-of-type {\n",
       "        vertical-align: middle;\n",
       "    }\n",
       "\n",
       "    .dataframe tbody tr th {\n",
       "        vertical-align: top;\n",
       "    }\n",
       "\n",
       "    .dataframe thead th {\n",
       "        text-align: right;\n",
       "    }\n",
       "</style>\n",
       "<table border=\"1\" class=\"dataframe\">\n",
       "  <thead>\n",
       "    <tr style=\"text-align: right;\">\n",
       "      <th></th>\n",
       "      <th>W</th>\n",
       "      <th>pval</th>\n",
       "      <th>equal_var</th>\n",
       "    </tr>\n",
       "  </thead>\n",
       "  <tbody>\n",
       "    <tr>\n",
       "      <th>levene</th>\n",
       "      <td>4.478901</td>\n",
       "      <td>0.034774</td>\n",
       "      <td>False</td>\n",
       "    </tr>\n",
       "  </tbody>\n",
       "</table>\n",
       "</div>"
      ],
      "text/plain": [
       "               W      pval  equal_var\n",
       "levene  4.478901  0.034774      False"
      ]
     },
     "execution_count": 62,
     "metadata": {},
     "output_type": "execute_result"
    }
   ],
   "source": [
    "pg.homoscedasticity(data=groups_merged[groups_merged['made_purchase'] == True], \\\n",
    "                    dv='rev', group='grp', method='levene', alpha=0.05)"
   ]
  },
  {
   "cell_type": "code",
   "execution_count": 63,
   "id": "d30ff990",
   "metadata": {},
   "outputs": [
    {
     "data": {
      "text/html": [
       "<div>\n",
       "<style scoped>\n",
       "    .dataframe tbody tr th:only-of-type {\n",
       "        vertical-align: middle;\n",
       "    }\n",
       "\n",
       "    .dataframe tbody tr th {\n",
       "        vertical-align: top;\n",
       "    }\n",
       "\n",
       "    .dataframe thead th {\n",
       "        text-align: right;\n",
       "    }\n",
       "</style>\n",
       "<table border=\"1\" class=\"dataframe\">\n",
       "  <thead>\n",
       "    <tr style=\"text-align: right;\">\n",
       "      <th></th>\n",
       "      <th>Source</th>\n",
       "      <th>ddof1</th>\n",
       "      <th>ddof2</th>\n",
       "      <th>F</th>\n",
       "      <th>p-unc</th>\n",
       "      <th>np2</th>\n",
       "    </tr>\n",
       "  </thead>\n",
       "  <tbody>\n",
       "    <tr>\n",
       "      <th>0</th>\n",
       "      <td>grp</td>\n",
       "      <td>1</td>\n",
       "      <td>152.06622</td>\n",
       "      <td>8.219795</td>\n",
       "      <td>0.004732</td>\n",
       "      <td>0.016822</td>\n",
       "    </tr>\n",
       "  </tbody>\n",
       "</table>\n",
       "</div>"
      ],
      "text/plain": [
       "  Source  ddof1      ddof2         F     p-unc       np2\n",
       "0    grp      1  152.06622  8.219795  0.004732  0.016822"
      ]
     },
     "execution_count": 63,
     "metadata": {},
     "output_type": "execute_result"
    }
   ],
   "source": [
    "pg.welch_anova(data=groups_merged[groups_merged['made_purchase'] == True], dv='rev', between='grp')"
   ]
  },
  {
   "cell_type": "markdown",
   "id": "9a6fd7f4",
   "metadata": {},
   "source": [
    "#### Проверка на наличие выбросов"
   ]
  },
  {
   "cell_type": "markdown",
   "id": "557326b1",
   "metadata": {},
   "source": [
    "Посмотрим, имеются ли выбросы. Видим, что выбросы есть"
   ]
  },
  {
   "cell_type": "code",
   "execution_count": 64,
   "id": "d94e6617",
   "metadata": {
    "scrolled": false
   },
   "outputs": [
    {
     "data": {
      "text/plain": [
       "Text(0, 0.5, 'Сумма заказов')"
      ]
     },
     "execution_count": 64,
     "metadata": {},
     "output_type": "execute_result"
    },
    {
     "data": {
      "image/png": "[encoded data removed]",
      "text/plain": [
       "<Figure size 640x480 with 1 Axes>"
      ]
     },
     "metadata": {},
     "output_type": "display_data"
    }
   ],
   "source": [
    "sns.boxplot(x = 'grp', y = 'rev', data = groups_merged[groups_merged['made_purchase'] == True])\n",
    "plt.title('Распределение покупок по группам')\n",
    "plt.xlabel('Группа')\n",
    "plt.ylabel('Сумма заказов')"
   ]
  },
  {
   "cell_type": "code",
   "execution_count": 65,
   "id": "399eb920",
   "metadata": {},
   "outputs": [
    {
     "data": {
      "text/plain": [
       "Text(0, 0.5, 'Сумма заказов')"
      ]
     },
     "execution_count": 65,
     "metadata": {},
     "output_type": "execute_result"
    },
    {
     "data": {
      "image/png": "[encoded data removed]",
      "text/plain": [
       "<Figure size 640x480 with 1 Axes>"
      ]
     },
     "metadata": {},
     "output_type": "display_data"
    }
   ],
   "source": [
    "sns.pointplot(x = 'grp', y = 'rev', data = groups_merged[groups_merged['made_purchase'] == True], capsize = .2)\n",
    "plt.title('Распределение покупок по группам')\n",
    "plt.xlabel('Группа')\n",
    "plt.ylabel('Сумма заказов')"
   ]
  },
  {
   "cell_type": "markdown",
   "id": "688ee8c9",
   "metadata": {},
   "source": [
    "Посчитаем значение максимума в данных, которое равно `75th percentile + 1.5 * IQR`, чтобы узнать значение, от которого мы будем отсчитывать выбросы. IQR - inner quartile range (75th percentile - 25th percentile)."
   ]
  },
  {
   "cell_type": "code",
   "execution_count": 66,
   "id": "02fbfaae",
   "metadata": {},
   "outputs": [
    {
     "data": {
      "text/plain": [
       "2351.875"
      ]
     },
     "execution_count": 66,
     "metadata": {},
     "output_type": "execute_result"
    }
   ],
   "source": [
    "(np.quantile(group_control_exp[group_control_exp['made_purchase'] == True].rev, 0.75) - \\\n",
    "np.quantile(group_control_exp[group_control_exp['made_purchase'] == True].rev, 0.25))*1.5 + \\\n",
    "np.quantile(group_control_exp[group_control_exp['made_purchase'] == True].rev, 0.75)"
   ]
  },
  {
   "cell_type": "code",
   "execution_count": 67,
   "id": "49826154",
   "metadata": {},
   "outputs": [
    {
     "data": {
      "text/plain": [
       "3982.375"
      ]
     },
     "execution_count": 67,
     "metadata": {},
     "output_type": "execute_result"
    }
   ],
   "source": [
    "(np.quantile(group_test_exp[group_test_exp['made_purchase'] == True].rev, 0.75) - \\\n",
    "np.quantile(group_test_exp[group_test_exp['made_purchase'] == True].rev, 0.25))*1.5 + \\\n",
    "np.quantile(group_test_exp[group_test_exp['made_purchase'] == True].rev, 0.75)"
   ]
  },
  {
   "cell_type": "markdown",
   "id": "45e3c775",
   "metadata": {},
   "source": [
    "Посчитаем количество выбросов"
   ]
  },
  {
   "cell_type": "code",
   "execution_count": 68,
   "id": "d779dd20",
   "metadata": {},
   "outputs": [
    {
     "name": "stdout",
     "output_type": "stream",
     "text": [
      "Кол-во выбросов контрольной группы: 9\n",
      "Кол-во выбросов тестовой группы: 1\n"
     ]
    }
   ],
   "source": [
    "print('Кол-во выбросов контрольной группы:', \\\n",
    "      group_control_exp[group_control_exp['made_purchase'] == True].query('rev>2351.875').rev.count())\n",
    "print('Кол-во выбросов тестовой группы:', \\\n",
    "      group_test_exp[group_test_exp['made_purchase'] == True].query('rev>3982.375').rev.count())"
   ]
  },
  {
   "cell_type": "markdown",
   "id": "27b7ee9b",
   "metadata": {},
   "source": [
    "**Видим, что выбросов не так много. Если уберем их из данных, то распределение нормальным не станет. Поэтому убирать их из данных не будем.**"
   ]
  },
  {
   "cell_type": "markdown",
   "id": "5785120e",
   "metadata": {},
   "source": [
    "**Итак, исходя из того, что данные распределены не нормально и дисперсии двух групп отличаются, то t-критерий для независимых выборок применить не получится. Для проверки нулевой гипотезы и оценки статистической значимости результатов эксперимента необходимо использовать непараметрические тесты (U-критерий Манна-Уитни - непараметрический аналог Т-теста, bootstrap)**"
   ]
  },
  {
   "cell_type": "markdown",
   "id": "04485e7e",
   "metadata": {},
   "source": [
    "### 7) Сравнение среднего чека двух групп "
   ]
  },
  {
   "cell_type": "markdown",
   "id": "10cc9e75",
   "metadata": {},
   "source": [
    "Итак, сформируем H0 и H1.\n",
    "\n",
    "**H0: средний чек двух групп значимо не отличается \\\n",
    "H1: средний чек двух групп значимо отличается**"
   ]
  },
  {
   "cell_type": "markdown",
   "id": "cf380500",
   "metadata": {},
   "source": [
    "Проведем проверку, используя непараметрический аналог Т-теста - Тест Манна-Уитни и тест Bootstrap."
   ]
  },
  {
   "cell_type": "markdown",
   "id": "078b2b68",
   "metadata": {},
   "source": [
    "**U-критерий Манна-Уитни**"
   ]
  },
  {
   "cell_type": "markdown",
   "id": "2028100b",
   "metadata": {},
   "source": [
    "Тест Манна-Уитни переводит все данные в ранговую шкалу (ранжирует показатели от 1 до последнего), после этого считает какой средний ранг оказался в первой группе и какой во второй. Этот критерий менее чувствителен к экстремальным отклонениям от нормальности и наличию выбросов."
   ]
  },
  {
   "cell_type": "markdown",
   "id": "ce394b06",
   "metadata": {},
   "source": [
    "Тест Манна-Уитни проверяет гипотезу о равенстве распределений. Что значит равенство распределений? Это значит, что случайно выбранное значение из одной выборки может быть равновероятно больше или меньше случайного значения из другой выборки."
   ]
  },
  {
   "cell_type": "markdown",
   "id": "bcb57157",
   "metadata": {},
   "source": [
    "Манн-Уитни как и любой статистический оценщик не очень приветлив к дисбалансу. Это сказывается в первую очередь на мощности критерия – чем сильнее дисбаланс, тем реже критерий будет обнаруживать реальную разницу "
   ]
  },
  {
   "cell_type": "markdown",
   "id": "46ce6c4d",
   "metadata": {},
   "source": [
    "Итак, видим, что p-value < 0.05, значит распределения в группах статистически значимо различаются"
   ]
  },
  {
   "cell_type": "code",
   "execution_count": 69,
   "id": "e3d7b6f2",
   "metadata": {},
   "outputs": [
    {
     "data": {
      "text/plain": [
       "MannwhitneyuResult(statistic=9001.0, pvalue=0.0002511393831406922)"
      ]
     },
     "execution_count": 69,
     "metadata": {},
     "output_type": "execute_result"
    }
   ],
   "source": [
    "ss.mannwhitneyu(group_control_exp[group_control_exp['made_purchase'] == True].rev, \\\n",
    "                         group_test_exp[group_test_exp['made_purchase'] == True].rev)"
   ]
  },
  {
   "cell_type": "markdown",
   "id": "1cd0da63",
   "metadata": {},
   "source": [
    "**Bootstrap**"
   ]
  },
  {
   "cell_type": "markdown",
   "id": "bf8a44d6",
   "metadata": {},
   "source": [
    "Бутстрап позволяет многократно извлекать подвыборки из выборки, полученной в рамках экспериментва\n",
    "\n",
    "В полученных подвыборках считаются статистики, в нашем случае - значение среднего чека подвыборки\n",
    "\n",
    "Затем из среднего подвыборки тестовой группы вычитается среднее подвыборки контрольной группы и записывается в датафрейм"
   ]
  },
  {
   "cell_type": "markdown",
   "id": "1f40a6fb",
   "metadata": {},
   "source": [
    "Объявим функцию, которая позволит проверять гипотезы с помощью бутстрапа"
   ]
  },
  {
   "cell_type": "code",
   "execution_count": 70,
   "id": "673f85ec",
   "metadata": {},
   "outputs": [],
   "source": [
    "def get_bootstrap(\n",
    "    data_column_1, # числовые значения первой выборки\n",
    "    data_column_2, # числовые значения второй выборки\n",
    "    boot_it = 2000, # количество бутстрэп-подвыборок\n",
    "    statistic = np.mean, # интересующая нас статистика\n",
    "    bootstrap_conf_level = 0.95 # уровень значимости\n",
    "):\n",
    "    boot_data = []\n",
    "    for i in tqdm(range(boot_it)): # извлекаем подвыборки\n",
    "        samples_1 = data_column_1.sample(\n",
    "            len(data_column_1), \n",
    "            replace = True # параметр возвращения\n",
    "        ).values\n",
    "        \n",
    "        samples_2 = data_column_2.sample(\n",
    "            len(data_column_1), \n",
    "            replace = True\n",
    "        ).values\n",
    "        \n",
    "        boot_data.append(statistic(samples_1)-statistic(samples_2)) # mean() - применяем статистику\n",
    "        \n",
    "    pd_boot_data = pd.DataFrame(boot_data)\n",
    "        \n",
    "    left_quant = (1 - bootstrap_conf_level)/2\n",
    "    right_quant = 1 - (1 - bootstrap_conf_level) / 2\n",
    "    quants = pd_boot_data.quantile([left_quant, right_quant])\n",
    "        \n",
    "    p_1 = ss.norm.cdf(\n",
    "        x = 0, \n",
    "        loc = np.mean(boot_data), \n",
    "        scale = np.std(boot_data)\n",
    "    )\n",
    "    p_2 = ss.norm.cdf(\n",
    "        x = 0, \n",
    "        loc = -np.mean(boot_data), \n",
    "        scale = np.std(boot_data)\n",
    "    )\n",
    "    p_value = min(p_1, p_2) * 2\n",
    "\n",
    "    # Визуализация\n",
    "    _, _, bars = plt.hist(pd_boot_data[0], bins = 50)\n",
    "    for bar in bars:\n",
    "        if bar.get_x() <= quants.iloc[0][0] or bar.get_x() >= quants.iloc[1][0]:\n",
    "            bar.set_facecolor('red')\n",
    "        else: \n",
    "            bar.set_facecolor('grey')\n",
    "            bar.set_edgecolor('black')\n",
    "    \n",
    "    plt.style.use('ggplot')\n",
    "    plt.vlines(quants,ymin=0,ymax=50,linestyle='--')\n",
    "    plt.xlabel('boot_data')\n",
    "    plt.ylabel('frequency')\n",
    "    plt.title(\"Histogram of boot_data\")\n",
    "    plt.show()\n",
    "       \n",
    "    return {\"boot_data\": boot_data, \n",
    "            \"quants\": quants, \n",
    "            \"p_value\": p_value}"
   ]
  },
  {
   "cell_type": "markdown",
   "id": "905ba81b",
   "metadata": {},
   "source": [
    "Построим распределение данных. Видим, что данные распределены нормально (что не удивительно, так как мы извлекали 2000 раз подвыборки и возвращали значения обратно в наши тестовую и контрольную выборки, считали среднее подвыборок и записывали значения разницы этих средних, что и позволило нам получить нормальное распределение согласно ЦПТ) "
   ]
  },
  {
   "cell_type": "code",
   "execution_count": 71,
   "id": "62bfc1c8",
   "metadata": {
    "scrolled": false
   },
   "outputs": [
    {
     "data": {
      "application/vnd.jupyter.widget-view+json": {
       "model_id": "e6854a61615b42ba870c62e3d41fb751",
       "version_major": 2,
       "version_minor": 0
      },
      "text/plain": [
       "  0%|          | 0/2000 [00:00<?, ?it/s]"
      ]
     },
     "metadata": {},
     "output_type": "display_data"
    },
    {
     "data": {
      "image/png": "[encoded data removed]",
      "text/plain": [
       "<Figure size 640x480 with 1 Axes>"
      ]
     },
     "metadata": {},
     "output_type": "display_data"
    }
   ],
   "source": [
    "booted_data = get_bootstrap(\n",
    "    group_test_exp[group_test_exp['made_purchase'] == True].rev, # числовые значения первой выборки\n",
    "    group_control_exp[group_control_exp['made_purchase'] == True].rev # числовые значения второй выборки\n",
    ")"
   ]
  },
  {
   "cell_type": "markdown",
   "id": "79442cd3",
   "metadata": {},
   "source": [
    "**Итак, p-value < 0.05, что позволяет нам отклонить H0 гипотезу и принять H1 гипотезу о том, что значения среднего чека двух групп различаются.**"
   ]
  },
  {
   "cell_type": "code",
   "execution_count": 72,
   "id": "3770fba1",
   "metadata": {},
   "outputs": [
    {
     "data": {
      "text/plain": [
       "1.4627428950178826e-06"
      ]
     },
     "execution_count": 72,
     "metadata": {},
     "output_type": "execute_result"
    }
   ],
   "source": [
    "booted_data[\"p_value\"]"
   ]
  },
  {
   "cell_type": "markdown",
   "id": "2a0a67c5",
   "metadata": {},
   "source": [
    "**Также видно, что значение 0 не попадает в ДИ, что тоже позволяет отклонить H0**"
   ]
  },
  {
   "cell_type": "code",
   "execution_count": 73,
   "id": "21a06e08",
   "metadata": {},
   "outputs": [
    {
     "data": {
      "text/html": [
       "<div>\n",
       "<style scoped>\n",
       "    .dataframe tbody tr th:only-of-type {\n",
       "        vertical-align: middle;\n",
       "    }\n",
       "\n",
       "    .dataframe tbody tr th {\n",
       "        vertical-align: top;\n",
       "    }\n",
       "\n",
       "    .dataframe thead th {\n",
       "        text-align: right;\n",
       "    }\n",
       "</style>\n",
       "<table border=\"1\" class=\"dataframe\">\n",
       "  <thead>\n",
       "    <tr style=\"text-align: right;\">\n",
       "      <th></th>\n",
       "      <th>0</th>\n",
       "    </tr>\n",
       "  </thead>\n",
       "  <tbody>\n",
       "    <tr>\n",
       "      <th>0.025</th>\n",
       "      <td>192.916893</td>\n",
       "    </tr>\n",
       "    <tr>\n",
       "      <th>0.975</th>\n",
       "      <td>454.303118</td>\n",
       "    </tr>\n",
       "  </tbody>\n",
       "</table>\n",
       "</div>"
      ],
      "text/plain": [
       "                0\n",
       "0.025  192.916893\n",
       "0.975  454.303118"
      ]
     },
     "execution_count": 73,
     "metadata": {},
     "output_type": "execute_result"
    }
   ],
   "source": [
    "booted_data[\"quants\"]"
   ]
  },
  {
   "cell_type": "markdown",
   "id": "30c87719",
   "metadata": {},
   "source": [
    "Проведем еще раз bootstrap, но с подсчетом другой статистики - медианы"
   ]
  },
  {
   "cell_type": "code",
   "execution_count": 74,
   "id": "e9552396",
   "metadata": {},
   "outputs": [],
   "source": [
    "def get_bootstrap_median(\n",
    "    data_column_1, # числовые значения первой выборки\n",
    "    data_column_2, # числовые значения второй выборки\n",
    "    boot_it = 2000, # количество бутстрэп-подвыборок\n",
    "    statistic = np.median, # интересующая нас статистика\n",
    "    bootstrap_conf_level = 0.95 # уровень значимости\n",
    "):\n",
    "    boot_data = []\n",
    "    for i in tqdm(range(boot_it)): # извлекаем подвыборки\n",
    "        samples_1 = data_column_1.sample(\n",
    "            len(data_column_1), \n",
    "            replace = True # параметр возвращения\n",
    "        ).values\n",
    "        \n",
    "        samples_2 = data_column_2.sample(\n",
    "            len(data_column_1), \n",
    "            replace = True\n",
    "        ).values\n",
    "        \n",
    "        boot_data.append(statistic(samples_1)-statistic(samples_2)) # mean() - применяем статистику\n",
    "        \n",
    "    pd_boot_data = pd.DataFrame(boot_data)\n",
    "        \n",
    "    left_quant = (1 - bootstrap_conf_level)/2\n",
    "    right_quant = 1 - (1 - bootstrap_conf_level) / 2\n",
    "    quants = pd_boot_data.quantile([left_quant, right_quant])\n",
    "        \n",
    "    p_1 = ss.norm.cdf(\n",
    "        x = 0, \n",
    "        loc = np.median(boot_data), \n",
    "        scale = np.std(boot_data)\n",
    "    )\n",
    "    p_2 = ss.norm.cdf(\n",
    "        x = 0, \n",
    "        loc = -np.median(boot_data), \n",
    "        scale = np.std(boot_data)\n",
    "    )\n",
    "    p_value = min(p_1, p_2) * 2\n",
    "\n",
    "    # Визуализация\n",
    "    _, _, bars = plt.hist(pd_boot_data[0], bins = 50)\n",
    "    for bar in bars:\n",
    "        if bar.get_x() <= quants.iloc[0][0] or bar.get_x() >= quants.iloc[1][0]:\n",
    "            bar.set_facecolor('red')\n",
    "        else: \n",
    "            bar.set_facecolor('grey')\n",
    "            bar.set_edgecolor('black')\n",
    "    \n",
    "    plt.style.use('ggplot')\n",
    "    plt.vlines(quants,ymin=0,ymax=50,linestyle='--')\n",
    "    plt.xlabel('boot_data')\n",
    "    plt.ylabel('frequency')\n",
    "    plt.title(\"Histogram of boot_data\")\n",
    "    plt.show()\n",
    "       \n",
    "    return {\"boot_data\": boot_data, \n",
    "            \"quants\": quants, \n",
    "            \"p_value\": p_value}"
   ]
  },
  {
   "cell_type": "markdown",
   "id": "e7929ea1",
   "metadata": {},
   "source": [
    "Видим, что данные распределены не нормально, что не позволяет использовать данную статистику при определении статистической значимости различий средних"
   ]
  },
  {
   "cell_type": "code",
   "execution_count": 75,
   "id": "fb330838",
   "metadata": {
    "scrolled": false
   },
   "outputs": [
    {
     "data": {
      "application/vnd.jupyter.widget-view+json": {
       "model_id": "0f64314035ec4f9f894ae0abf3e2ee58",
       "version_major": 2,
       "version_minor": 0
      },
      "text/plain": [
       "  0%|          | 0/2000 [00:00<?, ?it/s]"
      ]
     },
     "metadata": {},
     "output_type": "display_data"
    },
    {
     "data": {
      "image/png": "[encoded data removed]",
      "text/plain": [
       "<Figure size 640x480 with 1 Axes>"
      ]
     },
     "metadata": {},
     "output_type": "display_data"
    }
   ],
   "source": [
    "booted_data_median = get_bootstrap_median(group_test_exp[group_test_exp['made_purchase'] == True].rev, # числовые значения первой выборки\n",
    "                    group_control_exp[group_control_exp['made_purchase'] == True].rev # числовые значения второй выборки\n",
    "                    )"
   ]
  },
  {
   "cell_type": "markdown",
   "id": "5cf932b2",
   "metadata": {},
   "source": [
    "### 8) Сравнение CR двух групп "
   ]
  },
  {
   "cell_type": "markdown",
   "id": "bd4c1257",
   "metadata": {},
   "source": [
    "Для того, чтобы понять взаимосвязаны ли два номинальных (дискретных) признака (группа - А/Б и факт покупки - купил/не купил), необходимо применить критерий Хи-квадрат. Другими словами, с помощью Хи-квадрат можно проверить, есть ли взаимосвязь между группой и количеством покупок. "
   ]
  },
  {
   "cell_type": "markdown",
   "id": "5a46dc19",
   "metadata": {},
   "source": [
    "Хи-квадрат проверяет гипотезу о различии распределения выборки от ожидаемого. То есть отличаются ли наблюдаемые значения (observed) в таблице сопряженности от ожидаемых значений (expected). Если отличия распределения выборки от ожидаемого статистически значимо, то номинативные переменные (группа и факт покупки) взаимосвязаны между собой."
   ]
  },
  {
   "cell_type": "markdown",
   "id": "a002b9c2",
   "metadata": {},
   "source": [
    "Датафрейм, который будем использовать"
   ]
  },
  {
   "cell_type": "code",
   "execution_count": 81,
   "id": "6f5d7f96",
   "metadata": {},
   "outputs": [
    {
     "data": {
      "text/html": [
       "<div>\n",
       "<style scoped>\n",
       "    .dataframe tbody tr th:only-of-type {\n",
       "        vertical-align: middle;\n",
       "    }\n",
       "\n",
       "    .dataframe tbody tr th {\n",
       "        vertical-align: top;\n",
       "    }\n",
       "\n",
       "    .dataframe thead th {\n",
       "        text-align: right;\n",
       "    }\n",
       "</style>\n",
       "<table border=\"1\" class=\"dataframe\">\n",
       "  <thead>\n",
       "    <tr style=\"text-align: right;\">\n",
       "      <th></th>\n",
       "      <th>id</th>\n",
       "      <th>grp</th>\n",
       "      <th>exp_participated</th>\n",
       "      <th>rev</th>\n",
       "      <th>made_purchase</th>\n",
       "    </tr>\n",
       "  </thead>\n",
       "  <tbody>\n",
       "    <tr>\n",
       "      <th>1</th>\n",
       "      <td>1627</td>\n",
       "      <td>A</td>\n",
       "      <td>1.0</td>\n",
       "      <td>990.0</td>\n",
       "      <td>True</td>\n",
       "    </tr>\n",
       "    <tr>\n",
       "      <th>10</th>\n",
       "      <td>2085</td>\n",
       "      <td>B</td>\n",
       "      <td>1.0</td>\n",
       "      <td>0.0</td>\n",
       "      <td>False</td>\n",
       "    </tr>\n",
       "    <tr>\n",
       "      <th>12</th>\n",
       "      <td>2215</td>\n",
       "      <td>B</td>\n",
       "      <td>1.0</td>\n",
       "      <td>0.0</td>\n",
       "      <td>False</td>\n",
       "    </tr>\n",
       "    <tr>\n",
       "      <th>43</th>\n",
       "      <td>3391</td>\n",
       "      <td>A</td>\n",
       "      <td>1.0</td>\n",
       "      <td>0.0</td>\n",
       "      <td>False</td>\n",
       "    </tr>\n",
       "    <tr>\n",
       "      <th>45</th>\n",
       "      <td>3401</td>\n",
       "      <td>B</td>\n",
       "      <td>1.0</td>\n",
       "      <td>0.0</td>\n",
       "      <td>False</td>\n",
       "    </tr>\n",
       "  </tbody>\n",
       "</table>\n",
       "</div>"
      ],
      "text/plain": [
       "      id grp  exp_participated    rev  made_purchase\n",
       "1   1627   A               1.0  990.0           True\n",
       "10  2085   B               1.0    0.0          False\n",
       "12  2215   B               1.0    0.0          False\n",
       "43  3391   A               1.0    0.0          False\n",
       "45  3401   B               1.0    0.0          False"
      ]
     },
     "execution_count": 81,
     "metadata": {},
     "output_type": "execute_result"
    }
   ],
   "source": [
    "groups_merged[groups_merged['exp_participated'] == 1].head()"
   ]
  },
  {
   "cell_type": "markdown",
   "id": "4c73fcb1",
   "metadata": {},
   "source": [
    "Составим нулевую и альтенативную гипотезу: \\\n",
    "**H0: взаимосвязи между двумя номинативными признаками нет** \\\n",
    "**H1: взаимосвязь между двумя номинативными признаками есть**"
   ]
  },
  {
   "cell_type": "markdown",
   "id": "6fb49654",
   "metadata": {},
   "source": [
    "Составим таблицу сопряженности для подсчета статистики Хи квадрат. Итак, мы получили observed значения для проведения теста"
   ]
  },
  {
   "cell_type": "code",
   "execution_count": 88,
   "id": "c4575c78",
   "metadata": {},
   "outputs": [],
   "source": [
    "observed_values = pd.crosstab(index = groups_merged[groups_merged['exp_participated'] == 1].grp, \\\n",
    "            columns = groups_merged[groups_merged['exp_participated'] == 1].made_purchase)"
   ]
  },
  {
   "cell_type": "code",
   "execution_count": 89,
   "id": "3a530128",
   "metadata": {},
   "outputs": [
    {
     "data": {
      "text/html": [
       "<div>\n",
       "<style scoped>\n",
       "    .dataframe tbody tr th:only-of-type {\n",
       "        vertical-align: middle;\n",
       "    }\n",
       "\n",
       "    .dataframe tbody tr th {\n",
       "        vertical-align: top;\n",
       "    }\n",
       "\n",
       "    .dataframe thead th {\n",
       "        text-align: right;\n",
       "    }\n",
       "</style>\n",
       "<table border=\"1\" class=\"dataframe\">\n",
       "  <thead>\n",
       "    <tr style=\"text-align: right;\">\n",
       "      <th>made_purchase</th>\n",
       "      <th>False</th>\n",
       "      <th>True</th>\n",
       "    </tr>\n",
       "    <tr>\n",
       "      <th>grp</th>\n",
       "      <th></th>\n",
       "      <th></th>\n",
       "    </tr>\n",
       "  </thead>\n",
       "  <tbody>\n",
       "    <tr>\n",
       "      <th>A</th>\n",
       "      <td>1460</td>\n",
       "      <td>78</td>\n",
       "    </tr>\n",
       "    <tr>\n",
       "      <th>B</th>\n",
       "      <td>6489</td>\n",
       "      <td>314</td>\n",
       "    </tr>\n",
       "  </tbody>\n",
       "</table>\n",
       "</div>"
      ],
      "text/plain": [
       "made_purchase  False  True\n",
       "grp                       \n",
       "A               1460    78\n",
       "B               6489   314"
      ]
     },
     "execution_count": 89,
     "metadata": {},
     "output_type": "execute_result"
    }
   ],
   "source": [
    "observed_values"
   ]
  },
  {
   "cell_type": "markdown",
   "id": "8708f9d4",
   "metadata": {},
   "source": [
    "С помощью теста определим статистику Хи-квадрат и величину p-value, которая нам покажет вероятность получить такие или еще более выраженные отклонения при верности нулевой гипотезы. Expected значения посчитаются автоматически с помощью метода библиотеки scipy"
   ]
  },
  {
   "cell_type": "code",
   "execution_count": 92,
   "id": "e4c9e13d",
   "metadata": {},
   "outputs": [],
   "source": [
    "chi2, prob, df, expected = ss.chi2_contingency(observed_values, correction=True)"
   ]
  },
  {
   "cell_type": "markdown",
   "id": "4d4ab7f0",
   "metadata": {},
   "source": [
    "Итак, видим, что значение p-value > 0.05, значит нет оснований отклонить нулевую гипотезу о том, что взимосвязи между группой и количеством совершенных покупок нет"
   ]
  },
  {
   "cell_type": "code",
   "execution_count": 96,
   "id": "95815af8",
   "metadata": {},
   "outputs": [
    {
     "name": "stdout",
     "output_type": "stream",
     "text": [
      "statictics: 0.48480826522557896\n",
      "p_value: 0.48625240457231045\n",
      "degrees of freedom: 1\n",
      "expected values:\n",
      " [[1465.71897854   72.28102146]\n",
      " [6483.28102146  319.71897854]]\n"
     ]
    }
   ],
   "source": [
    "print(f'statictics: {chi2}\\np_value: {prob}\\ndegrees of freedom: {df}\\nexpected values:\\n {expected}')"
   ]
  },
  {
   "cell_type": "markdown",
   "id": "74878efb",
   "metadata": {},
   "source": [
    "## Вывод:\n",
    "**1) Bootstrap показал, что значения среднего чека двух групп отличаются статистически значимо.** \\\n",
    "AVG Check of experiment days: \\\n",
    "Control Group = 933.59 \\\n",
    "Test Group = 1257.88\n",
    "\n",
    "**2) Критерий Хи-квадрат показал, что количество совершенных покупок статистически значимо не отличается между контрольной и тестовой группой.** \\\n",
    "CR of experiment days: \\\n",
    "Control Group = 5.07 \\\n",
    "Test Group = 4.62\n",
    "\n",
    "Следовательно, показатель конверсии CR = buyers / users (где buyers = orders, так как каждый покупатель совершил только одну покупку) не зависит от группы. Фактом снижения CR в тестовой группе можно пренебречь.\n",
    "\n",
    "\n",
    "**Таким образом, можно сделать вывод, что применение новой механики оплаты услуг на сайте (тестовая группа) целесообразоно, так как это увеличивает метрику среднего чека, хотя и не влияет на конверсию.**"
   ]
  },
  {
   "cell_type": "markdown",
   "id": "c452484c",
   "metadata": {},
   "source": [
    "# Задание 2. SQL"
   ]
  },
  {
   "cell_type": "markdown",
   "id": "0d5ca205",
   "metadata": {},
   "source": [
    "## 2.1 Очень усердные ученики."
   ]
  },
  {
   "cell_type": "markdown",
   "id": "6c2ef570",
   "metadata": {},
   "source": [
    "### 2.1.1 Условие"
   ]
  },
  {
   "cell_type": "markdown",
   "id": "aaa92a43",
   "metadata": {},
   "source": [
    "Образовательные курсы состоят из различных уроков, каждый из которых состоит из нескольких маленьких заданий. Каждое такое маленькое задание называется \"горошиной\".\n",
    "\n",
    "Назовём очень усердным учеником того пользователя, который хотя бы раз за текущий месяц правильно решил 20 горошин за час."
   ]
  },
  {
   "cell_type": "markdown",
   "id": "12e52ecc",
   "metadata": {},
   "source": [
    "### 2.1.2 Задача"
   ]
  },
  {
   "cell_type": "markdown",
   "id": "bb9e7b1a",
   "metadata": {},
   "source": [
    "Дана таблица peas:\n",
    "\n",
    "st_id - ID ученика \\\n",
    "timest - Время решения карточки \\\n",
    "correct - Правильно ли решена горошина? \\\n",
    "subject - Дисциплина, в которой находится горошина\n",
    "\n",
    "Необходимо написать оптимальный запрос, который даст информацию о количестве очень усердных студентов за октябрь 2021 года."
   ]
  },
  {
   "cell_type": "markdown",
   "id": "036b7b2d",
   "metadata": {},
   "source": [
    "```\n",
    "SELECT count(distinct st_id) as diligent_students_number  \n",
    "FROM(  \n",
    "    SELECT st_id,  \n",
    "            toHour(timest) as hour,  \n",
    "            toDayOfMonth(timest) as day,  \n",
    "            count(correct) as correct_solutions  \n",
    "     FROM peas  \n",
    "     WHERE toStartOfMonth(timest) = '2021-10-01' and correct = 1  \n",
    "     GROUP BY st_id, day, hour) t1  \n",
    "WHERE correct_solutions >= 20\n",
    "```"
   ]
  },
  {
   "cell_type": "markdown",
   "id": "079bf2b6",
   "metadata": {},
   "source": [
    "## 2.2 Оптимизация воронки"
   ]
  },
  {
   "cell_type": "markdown",
   "id": "bce2b00f",
   "metadata": {},
   "source": [
    "### 2.2.1 Условие"
   ]
  },
  {
   "cell_type": "markdown",
   "id": "5dcd9a83",
   "metadata": {},
   "source": [
    "Образовательная платформа предлагает пройти студентам курсы по модели trial: студент может решить бесплатно лишь 30 горошин в день. Для неограниченного количества заданий в определенной дисциплине студенту необходимо приобрести полный доступ. Команда провела эксперимент, где был протестирован новый экран оплаты."
   ]
  },
  {
   "cell_type": "markdown",
   "id": "48c480c7",
   "metadata": {},
   "source": [
    "### 2.2.2 Задача"
   ]
  },
  {
   "cell_type": "markdown",
   "id": "4510211f",
   "metadata": {},
   "source": [
    "**Даны:**\n",
    "\n",
    "таблица peas:\n",
    "\n",
    "- st_id - ID ученика\n",
    "- timest - Время решения карточки\n",
    "- correct - Правильно ли решена горошина?\n",
    "- subject - Дисциплина, в которой находится горошина\n",
    "\n",
    "таблица studs:\n",
    "- st_id - ID ученика\n",
    "- test_grp - Метка ученика в данном эксперименте\n",
    "\n",
    "таблица checks:\n",
    "- st_id - ID ученика\n",
    "- sale_time - Время покупки\n",
    "- money - Цена, по которой приобрели данный курс\n",
    "- subject - Дисциплина, на которую приобрели полный доступ\n",
    "\n",
    "**Необходимо в одном запросе выгрузить следующую информацию о группах пользователей:**\n",
    "- ARPU\n",
    "- ARPAU\n",
    "- CR в покупку\n",
    "- СR активного пользователя в покупку\n",
    "- CR пользователя из активности по математике (subject = ’math’) в покупку курса по математике"
   ]
  },
  {
   "cell_type": "markdown",
   "id": "af35d093",
   "metadata": {},
   "source": [
    "```\n",
    "SELECT\n",
    "    t1.test_grp AS group,\n",
    "    ROUND(revenue/all_users, 2) AS ARPU,\n",
    "    ROUND(revenue/active_users, 2) AS ARPAU,\n",
    "    ROUND(100*paid_users/all_users, 2) AS CR,\n",
    "    ROUND(100*active_paid_users/active_users, 2) AS active_user_CR,\n",
    "    ROUND(100*math_buyers/math_active_students, 2) AS CR_math\n",
    "FROM(\n",
    "    SELECT\n",
    "        test_grp,\n",
    "        SUM(money) AS revenue,\n",
    "        COUNT(DISTINCT f.st_id) filter(WHERE money > 0) AS paid_users\n",
    "    FROM \n",
    "        studs AS s\n",
    "    LEFT JOIN\n",
    "        final_project_check AS f\n",
    "    ON s.st_id = f.st_id\n",
    "    GROUP BY\n",
    "        test_grp) AS t1 -- выручка + общее число покупателей\n",
    "-----------------------\n",
    "LEFT JOIN\n",
    "    (SELECT\n",
    "        test_grp,\n",
    "        COUNT(DISTINCT s.st_id) filter(WHERE) AS active_users,\n",
    "        COUNT(DISTINCT s.st_id) AS all_users\n",
    "    FROM\n",
    "        peas AS p\n",
    "    LEFT JOIN\n",
    "        studs AS s\n",
    "    ON s.st_id = p.st_id\n",
    "    GROUP BY\n",
    "        test_grp) AS t2 -- все юзеры и активные юзеры\n",
    "USING(test_grp)\n",
    "-----------------------\n",
    "LEFT JOIN\n",
    "    (SELECT\n",
    "        test_grp,\n",
    "        COUNT(DISTINCT f.st_id) filter(WHERE correct = 1) AS active_paid_users,\n",
    "        COUNT(DISTINCT p.st_id) filter(WHERE p.subject = 'Math') AS math_active_students,\n",
    "        COUNT(DISTINCT f.st_id) filter(WHERE p.subject = 'Math') AS math_buyers\n",
    "    FROM\n",
    "        peas AS p\n",
    "    LEFT JOIN\n",
    "        default.final_project_check AS f\n",
    "    ON p.st_id = f.st_id and p.subject = f.subject\n",
    "    LEFT JOIN\n",
    "        studs AS s\n",
    "    ON p.st_id = s.st_id\n",
    "    GROUP BY\n",
    "        test_grp) AS t3      -- активные юзеры, совершившые покупку, + активные юзеры курса по мат-ке,\n",
    "ON t1.test_grp = t3.test_grp -- плюс покупатели курса по математике\n",
    "```"
   ]
  },
  {
   "cell_type": "markdown",
   "id": "bf6d8679",
   "metadata": {},
   "source": [
    "## Задание 3. Python"
   ]
  },
  {
   "cell_type": "markdown",
   "id": "ced6aacd",
   "metadata": {},
   "source": [
    "### 3.1 Задача"
   ]
  },
  {
   "cell_type": "markdown",
   "id": "1efa57c7",
   "metadata": {},
   "source": [
    "1. Реализуйте функцию, которая будет автоматически подгружать информацию из дополнительного файла groups_add.csv (заголовки могут отличаться) и на основании дополнительных параметров пересчитывать метрики.\n",
    "2. Реализуйте функцию, которая будет строить графики по получаемым метрикам."
   ]
  },
  {
   "cell_type": "markdown",
   "id": "99c5ac7d",
   "metadata": {},
   "source": [
    "#### 1. Функция для загрузки дополнительного файла и пересчета метрик"
   ]
  },
  {
   "cell_type": "markdown",
   "id": "f52f7a00",
   "metadata": {},
   "source": [
    "Создадим переменную public_key_add, куда будем помещать ссылку с новым файлом groups_add"
   ]
  },
  {
   "cell_type": "code",
   "execution_count": 198,
   "id": "235f6320",
   "metadata": {},
   "outputs": [],
   "source": [
    "base_url = 'https://cloud-api.yandex.net/v1/disk/public/resources/download?'\n",
    "public_key_add = 'https://disk.yandex.ru/d/5Kxrz02m3IBUwQ'"
   ]
  },
  {
   "cell_type": "markdown",
   "id": "873af67b",
   "metadata": {},
   "source": [
    "Получаем url для загрузки файла"
   ]
  },
  {
   "cell_type": "code",
   "execution_count": 199,
   "id": "94fb22dc",
   "metadata": {},
   "outputs": [],
   "source": [
    "final_url_add = base_url + urlencode(dict(public_key=public_key_add)) \n",
    "response_add = requests.get(final_url_add)\n",
    "download_url_add = response_add.json()['href']"
   ]
  },
  {
   "cell_type": "markdown",
   "id": "80805b2d",
   "metadata": {},
   "source": [
    "Загружаем датафрейм"
   ]
  },
  {
   "cell_type": "code",
   "execution_count": 230,
   "id": "6d95afcf",
   "metadata": {},
   "outputs": [],
   "source": [
    "download_response = requests.get(download_url_add)\n",
    "new_file = pd.read_csv(download_url_add)"
   ]
  },
  {
   "cell_type": "markdown",
   "id": "c1d41dca",
   "metadata": {},
   "source": [
    "Создаем функцию"
   ]
  },
  {
   "cell_type": "code",
   "execution_count": 393,
   "id": "ddf5258a",
   "metadata": {},
   "outputs": [],
   "source": [
    "def new_data(groups, new_file, active_studs, checks):\n",
    "\n",
    "    # так как название колонок может отличатся, то приводим колонки к нужному нам виду     \n",
    "    new_file.rename(columns = {new_file.columns[0]:'id', new_file.columns[1]:'grp'}, inplace = True)\n",
    "    active_studs.rename(columns = {active_studs.columns[0]:'id', active_studs.columns[1]:'exp'}, inplace = True)\n",
    "    checks.rename(columns = {checks.columns[0]:'id'}, inplace = True)\n",
    "    \n",
    "    # избавляемся от дупликатов, если они есть\n",
    "    groups.drop_duplicates(subset = ['id'], inplace=True)\n",
    "    new_file.drop_duplicates(subset = ['id'], inplace=True)\n",
    "    active_studs.drop_duplicates(subset = ['id'], inplace=True)\n",
    "    checks.drop_duplicates(subset = ['id'], inplace=True)\n",
    "    \n",
    "    # дропаем отсутствующие значения\n",
    "    new_file.dropna(inplace = True)\n",
    "    groups.dropna(inplace = True)\n",
    "    active_studs.dropna(inplace = True)\n",
    "    checks.dropna(inplace = True)\n",
    "    \n",
    "    # приводим данные к нужному типу\n",
    "    new_file = new_file.astype({'id':'int64', 'grp':'string'})\n",
    "    groups = groups.astype({'id':'int64', 'grp':'string'})\n",
    "    active_studs = active_studs.astype({'id':'int64', 'exp':'int8'})\n",
    "    checks = checks.astype({'id':'int64', 'rev':'int32'})\n",
    "    \n",
    "    # добавим данные из нового датафрейма в df groups\n",
    "    groups_all = pd.concat([groups, new_file], ignore_index=True, axis=0).drop_duplicates()\n",
    "    \n",
    "    # джоиним active_studs с checks и groups_all для создания датафрейма с данными эксперимента\n",
    "    exp_final_data = active_studs \\\n",
    "    .merge(groups_all, how='inner', on='id').fillna(0) \\\n",
    "    .merge(checks, how='left', on='id').fillna(0)\n",
    "    \n",
    "    # считаем метрики\n",
    "    final_data = exp_final_data.groupby(['grp'], as_index=False).agg({'rev':'sum'}) \\\n",
    "              .rename(columns={'rev':'revenue'})\n",
    "    \n",
    "    final_data['customers'] = exp_final_data.query('rev > 0').groupby(['grp'], as_index=False) \\\n",
    "                .agg({'id':'nunique'}).rename(columns={'id':'customers'}).customers\n",
    "    \n",
    "    final_data['users'] = exp_final_data.groupby(['grp'], as_index=False) \\\n",
    "            .agg({'id':'nunique'}).rename(columns={'id':'users'}).users\n",
    "    \n",
    "    final_data['orders'] = exp_final_data.query('rev > 0').groupby(['grp'], as_index=False) \\\n",
    "             .agg({'id':'count'}).rename(columns={'id':'orders'}).orders\n",
    "    \n",
    "    final_data['avg_check'] = final_data['revenue']/final_data['orders']\n",
    "    final_data['ARPU'] = final_data['revenue']/final_data['users']\n",
    "    final_data['ARPPU'] = final_data['revenue']/final_data['customers']\n",
    "    final_data['CR'] = final_data['customers']/final_data['users']*100\n",
    "    \n",
    "    return final_data"
   ]
  },
  {
   "cell_type": "code",
   "execution_count": 394,
   "id": "d6adfd77",
   "metadata": {},
   "outputs": [
    {
     "data": {
      "text/html": [
       "<div>\n",
       "<style scoped>\n",
       "    .dataframe tbody tr th:only-of-type {\n",
       "        vertical-align: middle;\n",
       "    }\n",
       "\n",
       "    .dataframe tbody tr th {\n",
       "        vertical-align: top;\n",
       "    }\n",
       "\n",
       "    .dataframe thead th {\n",
       "        text-align: right;\n",
       "    }\n",
       "</style>\n",
       "<table border=\"1\" class=\"dataframe\">\n",
       "  <thead>\n",
       "    <tr style=\"text-align: right;\">\n",
       "      <th></th>\n",
       "      <th>grp</th>\n",
       "      <th>revenue</th>\n",
       "      <th>customers</th>\n",
       "      <th>users</th>\n",
       "      <th>orders</th>\n",
       "      <th>avg_check</th>\n",
       "      <th>ARPU</th>\n",
       "      <th>ARPPU</th>\n",
       "      <th>CR</th>\n",
       "    </tr>\n",
       "  </thead>\n",
       "  <tbody>\n",
       "    <tr>\n",
       "      <th>0</th>\n",
       "      <td>A</td>\n",
       "      <td>72820.0</td>\n",
       "      <td>78</td>\n",
       "      <td>1538</td>\n",
       "      <td>78</td>\n",
       "      <td>933.589744</td>\n",
       "      <td>47.347204</td>\n",
       "      <td>933.589744</td>\n",
       "      <td>5.071521</td>\n",
       "    </tr>\n",
       "    <tr>\n",
       "      <th>1</th>\n",
       "      <td>B</td>\n",
       "      <td>394974.0</td>\n",
       "      <td>314</td>\n",
       "      <td>6803</td>\n",
       "      <td>314</td>\n",
       "      <td>1257.878981</td>\n",
       "      <td>58.058798</td>\n",
       "      <td>1257.878981</td>\n",
       "      <td>4.615611</td>\n",
       "    </tr>\n",
       "  </tbody>\n",
       "</table>\n",
       "</div>"
      ],
      "text/plain": [
       "  grp   revenue  customers  users  orders    avg_check       ARPU  \\\n",
       "0   A   72820.0         78   1538      78   933.589744  47.347204   \n",
       "1   B  394974.0        314   6803     314  1257.878981  58.058798   \n",
       "\n",
       "         ARPPU        CR  \n",
       "0   933.589744  5.071521  \n",
       "1  1257.878981  4.615611  "
      ]
     },
     "execution_count": 394,
     "metadata": {},
     "output_type": "execute_result"
    }
   ],
   "source": [
    "updated_metrics = new_data(groups, new_file, active_studs, checks)\n",
    "updated_metrics"
   ]
  },
  {
   "cell_type": "markdown",
   "id": "ece404f4",
   "metadata": {},
   "source": [
    "#### 2. Функция, которая будет строить графики по получаемым метрикам."
   ]
  },
  {
   "cell_type": "markdown",
   "id": "86ccf95e",
   "metadata": {},
   "source": [
    "Создаем функцию"
   ]
  },
  {
   "cell_type": "code",
   "execution_count": 412,
   "id": "a9186d00",
   "metadata": {},
   "outputs": [],
   "source": [
    "def graphs(exp_final_data, updated_metrics):\n",
    "    \n",
    "    # создаем фигуру и набор графиков для распределения количества покупок по группам.\n",
    "    # задаем размер графиков и количество строк, столбцов сетки графиков\n",
    "    fig, axes = plt.subplots(nrows=1, ncols=2, figsize=(12, 4))\n",
    "\n",
    "    # распределение количества покупок по группам\n",
    "    sns.histplot(data = exp_final_data.query('grp == \"A\" & rev > 0'), x='rev', ax=axes[0], color='blue')\n",
    "    sns.histplot(exp_final_data.query('grp == \"B\" & rev > 0'), x='rev', ax=axes[1], color='red')\n",
    "    axes[0].set(title='Покупки, группа А', xlabel='checks')\n",
    "    axes[1].set(title='Покупки, группа B', xlabel='checks')\n",
    "    \n",
    "    # создаем фигуру и набор графиков для отображения метрик по группам.\n",
    "    # задаем размер графиков и количество строк, столбцов сетки графиков\n",
    "    fig, axes = plt.subplots(nrows=1, ncols=2, figsize=(12, 4))\n",
    "    \n",
    "    # графики метрик\n",
    "    sns.barplot(x='grp', y='avg_check', data=updated_metrics, ax=axes[0], palette=\"Paired\")\n",
    "    axes[0].set(title='Средний чек', xlabel='groups')\n",
    "    #plt.tight_layout(w_pad=2)\n",
    "\n",
    "    sns.barplot(x='grp', y='CR', data=updated_metrics, ax=axes[1], palette=\"Paired\")\n",
    "    axes[1].set(title='Конверсия в покупку', xlabel='groups')\n",
    "    \n",
    "    # создаем фигуру и набор графиков для отображения метрик по группам.\n",
    "    # задаем размер графиков и количество строк, столбцов сетки графиков\n",
    "    fig, axes = plt.subplots(nrows=1, ncols=2, figsize=(12, 4))\n",
    "\n",
    "    # графики метрик\n",
    "    sns.barplot(x='grp', y='ARPU', data=updated_metrics, ax=axes[0], palette=\"Paired\")\n",
    "    axes[0].set(title='ARPU', xlabel='groups')\n",
    "    \n",
    "    sns.barplot(x='grp', y='orders', data=updated_metrics, ax=axes[1], palette=\"Paired\")\n",
    "    axes[1].set(title='Количество покупок', xlabel='groups')\n",
    "    \n",
    "    plt.show()"
   ]
  },
  {
   "cell_type": "code",
   "execution_count": 413,
   "id": "76a83a9f",
   "metadata": {},
   "outputs": [
    {
     "data": {
      "image/png": "[encoded data removed]",
      "text/plain": [
       "<Figure size 1200x400 with 2 Axes>"
      ]
     },
     "metadata": {},
     "output_type": "display_data"
    },
    {
     "data": {
      "image/png": "[encoded data removed]",
      "text/plain": [
       "<Figure size 1200x400 with 2 Axes>"
      ]
     },
     "metadata": {},
     "output_type": "display_data"
    },
    {
     "data": {
      "image/png": "[encoded data removed]",
      "text/plain": [
       "<Figure size 1200x400 with 2 Axes>"
      ]
     },
     "metadata": {},
     "output_type": "display_data"
    }
   ],
   "source": [
    "graphs(exp_final_data, updated_metrics)"
   ]
  }
 ],
 "metadata": {
  "kernelspec": {
   "display_name": "Python 3 (ipykernel)",
   "language": "python",
   "name": "python3"
  },
  "language_info": {
   "codemirror_mode": {
    "name": "ipython",
    "version": 3
   },
   "file_extension": ".py",
   "mimetype": "text/x-python",
   "name": "python",
   "nbconvert_exporter": "python",
   "pygments_lexer": "ipython3",
   "version": "3.9.13"
  }
 },
 "nbformat": 4,
 "nbformat_minor": 5
}
