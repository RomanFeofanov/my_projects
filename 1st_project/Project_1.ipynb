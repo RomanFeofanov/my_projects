{
 "cells": [
  {
   "cell_type": "markdown",
   "metadata": {},
   "source": [
    "# Project 1. E-commerce"
   ]
  },
  {
   "cell_type": "markdown",
   "metadata": {},
   "source": [
    "## Задание"
   ]
  },
  {
   "cell_type": "markdown",
   "metadata": {},
   "source": [
    "### Условие и вопросы\n",
    "\n",
    "Продакт-менеджер Василий попросил вас проанализировать совершенные покупки и ответить на следующие вопросы:\n",
    "\n",
    "1. Сколько у нас пользователей, которые совершили покупку только один раз?\n",
    "\n",
    "2. Сколько заказов в месяц в среднем не доставляется по разным причинам (вывести детализацию по причинам)?\n",
    "\n",
    "3. По каждому товару определить, в какой день недели товар чаще всего покупается.\n",
    "\n",
    "4. Сколько у каждого из пользователей в среднем покупок в неделю (по месяцам)? Не стоит забывать, что внутри месяца может быть не целое количество недель. Например, в ноябре 2021 года 4,28 недели. И внутри метрики это нужно учесть. \n",
    "\n",
    "5. Используя pandas, проведи когортный анализ пользователей. В период с января по декабрь выяви когорту с самым высоким retention на 3й месяц. Описание подхода можно найти тут.\n",
    "\n",
    "6. Часто для качественного анализа аудитории использую подходы, основанные на сегментации. Используя python, построй RFM-сегментацию пользователей, чтобы качественно оценить свою аудиторию. В кластеризации можешь выбрать следующие метрики: R - время от последней покупки пользователя до текущей даты, F - суммарное количество покупок у пользователя за всё время, M - сумма покупок за всё время. Подробно опиши, как ты создавал кластеры. Для каждого RFM-сегмента построй границы метрик recency, frequency и monetary для интерпретации этих кластеров. Пример такого описания: RFM-сегмент 132 (recency=1, frequency=3, monetary=2) имеет границы метрик recency от 130 до 500 дней, frequency от 2 до 5 заказов в неделю, monetary от 1780 до 3560 рублей в неделю. Описание подхода можно найти тут."
   ]
  },
  {
   "cell_type": "markdown",
   "metadata": {},
   "source": [
    "### Входные данные\n",
    "\n",
    "__olist_customers_datase.csv__ — таблица с уникальными идентификаторами пользователей\n",
    "\n",
    "- __customer_id__ — позаказный идентификатор пользователя\n",
    "\n",
    "- __customer_unique_id__ —  уникальный идентификатор пользователя  (аналог номера паспорта)\n",
    "\n",
    "- __customer_zip_code_prefix__ —  почтовый индекс пользователя\n",
    "\n",
    "- __customer_city__ —  город доставки пользователя\n",
    "\n",
    "- __customer_state__ —  штат доставки пользователя\n",
    "\n",
    "__olist_orders_dataset.csv__ —  таблица заказов\n",
    "\n",
    "- __order_id__ —  уникальный идентификатор заказа (номер чека)\n",
    "\n",
    "- __customer_id__ —  позаказный идентификатор пользователя\n",
    "\n",
    "- __order_status__ —  статус заказа\n",
    "\n",
    "- __order_purchase_timestamp__ —  время создания заказа\n",
    "\n",
    "- __order_approved_at__ —  время подтверждения оплаты заказа\n",
    "\n",
    "- __order_delivered_carrier_date__ —  время передачи заказа в логистическую службу\n",
    "\n",
    "- __order_delivered_customer_date__ —  время доставки заказа\n",
    "\n",
    "- __order_estimated_delivery_date__ —  обещанная дата доставки\n",
    "\n",
    "__olist_order_items_dataset.csv__ —  товарные позиции, входящие в заказы\n",
    "\n",
    "- __order_id__ —  уникальный идентификатор заказа (номер чека)\n",
    "\n",
    "- __order_item_id__ —  идентификатор товара внутри одного заказа\n",
    "\n",
    "- __product_id__ —  ид товара (аналог штрихкода)\n",
    "\n",
    "- __seller_id__ — ид производителя товара\n",
    "\n",
    "- __shipping_limit_date__ —  максимальная дата доставки продавцом для передачи заказа партнеру по логистике\n",
    "\n",
    "- __price__ —  цена за единицу товара\n",
    "\n",
    "- __freight_value__ —  вес товара\n",
    "\n",
    "__Уникальные статусы заказов в таблице olist_orders_dataset:__\n",
    "\n",
    "- __created__ —  создан\n",
    "- __approved__ —  подтверждён\n",
    "- __invoiced__ —  выставлен счёт\n",
    "- __processing__ —  в процессе сборки заказа\n",
    "- __shipped__ —  отгружен со склада\n",
    "- __delivered__ —  доставлен пользователю\n",
    "- __unavailable__ —  недоступен\n",
    "- __canceled__ —  отменён"
   ]
  },
  {
   "cell_type": "markdown",
   "metadata": {},
   "source": [
    "## Решение"
   ]
  },
  {
   "cell_type": "markdown",
   "metadata": {},
   "source": [
    "### Импортируем библиотеки"
   ]
  },
  {
   "cell_type": "code",
   "execution_count": 100,
   "metadata": {},
   "outputs": [],
   "source": [
    "import pandas as pd\n",
    "import numpy as np\n",
    "import seaborn as sns\n",
    "import matplotlib\n",
    "import io\n",
    "import requests\n",
    "from datetime import datetime\n",
    "from datetime import timedelta\n",
    "from urllib.parse import urlencode\n",
    "import json\n",
    "import urllib\n",
    "from calendar import monthrange\n",
    "from operator import attrgetter\n",
    "import matplotlib.pyplot as plt"
   ]
  },
  {
   "cell_type": "markdown",
   "metadata": {},
   "source": [
    "### 1. Используем API и загружаем csv файлы с яндекс диска"
   ]
  },
  {
   "cell_type": "markdown",
   "metadata": {},
   "source": [
    "Используем api"
   ]
  },
  {
   "cell_type": "code",
   "execution_count": 101,
   "metadata": {},
   "outputs": [],
   "source": [
    "base_url = 'https://cloud-api.yandex.net/v1/disk/public/resources/download?'\n",
    "public_key_orders = 'https://disk.yandex.ru/d/0zWmh1bYP6REbw'\n",
    "public_key_customers = 'https://disk.yandex.ru/d/QXrVDUoQvFhIcg'\n",
    "public_key_items = 'https://disk.yandex.ru/d/xCsQ0FiC-Ue4Lg'"
   ]
  },
  {
   "cell_type": "markdown",
   "metadata": {},
   "source": [
    "Получаем url и загружаем файл в df `orders`"
   ]
  },
  {
   "cell_type": "code",
   "execution_count": 102,
   "metadata": {},
   "outputs": [],
   "source": [
    "final_url = base_url + urlencode(dict(public_key=public_key_orders)) \n",
    "response = requests.get(final_url)\n",
    "download_url = response.json()['href']\n",
    " \n",
    "download_response = requests.get(download_url) \n",
    "orders = pd.read_csv(download_url)"
   ]
  },
  {
   "cell_type": "markdown",
   "metadata": {},
   "source": [
    "Получаем url и загружаем файл в df `customers`"
   ]
  },
  {
   "cell_type": "code",
   "execution_count": 103,
   "metadata": {},
   "outputs": [],
   "source": [
    "final_url = base_url + urlencode(dict(public_key=public_key_customers)) \n",
    "response = requests.get(final_url) \n",
    "download_url = response.json()['href'] \n",
    "\n",
    "download_response = requests.get(download_url) \n",
    "customers = pd.read_csv(download_url) "
   ]
  },
  {
   "cell_type": "markdown",
   "metadata": {},
   "source": [
    "Получаем url и загружаем файл в df `items`"
   ]
  },
  {
   "cell_type": "code",
   "execution_count": 104,
   "metadata": {},
   "outputs": [],
   "source": [
    "final_url = base_url + urlencode(dict(public_key=public_key_items)) \n",
    "response = requests.get(final_url) \n",
    "download_url = response.json()['href'] \n",
    " \n",
    "download_response = requests.get(download_url) \n",
    "items = pd.read_csv(download_url) "
   ]
  },
  {
   "cell_type": "markdown",
   "metadata": {},
   "source": [
    "### 2. Проверим запись данных, соответствие типов данных и отсутствие null значений"
   ]
  },
  {
   "cell_type": "code",
   "execution_count": 110,
   "metadata": {},
   "outputs": [
    {
     "data": {
      "text/html": [
       "<div>\n",
       "<style scoped>\n",
       "    .dataframe tbody tr th:only-of-type {\n",
       "        vertical-align: middle;\n",
       "    }\n",
       "\n",
       "    .dataframe tbody tr th {\n",
       "        vertical-align: top;\n",
       "    }\n",
       "\n",
       "    .dataframe thead th {\n",
       "        text-align: right;\n",
       "    }\n",
       "</style>\n",
       "<table border=\"1\" class=\"dataframe\">\n",
       "  <thead>\n",
       "    <tr style=\"text-align: right;\">\n",
       "      <th></th>\n",
       "      <th>order_id</th>\n",
       "      <th>customer_id</th>\n",
       "      <th>order_status</th>\n",
       "      <th>order_purchase_timestamp</th>\n",
       "      <th>order_approved_at</th>\n",
       "      <th>order_delivered_carrier_date</th>\n",
       "      <th>order_delivered_customer_date</th>\n",
       "      <th>order_estimated_delivery_date</th>\n",
       "    </tr>\n",
       "  </thead>\n",
       "  <tbody>\n",
       "    <tr>\n",
       "      <th>0</th>\n",
       "      <td>e481f51cbdc54678b7cc49136f2d6af7</td>\n",
       "      <td>9ef432eb6251297304e76186b10a928d</td>\n",
       "      <td>delivered</td>\n",
       "      <td>2017-10-02 10:56:33</td>\n",
       "      <td>2017-10-02 11:07:15</td>\n",
       "      <td>2017-10-04 19:55:00</td>\n",
       "      <td>2017-10-10 21:25:13</td>\n",
       "      <td>2017-10-18 00:00:00</td>\n",
       "    </tr>\n",
       "    <tr>\n",
       "      <th>1</th>\n",
       "      <td>53cdb2fc8bc7dce0b6741e2150273451</td>\n",
       "      <td>b0830fb4747a6c6d20dea0b8c802d7ef</td>\n",
       "      <td>delivered</td>\n",
       "      <td>2018-07-24 20:41:37</td>\n",
       "      <td>2018-07-26 03:24:27</td>\n",
       "      <td>2018-07-26 14:31:00</td>\n",
       "      <td>2018-08-07 15:27:45</td>\n",
       "      <td>2018-08-13 00:00:00</td>\n",
       "    </tr>\n",
       "    <tr>\n",
       "      <th>2</th>\n",
       "      <td>47770eb9100c2d0c44946d9cf07ec65d</td>\n",
       "      <td>41ce2a54c0b03bf3443c3d931a367089</td>\n",
       "      <td>delivered</td>\n",
       "      <td>2018-08-08 08:38:49</td>\n",
       "      <td>2018-08-08 08:55:23</td>\n",
       "      <td>2018-08-08 13:50:00</td>\n",
       "      <td>2018-08-17 18:06:29</td>\n",
       "      <td>2018-09-04 00:00:00</td>\n",
       "    </tr>\n",
       "    <tr>\n",
       "      <th>3</th>\n",
       "      <td>949d5b44dbf5de918fe9c16f97b45f8a</td>\n",
       "      <td>f88197465ea7920adcdbec7375364d82</td>\n",
       "      <td>delivered</td>\n",
       "      <td>2017-11-18 19:28:06</td>\n",
       "      <td>2017-11-18 19:45:59</td>\n",
       "      <td>2017-11-22 13:39:59</td>\n",
       "      <td>2017-12-02 00:28:42</td>\n",
       "      <td>2017-12-15 00:00:00</td>\n",
       "    </tr>\n",
       "    <tr>\n",
       "      <th>4</th>\n",
       "      <td>ad21c59c0840e6cb83a9ceb5573f8159</td>\n",
       "      <td>8ab97904e6daea8866dbdbc4fb7aad2c</td>\n",
       "      <td>delivered</td>\n",
       "      <td>2018-02-13 21:18:39</td>\n",
       "      <td>2018-02-13 22:20:29</td>\n",
       "      <td>2018-02-14 19:46:34</td>\n",
       "      <td>2018-02-16 18:17:02</td>\n",
       "      <td>2018-02-26 00:00:00</td>\n",
       "    </tr>\n",
       "  </tbody>\n",
       "</table>\n",
       "</div>"
      ],
      "text/plain": [
       "                           order_id                       customer_id  \\\n",
       "0  e481f51cbdc54678b7cc49136f2d6af7  9ef432eb6251297304e76186b10a928d   \n",
       "1  53cdb2fc8bc7dce0b6741e2150273451  b0830fb4747a6c6d20dea0b8c802d7ef   \n",
       "2  47770eb9100c2d0c44946d9cf07ec65d  41ce2a54c0b03bf3443c3d931a367089   \n",
       "3  949d5b44dbf5de918fe9c16f97b45f8a  f88197465ea7920adcdbec7375364d82   \n",
       "4  ad21c59c0840e6cb83a9ceb5573f8159  8ab97904e6daea8866dbdbc4fb7aad2c   \n",
       "\n",
       "  order_status order_purchase_timestamp    order_approved_at  \\\n",
       "0    delivered      2017-10-02 10:56:33  2017-10-02 11:07:15   \n",
       "1    delivered      2018-07-24 20:41:37  2018-07-26 03:24:27   \n",
       "2    delivered      2018-08-08 08:38:49  2018-08-08 08:55:23   \n",
       "3    delivered      2017-11-18 19:28:06  2017-11-18 19:45:59   \n",
       "4    delivered      2018-02-13 21:18:39  2018-02-13 22:20:29   \n",
       "\n",
       "  order_delivered_carrier_date order_delivered_customer_date  \\\n",
       "0          2017-10-04 19:55:00           2017-10-10 21:25:13   \n",
       "1          2018-07-26 14:31:00           2018-08-07 15:27:45   \n",
       "2          2018-08-08 13:50:00           2018-08-17 18:06:29   \n",
       "3          2017-11-22 13:39:59           2017-12-02 00:28:42   \n",
       "4          2018-02-14 19:46:34           2018-02-16 18:17:02   \n",
       "\n",
       "  order_estimated_delivery_date  \n",
       "0           2017-10-18 00:00:00  \n",
       "1           2018-08-13 00:00:00  \n",
       "2           2018-09-04 00:00:00  \n",
       "3           2017-12-15 00:00:00  \n",
       "4           2018-02-26 00:00:00  "
      ]
     },
     "execution_count": 110,
     "metadata": {},
     "output_type": "execute_result"
    }
   ],
   "source": [
    "orders.head()"
   ]
  },
  {
   "cell_type": "markdown",
   "metadata": {},
   "source": [
    "Видим, что значения времени в данных не соответствуют должному типу. Изменим тип на timestamp позже, в процессе выполнения расчетов."
   ]
  },
  {
   "cell_type": "code",
   "execution_count": 113,
   "metadata": {},
   "outputs": [
    {
     "name": "stdout",
     "output_type": "stream",
     "text": [
      "<class 'pandas.core.frame.DataFrame'>\n",
      "RangeIndex: 99441 entries, 0 to 99440\n",
      "Data columns (total 8 columns):\n",
      " #   Column                         Non-Null Count  Dtype \n",
      "---  ------                         --------------  ----- \n",
      " 0   order_id                       99441 non-null  string\n",
      " 1   customer_id                    99441 non-null  string\n",
      " 2   order_status                   99441 non-null  object\n",
      " 3   order_purchase_timestamp       99441 non-null  object\n",
      " 4   order_approved_at              99281 non-null  object\n",
      " 5   order_delivered_carrier_date   97658 non-null  object\n",
      " 6   order_delivered_customer_date  96476 non-null  object\n",
      " 7   order_estimated_delivery_date  99441 non-null  object\n",
      "dtypes: object(6), string(2)\n",
      "memory usage: 6.1+ MB\n"
     ]
    }
   ],
   "source": [
    "orders.info()"
   ]
  },
  {
   "cell_type": "markdown",
   "metadata": {},
   "source": [
    "Изменим тип данных столбцов order_id, customer_id и order_status на string"
   ]
  },
  {
   "cell_type": "code",
   "execution_count": 114,
   "metadata": {},
   "outputs": [],
   "source": [
    "orders[['order_id', 'customer_id', 'order_status']] = \\\n",
    "    orders[['order_id', 'customer_id', 'order_status']].astype('string')"
   ]
  },
  {
   "cell_type": "markdown",
   "metadata": {},
   "source": [
    "Проверим наличие пропусков. Видим, что есть пропуски. Можем предположить, что некоторые заказы были отменены на этапах подтверждения оплаты заказа, передачи заказа в логистическую службу и доставки заказа."
   ]
  },
  {
   "cell_type": "code",
   "execution_count": 115,
   "metadata": {},
   "outputs": [
    {
     "data": {
      "text/plain": [
       "order_id                         False\n",
       "customer_id                      False\n",
       "order_status                     False\n",
       "order_purchase_timestamp         False\n",
       "order_approved_at                 True\n",
       "order_delivered_carrier_date      True\n",
       "order_delivered_customer_date     True\n",
       "order_estimated_delivery_date    False\n",
       "dtype: bool"
      ]
     },
     "execution_count": 115,
     "metadata": {},
     "output_type": "execute_result"
    }
   ],
   "source": [
    "orders.isna().any()"
   ]
  },
  {
   "cell_type": "markdown",
   "metadata": {},
   "source": [
    "Проверим наличие дубликатов"
   ]
  },
  {
   "cell_type": "code",
   "execution_count": 118,
   "metadata": {},
   "outputs": [
    {
     "name": "stdout",
     "output_type": "stream",
     "text": [
      "Дубликатов нет\n"
     ]
    }
   ],
   "source": [
    "if orders.nunique()[0] < orders.shape[0]:\n",
    "    print('Дубликаты есть')\n",
    "else: print('Дубликатов нет')"
   ]
  },
  {
   "cell_type": "markdown",
   "metadata": {},
   "source": [
    "Проверим другой датафрейм"
   ]
  },
  {
   "cell_type": "code",
   "execution_count": 121,
   "metadata": {},
   "outputs": [
    {
     "data": {
      "text/html": [
       "<div>\n",
       "<style scoped>\n",
       "    .dataframe tbody tr th:only-of-type {\n",
       "        vertical-align: middle;\n",
       "    }\n",
       "\n",
       "    .dataframe tbody tr th {\n",
       "        vertical-align: top;\n",
       "    }\n",
       "\n",
       "    .dataframe thead th {\n",
       "        text-align: right;\n",
       "    }\n",
       "</style>\n",
       "<table border=\"1\" class=\"dataframe\">\n",
       "  <thead>\n",
       "    <tr style=\"text-align: right;\">\n",
       "      <th></th>\n",
       "      <th>customer_id</th>\n",
       "      <th>customer_unique_id</th>\n",
       "      <th>customer_zip_code_prefix</th>\n",
       "      <th>customer_city</th>\n",
       "      <th>customer_state</th>\n",
       "    </tr>\n",
       "  </thead>\n",
       "  <tbody>\n",
       "    <tr>\n",
       "      <th>0</th>\n",
       "      <td>06b8999e2fba1a1fbc88172c00ba8bc7</td>\n",
       "      <td>861eff4711a542e4b93843c6dd7febb0</td>\n",
       "      <td>14409</td>\n",
       "      <td>franca</td>\n",
       "      <td>SP</td>\n",
       "    </tr>\n",
       "    <tr>\n",
       "      <th>1</th>\n",
       "      <td>18955e83d337fd6b2def6b18a428ac77</td>\n",
       "      <td>290c77bc529b7ac935b93aa66c333dc3</td>\n",
       "      <td>9790</td>\n",
       "      <td>sao bernardo do campo</td>\n",
       "      <td>SP</td>\n",
       "    </tr>\n",
       "    <tr>\n",
       "      <th>2</th>\n",
       "      <td>4e7b3e00288586ebd08712fdd0374a03</td>\n",
       "      <td>060e732b5b29e8181a18229c7b0b2b5e</td>\n",
       "      <td>1151</td>\n",
       "      <td>sao paulo</td>\n",
       "      <td>SP</td>\n",
       "    </tr>\n",
       "    <tr>\n",
       "      <th>3</th>\n",
       "      <td>b2b6027bc5c5109e529d4dc6358b12c3</td>\n",
       "      <td>259dac757896d24d7702b9acbbff3f3c</td>\n",
       "      <td>8775</td>\n",
       "      <td>mogi das cruzes</td>\n",
       "      <td>SP</td>\n",
       "    </tr>\n",
       "    <tr>\n",
       "      <th>4</th>\n",
       "      <td>4f2d8ab171c80ec8364f7c12e35b23ad</td>\n",
       "      <td>345ecd01c38d18a9036ed96c73b8d066</td>\n",
       "      <td>13056</td>\n",
       "      <td>campinas</td>\n",
       "      <td>SP</td>\n",
       "    </tr>\n",
       "  </tbody>\n",
       "</table>\n",
       "</div>"
      ],
      "text/plain": [
       "                        customer_id                customer_unique_id  \\\n",
       "0  06b8999e2fba1a1fbc88172c00ba8bc7  861eff4711a542e4b93843c6dd7febb0   \n",
       "1  18955e83d337fd6b2def6b18a428ac77  290c77bc529b7ac935b93aa66c333dc3   \n",
       "2  4e7b3e00288586ebd08712fdd0374a03  060e732b5b29e8181a18229c7b0b2b5e   \n",
       "3  b2b6027bc5c5109e529d4dc6358b12c3  259dac757896d24d7702b9acbbff3f3c   \n",
       "4  4f2d8ab171c80ec8364f7c12e35b23ad  345ecd01c38d18a9036ed96c73b8d066   \n",
       "\n",
       "   customer_zip_code_prefix          customer_city customer_state  \n",
       "0                     14409                 franca             SP  \n",
       "1                      9790  sao bernardo do campo             SP  \n",
       "2                      1151              sao paulo             SP  \n",
       "3                      8775        mogi das cruzes             SP  \n",
       "4                     13056               campinas             SP  "
      ]
     },
     "execution_count": 121,
     "metadata": {},
     "output_type": "execute_result"
    }
   ],
   "source": [
    "customers.head()"
   ]
  },
  {
   "cell_type": "markdown",
   "metadata": {},
   "source": [
    "Видим, что некоторые данные не соответствуют должному типу"
   ]
  },
  {
   "cell_type": "code",
   "execution_count": 124,
   "metadata": {},
   "outputs": [
    {
     "name": "stdout",
     "output_type": "stream",
     "text": [
      "<class 'pandas.core.frame.DataFrame'>\n",
      "RangeIndex: 99441 entries, 0 to 99440\n",
      "Data columns (total 5 columns):\n",
      " #   Column                    Non-Null Count  Dtype \n",
      "---  ------                    --------------  ----- \n",
      " 0   customer_id               99441 non-null  string\n",
      " 1   customer_unique_id        99441 non-null  string\n",
      " 2   customer_zip_code_prefix  99441 non-null  int64 \n",
      " 3   customer_city             99441 non-null  string\n",
      " 4   customer_state            99441 non-null  string\n",
      "dtypes: int64(1), string(4)\n",
      "memory usage: 3.8 MB\n"
     ]
    }
   ],
   "source": [
    "customers.info()"
   ]
  },
  {
   "cell_type": "markdown",
   "metadata": {},
   "source": [
    "Приведем данные к нужному типу"
   ]
  },
  {
   "cell_type": "code",
   "execution_count": 123,
   "metadata": {},
   "outputs": [],
   "source": [
    "customers[['customer_id', 'customer_unique_id', 'customer_city', 'customer_state']] = \\\n",
    "    customers[['customer_id', 'customer_unique_id', 'customer_city', 'customer_state']].astype('string')"
   ]
  },
  {
   "cell_type": "markdown",
   "metadata": {},
   "source": [
    "Проверим наличие пропусков. Пропусков нет"
   ]
  },
  {
   "cell_type": "code",
   "execution_count": 125,
   "metadata": {},
   "outputs": [
    {
     "data": {
      "text/plain": [
       "customer_id                 False\n",
       "customer_unique_id          False\n",
       "customer_zip_code_prefix    False\n",
       "customer_city               False\n",
       "customer_state              False\n",
       "dtype: bool"
      ]
     },
     "execution_count": 125,
     "metadata": {},
     "output_type": "execute_result"
    }
   ],
   "source": [
    "customers.isna().any()"
   ]
  },
  {
   "cell_type": "markdown",
   "metadata": {},
   "source": [
    "Проверим наличие дубликатов. Видим, что дубликатов нет"
   ]
  },
  {
   "cell_type": "code",
   "execution_count": 126,
   "metadata": {},
   "outputs": [
    {
     "name": "stdout",
     "output_type": "stream",
     "text": [
      "Дубликатов нет\n"
     ]
    }
   ],
   "source": [
    "if customers.nunique()[0] < customers.shape[0]:\n",
    "    print('Дубликаты есть')\n",
    "else: print('Дубликатов нет')"
   ]
  },
  {
   "cell_type": "markdown",
   "metadata": {},
   "source": [
    "Проверим последний датафрейм"
   ]
  },
  {
   "cell_type": "code",
   "execution_count": 128,
   "metadata": {},
   "outputs": [
    {
     "data": {
      "text/html": [
       "<div>\n",
       "<style scoped>\n",
       "    .dataframe tbody tr th:only-of-type {\n",
       "        vertical-align: middle;\n",
       "    }\n",
       "\n",
       "    .dataframe tbody tr th {\n",
       "        vertical-align: top;\n",
       "    }\n",
       "\n",
       "    .dataframe thead th {\n",
       "        text-align: right;\n",
       "    }\n",
       "</style>\n",
       "<table border=\"1\" class=\"dataframe\">\n",
       "  <thead>\n",
       "    <tr style=\"text-align: right;\">\n",
       "      <th></th>\n",
       "      <th>order_id</th>\n",
       "      <th>order_item_id</th>\n",
       "      <th>product_id</th>\n",
       "      <th>seller_id</th>\n",
       "      <th>shipping_limit_date</th>\n",
       "      <th>price</th>\n",
       "      <th>freight_value</th>\n",
       "    </tr>\n",
       "  </thead>\n",
       "  <tbody>\n",
       "    <tr>\n",
       "      <th>0</th>\n",
       "      <td>00010242fe8c5a6d1ba2dd792cb16214</td>\n",
       "      <td>1</td>\n",
       "      <td>4244733e06e7ecb4970a6e2683c13e61</td>\n",
       "      <td>48436dade18ac8b2bce089ec2a041202</td>\n",
       "      <td>2017-09-19 09:45:35</td>\n",
       "      <td>58.90</td>\n",
       "      <td>13.29</td>\n",
       "    </tr>\n",
       "    <tr>\n",
       "      <th>1</th>\n",
       "      <td>00018f77f2f0320c557190d7a144bdd3</td>\n",
       "      <td>1</td>\n",
       "      <td>e5f2d52b802189ee658865ca93d83a8f</td>\n",
       "      <td>dd7ddc04e1b6c2c614352b383efe2d36</td>\n",
       "      <td>2017-05-03 11:05:13</td>\n",
       "      <td>239.90</td>\n",
       "      <td>19.93</td>\n",
       "    </tr>\n",
       "    <tr>\n",
       "      <th>2</th>\n",
       "      <td>000229ec398224ef6ca0657da4fc703e</td>\n",
       "      <td>1</td>\n",
       "      <td>c777355d18b72b67abbeef9df44fd0fd</td>\n",
       "      <td>5b51032eddd242adc84c38acab88f23d</td>\n",
       "      <td>2018-01-18 14:48:30</td>\n",
       "      <td>199.00</td>\n",
       "      <td>17.87</td>\n",
       "    </tr>\n",
       "    <tr>\n",
       "      <th>3</th>\n",
       "      <td>00024acbcdf0a6daa1e931b038114c75</td>\n",
       "      <td>1</td>\n",
       "      <td>7634da152a4610f1595efa32f14722fc</td>\n",
       "      <td>9d7a1d34a5052409006425275ba1c2b4</td>\n",
       "      <td>2018-08-15 10:10:18</td>\n",
       "      <td>12.99</td>\n",
       "      <td>12.79</td>\n",
       "    </tr>\n",
       "    <tr>\n",
       "      <th>4</th>\n",
       "      <td>00042b26cf59d7ce69dfabb4e55b4fd9</td>\n",
       "      <td>1</td>\n",
       "      <td>ac6c3623068f30de03045865e4e10089</td>\n",
       "      <td>df560393f3a51e74553ab94004ba5c87</td>\n",
       "      <td>2017-02-13 13:57:51</td>\n",
       "      <td>199.90</td>\n",
       "      <td>18.14</td>\n",
       "    </tr>\n",
       "  </tbody>\n",
       "</table>\n",
       "</div>"
      ],
      "text/plain": [
       "                           order_id  order_item_id  \\\n",
       "0  00010242fe8c5a6d1ba2dd792cb16214              1   \n",
       "1  00018f77f2f0320c557190d7a144bdd3              1   \n",
       "2  000229ec398224ef6ca0657da4fc703e              1   \n",
       "3  00024acbcdf0a6daa1e931b038114c75              1   \n",
       "4  00042b26cf59d7ce69dfabb4e55b4fd9              1   \n",
       "\n",
       "                         product_id                         seller_id  \\\n",
       "0  4244733e06e7ecb4970a6e2683c13e61  48436dade18ac8b2bce089ec2a041202   \n",
       "1  e5f2d52b802189ee658865ca93d83a8f  dd7ddc04e1b6c2c614352b383efe2d36   \n",
       "2  c777355d18b72b67abbeef9df44fd0fd  5b51032eddd242adc84c38acab88f23d   \n",
       "3  7634da152a4610f1595efa32f14722fc  9d7a1d34a5052409006425275ba1c2b4   \n",
       "4  ac6c3623068f30de03045865e4e10089  df560393f3a51e74553ab94004ba5c87   \n",
       "\n",
       "   shipping_limit_date   price  freight_value  \n",
       "0  2017-09-19 09:45:35   58.90          13.29  \n",
       "1  2017-05-03 11:05:13  239.90          19.93  \n",
       "2  2018-01-18 14:48:30  199.00          17.87  \n",
       "3  2018-08-15 10:10:18   12.99          12.79  \n",
       "4  2017-02-13 13:57:51  199.90          18.14  "
      ]
     },
     "execution_count": 128,
     "metadata": {},
     "output_type": "execute_result"
    }
   ],
   "source": [
    "items.head()"
   ]
  },
  {
   "cell_type": "markdown",
   "metadata": {},
   "source": [
    "Видим, что некоторые данные не соответствуют должному типу. Тип данных колонки shipping_limit_date приведем к формату timestamp позже, если эта колонка понадобится для расчетов"
   ]
  },
  {
   "cell_type": "code",
   "execution_count": 130,
   "metadata": {},
   "outputs": [
    {
     "name": "stdout",
     "output_type": "stream",
     "text": [
      "<class 'pandas.core.frame.DataFrame'>\n",
      "RangeIndex: 112650 entries, 0 to 112649\n",
      "Data columns (total 7 columns):\n",
      " #   Column               Non-Null Count   Dtype  \n",
      "---  ------               --------------   -----  \n",
      " 0   order_id             112650 non-null  string \n",
      " 1   order_item_id        112650 non-null  int64  \n",
      " 2   product_id           112650 non-null  string \n",
      " 3   seller_id            112650 non-null  string \n",
      " 4   shipping_limit_date  112650 non-null  object \n",
      " 5   price                112650 non-null  float64\n",
      " 6   freight_value        112650 non-null  float64\n",
      "dtypes: float64(2), int64(1), object(1), string(3)\n",
      "memory usage: 6.0+ MB\n"
     ]
    }
   ],
   "source": [
    "items.info()"
   ]
  },
  {
   "cell_type": "code",
   "execution_count": 129,
   "metadata": {},
   "outputs": [],
   "source": [
    "items[['order_id', 'product_id', 'seller_id']] = \\\n",
    "    items[['order_id', 'product_id', 'seller_id']].astype('string')"
   ]
  },
  {
   "cell_type": "markdown",
   "metadata": {},
   "source": [
    "Проверим наличие пропусков. Пропусков нет"
   ]
  },
  {
   "cell_type": "code",
   "execution_count": 132,
   "metadata": {},
   "outputs": [
    {
     "data": {
      "text/plain": [
       "order_id               False\n",
       "order_item_id          False\n",
       "product_id             False\n",
       "seller_id              False\n",
       "shipping_limit_date    False\n",
       "price                  False\n",
       "freight_value          False\n",
       "dtype: bool"
      ]
     },
     "execution_count": 132,
     "metadata": {},
     "output_type": "execute_result"
    }
   ],
   "source": [
    "items.isna().any()"
   ]
  },
  {
   "cell_type": "markdown",
   "metadata": {},
   "source": [
    "Проверим наличие дубликатов. Видим, что дубликаты есть"
   ]
  },
  {
   "cell_type": "code",
   "execution_count": 133,
   "metadata": {},
   "outputs": [
    {
     "name": "stdout",
     "output_type": "stream",
     "text": [
      "Дубликаты есть\n"
     ]
    }
   ],
   "source": [
    "if items.nunique()[0] < items.shape[0]:\n",
    "    print('Дубликаты есть')\n",
    "else: print('Дубликатов нет')"
   ]
  },
  {
   "cell_type": "markdown",
   "metadata": {},
   "source": [
    "Видим, что товары отображаются в заказе поштучно, и в одном заказе может быть несколько одинаковых товаров. Например, в заказе fffb9224b6fc7c43ebb0904318b10b5f присутствуют три товара 43423cdffde7fda63d0414ed38c11a73 и максимальное время доставки у всех позиций одинаковое, так как товары были заказаны внутри одного заказа. Дубликаты убирать не будем"
   ]
  },
  {
   "cell_type": "code",
   "execution_count": 152,
   "metadata": {},
   "outputs": [
    {
     "data": {
      "text/html": [
       "<div>\n",
       "<style scoped>\n",
       "    .dataframe tbody tr th:only-of-type {\n",
       "        vertical-align: middle;\n",
       "    }\n",
       "\n",
       "    .dataframe tbody tr th {\n",
       "        vertical-align: top;\n",
       "    }\n",
       "\n",
       "    .dataframe thead th {\n",
       "        text-align: right;\n",
       "    }\n",
       "</style>\n",
       "<table border=\"1\" class=\"dataframe\">\n",
       "  <thead>\n",
       "    <tr style=\"text-align: right;\">\n",
       "      <th></th>\n",
       "      <th>order_id</th>\n",
       "      <th>order_item_id</th>\n",
       "      <th>product_id</th>\n",
       "      <th>seller_id</th>\n",
       "      <th>shipping_limit_date</th>\n",
       "      <th>price</th>\n",
       "      <th>freight_value</th>\n",
       "    </tr>\n",
       "  </thead>\n",
       "  <tbody>\n",
       "    <tr>\n",
       "      <th>112616</th>\n",
       "      <td>ffecd5a79a0084f6a592288c67e3c298</td>\n",
       "      <td>2</td>\n",
       "      <td>50fd2b788dc166edd20512370dac54df</td>\n",
       "      <td>8b321bb669392f5163d04c59e235e066</td>\n",
       "      <td>2018-03-05 20:15:27</td>\n",
       "      <td>21.9</td>\n",
       "      <td>15.79</td>\n",
       "    </tr>\n",
       "    <tr>\n",
       "      <th>112617</th>\n",
       "      <td>ffecd5a79a0084f6a592288c67e3c298</td>\n",
       "      <td>3</td>\n",
       "      <td>50fd2b788dc166edd20512370dac54df</td>\n",
       "      <td>8b321bb669392f5163d04c59e235e066</td>\n",
       "      <td>2018-03-05 20:15:27</td>\n",
       "      <td>21.9</td>\n",
       "      <td>15.79</td>\n",
       "    </tr>\n",
       "    <tr>\n",
       "      <th>112635</th>\n",
       "      <td>fff8287bbae429a99bb7e8c21d151c41</td>\n",
       "      <td>2</td>\n",
       "      <td>bee2e070c39f3dd2f6883a17a5f0da45</td>\n",
       "      <td>4e922959ae960d389249c378d1c939f5</td>\n",
       "      <td>2018-03-27 12:29:22</td>\n",
       "      <td>180.0</td>\n",
       "      <td>48.14</td>\n",
       "    </tr>\n",
       "    <tr>\n",
       "      <th>112641</th>\n",
       "      <td>fffb9224b6fc7c43ebb0904318b10b5f</td>\n",
       "      <td>2</td>\n",
       "      <td>43423cdffde7fda63d0414ed38c11a73</td>\n",
       "      <td>b1fc4f64df5a0e8b6913ab38803c57a9</td>\n",
       "      <td>2017-11-03 02:55:58</td>\n",
       "      <td>55.0</td>\n",
       "      <td>34.19</td>\n",
       "    </tr>\n",
       "    <tr>\n",
       "      <th>112642</th>\n",
       "      <td>fffb9224b6fc7c43ebb0904318b10b5f</td>\n",
       "      <td>3</td>\n",
       "      <td>43423cdffde7fda63d0414ed38c11a73</td>\n",
       "      <td>b1fc4f64df5a0e8b6913ab38803c57a9</td>\n",
       "      <td>2017-11-03 02:55:58</td>\n",
       "      <td>55.0</td>\n",
       "      <td>34.19</td>\n",
       "    </tr>\n",
       "    <tr>\n",
       "      <th>112643</th>\n",
       "      <td>fffb9224b6fc7c43ebb0904318b10b5f</td>\n",
       "      <td>4</td>\n",
       "      <td>43423cdffde7fda63d0414ed38c11a73</td>\n",
       "      <td>b1fc4f64df5a0e8b6913ab38803c57a9</td>\n",
       "      <td>2017-11-03 02:55:58</td>\n",
       "      <td>55.0</td>\n",
       "      <td>34.19</td>\n",
       "    </tr>\n",
       "  </tbody>\n",
       "</table>\n",
       "</div>"
      ],
      "text/plain": [
       "                                order_id  order_item_id  \\\n",
       "112616  ffecd5a79a0084f6a592288c67e3c298              2   \n",
       "112617  ffecd5a79a0084f6a592288c67e3c298              3   \n",
       "112635  fff8287bbae429a99bb7e8c21d151c41              2   \n",
       "112641  fffb9224b6fc7c43ebb0904318b10b5f              2   \n",
       "112642  fffb9224b6fc7c43ebb0904318b10b5f              3   \n",
       "112643  fffb9224b6fc7c43ebb0904318b10b5f              4   \n",
       "\n",
       "                              product_id                         seller_id  \\\n",
       "112616  50fd2b788dc166edd20512370dac54df  8b321bb669392f5163d04c59e235e066   \n",
       "112617  50fd2b788dc166edd20512370dac54df  8b321bb669392f5163d04c59e235e066   \n",
       "112635  bee2e070c39f3dd2f6883a17a5f0da45  4e922959ae960d389249c378d1c939f5   \n",
       "112641  43423cdffde7fda63d0414ed38c11a73  b1fc4f64df5a0e8b6913ab38803c57a9   \n",
       "112642  43423cdffde7fda63d0414ed38c11a73  b1fc4f64df5a0e8b6913ab38803c57a9   \n",
       "112643  43423cdffde7fda63d0414ed38c11a73  b1fc4f64df5a0e8b6913ab38803c57a9   \n",
       "\n",
       "        shipping_limit_date  price  freight_value  \n",
       "112616  2018-03-05 20:15:27   21.9          15.79  \n",
       "112617  2018-03-05 20:15:27   21.9          15.79  \n",
       "112635  2018-03-27 12:29:22  180.0          48.14  \n",
       "112641  2017-11-03 02:55:58   55.0          34.19  \n",
       "112642  2017-11-03 02:55:58   55.0          34.19  \n",
       "112643  2017-11-03 02:55:58   55.0          34.19  "
      ]
     },
     "execution_count": 152,
     "metadata": {},
     "output_type": "execute_result"
    }
   ],
   "source": [
    "items[items.order_id.duplicated() == True].tail(6)"
   ]
  },
  {
   "cell_type": "markdown",
   "metadata": {},
   "source": [
    "Из данных видно, что их можно джоинить друг с другом, так как orders связан с customers через customer_id, а items связан с orders через order_id"
   ]
  },
  {
   "cell_type": "markdown",
   "metadata": {},
   "source": [
    "### Задание 1. Сколько у нас пользователей, которые совершили покупку только один раз?"
   ]
  },
  {
   "cell_type": "markdown",
   "metadata": {},
   "source": [
    "Делаем мердж orders с customers, чтобы узнать уникальные id покупателей"
   ]
  },
  {
   "cell_type": "code",
   "execution_count": 153,
   "metadata": {},
   "outputs": [],
   "source": [
    "orders_merge_with_customers = orders.merge(customers, on='customer_id', how='left')"
   ]
  },
  {
   "cell_type": "markdown",
   "metadata": {},
   "source": [
    "Проверяем, замерджились ли датафреймы"
   ]
  },
  {
   "cell_type": "code",
   "execution_count": 154,
   "metadata": {
    "scrolled": true
   },
   "outputs": [
    {
     "data": {
      "text/html": [
       "<div>\n",
       "<style scoped>\n",
       "    .dataframe tbody tr th:only-of-type {\n",
       "        vertical-align: middle;\n",
       "    }\n",
       "\n",
       "    .dataframe tbody tr th {\n",
       "        vertical-align: top;\n",
       "    }\n",
       "\n",
       "    .dataframe thead th {\n",
       "        text-align: right;\n",
       "    }\n",
       "</style>\n",
       "<table border=\"1\" class=\"dataframe\">\n",
       "  <thead>\n",
       "    <tr style=\"text-align: right;\">\n",
       "      <th></th>\n",
       "      <th>order_id</th>\n",
       "      <th>customer_id</th>\n",
       "      <th>order_status</th>\n",
       "      <th>order_purchase_timestamp</th>\n",
       "      <th>order_approved_at</th>\n",
       "      <th>order_delivered_carrier_date</th>\n",
       "      <th>order_delivered_customer_date</th>\n",
       "      <th>order_estimated_delivery_date</th>\n",
       "      <th>customer_unique_id</th>\n",
       "      <th>customer_zip_code_prefix</th>\n",
       "      <th>customer_city</th>\n",
       "      <th>customer_state</th>\n",
       "    </tr>\n",
       "  </thead>\n",
       "  <tbody>\n",
       "    <tr>\n",
       "      <th>0</th>\n",
       "      <td>e481f51cbdc54678b7cc49136f2d6af7</td>\n",
       "      <td>9ef432eb6251297304e76186b10a928d</td>\n",
       "      <td>delivered</td>\n",
       "      <td>2017-10-02 10:56:33</td>\n",
       "      <td>2017-10-02 11:07:15</td>\n",
       "      <td>2017-10-04 19:55:00</td>\n",
       "      <td>2017-10-10 21:25:13</td>\n",
       "      <td>2017-10-18 00:00:00</td>\n",
       "      <td>7c396fd4830fd04220f754e42b4e5bff</td>\n",
       "      <td>3149</td>\n",
       "      <td>sao paulo</td>\n",
       "      <td>SP</td>\n",
       "    </tr>\n",
       "    <tr>\n",
       "      <th>1</th>\n",
       "      <td>53cdb2fc8bc7dce0b6741e2150273451</td>\n",
       "      <td>b0830fb4747a6c6d20dea0b8c802d7ef</td>\n",
       "      <td>delivered</td>\n",
       "      <td>2018-07-24 20:41:37</td>\n",
       "      <td>2018-07-26 03:24:27</td>\n",
       "      <td>2018-07-26 14:31:00</td>\n",
       "      <td>2018-08-07 15:27:45</td>\n",
       "      <td>2018-08-13 00:00:00</td>\n",
       "      <td>af07308b275d755c9edb36a90c618231</td>\n",
       "      <td>47813</td>\n",
       "      <td>barreiras</td>\n",
       "      <td>BA</td>\n",
       "    </tr>\n",
       "    <tr>\n",
       "      <th>2</th>\n",
       "      <td>47770eb9100c2d0c44946d9cf07ec65d</td>\n",
       "      <td>41ce2a54c0b03bf3443c3d931a367089</td>\n",
       "      <td>delivered</td>\n",
       "      <td>2018-08-08 08:38:49</td>\n",
       "      <td>2018-08-08 08:55:23</td>\n",
       "      <td>2018-08-08 13:50:00</td>\n",
       "      <td>2018-08-17 18:06:29</td>\n",
       "      <td>2018-09-04 00:00:00</td>\n",
       "      <td>3a653a41f6f9fc3d2a113cf8398680e8</td>\n",
       "      <td>75265</td>\n",
       "      <td>vianopolis</td>\n",
       "      <td>GO</td>\n",
       "    </tr>\n",
       "  </tbody>\n",
       "</table>\n",
       "</div>"
      ],
      "text/plain": [
       "                           order_id                       customer_id  \\\n",
       "0  e481f51cbdc54678b7cc49136f2d6af7  9ef432eb6251297304e76186b10a928d   \n",
       "1  53cdb2fc8bc7dce0b6741e2150273451  b0830fb4747a6c6d20dea0b8c802d7ef   \n",
       "2  47770eb9100c2d0c44946d9cf07ec65d  41ce2a54c0b03bf3443c3d931a367089   \n",
       "\n",
       "  order_status order_purchase_timestamp    order_approved_at  \\\n",
       "0    delivered      2017-10-02 10:56:33  2017-10-02 11:07:15   \n",
       "1    delivered      2018-07-24 20:41:37  2018-07-26 03:24:27   \n",
       "2    delivered      2018-08-08 08:38:49  2018-08-08 08:55:23   \n",
       "\n",
       "  order_delivered_carrier_date order_delivered_customer_date  \\\n",
       "0          2017-10-04 19:55:00           2017-10-10 21:25:13   \n",
       "1          2018-07-26 14:31:00           2018-08-07 15:27:45   \n",
       "2          2018-08-08 13:50:00           2018-08-17 18:06:29   \n",
       "\n",
       "  order_estimated_delivery_date                customer_unique_id  \\\n",
       "0           2017-10-18 00:00:00  7c396fd4830fd04220f754e42b4e5bff   \n",
       "1           2018-08-13 00:00:00  af07308b275d755c9edb36a90c618231   \n",
       "2           2018-09-04 00:00:00  3a653a41f6f9fc3d2a113cf8398680e8   \n",
       "\n",
       "   customer_zip_code_prefix customer_city customer_state  \n",
       "0                      3149     sao paulo             SP  \n",
       "1                     47813     barreiras             BA  \n",
       "2                     75265    vianopolis             GO  "
      ]
     },
     "execution_count": 154,
     "metadata": {},
     "output_type": "execute_result"
    }
   ],
   "source": [
    "orders_merge_with_customers.head(3)"
   ]
  },
  {
   "cell_type": "markdown",
   "metadata": {},
   "source": [
    "Считаем, сколько уникальных пользователей совершили хотя бы одну покупку, исключая пользователей, которые не совершили ни одной покупки. За совершенную покупку на данном этапе будем считать факт наличия подтверждения заказа (`order_approved_at`), не учитывая отмену заказа на дальшейших этапах (опалата, доставка...)"
   ]
  },
  {
   "cell_type": "markdown",
   "metadata": {},
   "source": [
    "Смотрим, имеются ли в дф покупатели, которые не совершили покупку."
   ]
  },
  {
   "cell_type": "code",
   "execution_count": 155,
   "metadata": {},
   "outputs": [
    {
     "data": {
      "text/plain": [
       "160"
      ]
     },
     "execution_count": 155,
     "metadata": {},
     "output_type": "execute_result"
    }
   ],
   "source": [
    "orders_merge_with_customers.order_approved_at.isna().sum()"
   ]
  },
  {
   "cell_type": "markdown",
   "metadata": {},
   "source": [
    "Видим, что 160 человек не подтвердили покупку"
   ]
  },
  {
   "cell_type": "markdown",
   "metadata": {},
   "source": [
    "Исключаем 160 покупателей и формируем дф с количеством покупок пользователей.  \n",
    "Группируем данные по `customer_unique_id` и агрегируем по количеству `order_approved_at`, чтобы узнать, сколько заказов сделал каждый покупатель.  \n",
    "\n",
    "Отбираем только заказы с одной покупкой"
   ]
  },
  {
   "cell_type": "code",
   "execution_count": 156,
   "metadata": {},
   "outputs": [],
   "source": [
    "how_many_approved_orders_per_client = \\\n",
    "     orders_merge_with_customers[orders_merge_with_customers.order_approved_at.isna() == False] \\\n",
    "    .groupby(['customer_unique_id'], as_index=False) \\\n",
    "    .agg({'order_approved_at':'count'}) \\\n",
    "    .rename(columns={'order_approved_at':'orders_num'})\n",
    "\n",
    "clients_with_one_purchase = how_many_approved_orders_per_client \\\n",
    "    .query('orders_num == 1') \\\n",
    "    .orders_num.count()"
   ]
  },
  {
   "cell_type": "markdown",
   "metadata": {},
   "source": [
    "Количество покупателей, совершивших одну покупку"
   ]
  },
  {
   "cell_type": "code",
   "execution_count": 157,
   "metadata": {},
   "outputs": [
    {
     "data": {
      "text/plain": [
       "93049"
      ]
     },
     "execution_count": 157,
     "metadata": {},
     "output_type": "execute_result"
    }
   ],
   "source": [
    "clients_with_one_purchase"
   ]
  },
  {
   "cell_type": "markdown",
   "metadata": {},
   "source": [
    "### Ответ на задание 1:\n",
    "Количество покупателей, совершивших только одну покупку равно __93049__"
   ]
  },
  {
   "cell_type": "markdown",
   "metadata": {},
   "source": [
    "### Задание 2. Сколько заказов в месяц в среднем не доставляется по разным причинам (вывести детализацию по причинам)?"
   ]
  },
  {
   "cell_type": "markdown",
   "metadata": {},
   "source": [
    "Проверяем тип данных столбцов с датами"
   ]
  },
  {
   "cell_type": "code",
   "execution_count": 158,
   "metadata": {},
   "outputs": [
    {
     "data": {
      "text/plain": [
       "order_id                         string\n",
       "customer_id                      string\n",
       "order_status                     string\n",
       "order_purchase_timestamp         object\n",
       "order_approved_at                object\n",
       "order_delivered_carrier_date     object\n",
       "order_delivered_customer_date    object\n",
       "order_estimated_delivery_date    object\n",
       "dtype: object"
      ]
     },
     "execution_count": 158,
     "metadata": {},
     "output_type": "execute_result"
    }
   ],
   "source": [
    "orders.dtypes"
   ]
  },
  {
   "cell_type": "markdown",
   "metadata": {},
   "source": [
    "Создаем новый df, в котором исправим тип данных"
   ]
  },
  {
   "cell_type": "code",
   "execution_count": 160,
   "metadata": {},
   "outputs": [],
   "source": [
    "orders_with_date_types = orders.copy()"
   ]
  },
  {
   "cell_type": "markdown",
   "metadata": {},
   "source": [
    "Приводим столбец `order_approved_at` к типу данных \"дата\""
   ]
  },
  {
   "cell_type": "code",
   "execution_count": 161,
   "metadata": {},
   "outputs": [],
   "source": [
    "orders_with_date_types['order_approved_at'] = pd.to_datetime(orders_with_date_types['order_approved_at'])"
   ]
  },
  {
   "cell_type": "markdown",
   "metadata": {},
   "source": [
    "Проверяем тип данных столбца `order_approved_at`"
   ]
  },
  {
   "cell_type": "code",
   "execution_count": 162,
   "metadata": {
    "scrolled": false
   },
   "outputs": [
    {
     "data": {
      "text/plain": [
       "order_id                                 string\n",
       "customer_id                              string\n",
       "order_status                             string\n",
       "order_purchase_timestamp                 object\n",
       "order_approved_at                datetime64[ns]\n",
       "order_delivered_carrier_date             object\n",
       "order_delivered_customer_date            object\n",
       "order_estimated_delivery_date            object\n",
       "dtype: object"
      ]
     },
     "execution_count": 162,
     "metadata": {},
     "output_type": "execute_result"
    }
   ],
   "source": [
    "orders_with_date_types.dtypes"
   ]
  },
  {
   "cell_type": "markdown",
   "metadata": {},
   "source": [
    "Вычислим количество месяцев в нашем df для того, чтобы посчитать, сколько в среднем в месяц не доставляется заказов"
   ]
  },
  {
   "cell_type": "markdown",
   "metadata": {},
   "source": [
    "Вычитаем из самой ранней даты самую позднюю дату и делим на timedelta `M`  \n",
    "Помещаем значение в переменную `months_num`"
   ]
  },
  {
   "cell_type": "code",
   "execution_count": 163,
   "metadata": {
    "scrolled": true
   },
   "outputs": [],
   "source": [
    "months_num = (orders_with_date_types.order_approved_at.max() - orders_with_date_types.order_approved_at.min()) \\\n",
    "    /np.timedelta64(1, 'M')"
   ]
  },
  {
   "cell_type": "markdown",
   "metadata": {},
   "source": [
    "Группируем данные df'ма по `order_status`, исключая статус `\"delivered\"` (т.к. этот статус показывает нам, что товар был доставлен, а нас интересуют недоставленные товары) и считаем количество товаров через `count`"
   ]
  },
  {
   "cell_type": "code",
   "execution_count": 164,
   "metadata": {},
   "outputs": [],
   "source": [
    "num_of_undelivered_orders = orders_with_date_types \\\n",
    "    .query(\"order_status != 'delivered'\") \\\n",
    "    .groupby(['order_status'], as_index=False) \\\n",
    "    .agg({'order_id':'count'}) \\\n",
    "    .rename(columns={'order_id':'orders_num'}) \\\n",
    "    .sort_values('orders_num', ascending=False)"
   ]
  },
  {
   "cell_type": "markdown",
   "metadata": {},
   "source": [
    "Смотрим df"
   ]
  },
  {
   "cell_type": "code",
   "execution_count": 165,
   "metadata": {},
   "outputs": [
    {
     "data": {
      "text/html": [
       "<div>\n",
       "<style scoped>\n",
       "    .dataframe tbody tr th:only-of-type {\n",
       "        vertical-align: middle;\n",
       "    }\n",
       "\n",
       "    .dataframe tbody tr th {\n",
       "        vertical-align: top;\n",
       "    }\n",
       "\n",
       "    .dataframe thead th {\n",
       "        text-align: right;\n",
       "    }\n",
       "</style>\n",
       "<table border=\"1\" class=\"dataframe\">\n",
       "  <thead>\n",
       "    <tr style=\"text-align: right;\">\n",
       "      <th></th>\n",
       "      <th>order_status</th>\n",
       "      <th>orders_num</th>\n",
       "    </tr>\n",
       "  </thead>\n",
       "  <tbody>\n",
       "    <tr>\n",
       "      <th>5</th>\n",
       "      <td>shipped</td>\n",
       "      <td>1107</td>\n",
       "    </tr>\n",
       "    <tr>\n",
       "      <th>1</th>\n",
       "      <td>canceled</td>\n",
       "      <td>625</td>\n",
       "    </tr>\n",
       "    <tr>\n",
       "      <th>6</th>\n",
       "      <td>unavailable</td>\n",
       "      <td>609</td>\n",
       "    </tr>\n",
       "    <tr>\n",
       "      <th>3</th>\n",
       "      <td>invoiced</td>\n",
       "      <td>314</td>\n",
       "    </tr>\n",
       "    <tr>\n",
       "      <th>4</th>\n",
       "      <td>processing</td>\n",
       "      <td>301</td>\n",
       "    </tr>\n",
       "    <tr>\n",
       "      <th>2</th>\n",
       "      <td>created</td>\n",
       "      <td>5</td>\n",
       "    </tr>\n",
       "    <tr>\n",
       "      <th>0</th>\n",
       "      <td>approved</td>\n",
       "      <td>2</td>\n",
       "    </tr>\n",
       "  </tbody>\n",
       "</table>\n",
       "</div>"
      ],
      "text/plain": [
       "  order_status  orders_num\n",
       "5      shipped        1107\n",
       "1     canceled         625\n",
       "6  unavailable         609\n",
       "3     invoiced         314\n",
       "4   processing         301\n",
       "2      created           5\n",
       "0     approved           2"
      ]
     },
     "execution_count": 165,
     "metadata": {},
     "output_type": "execute_result"
    }
   ],
   "source": [
    "num_of_undelivered_orders"
   ]
  },
  {
   "cell_type": "markdown",
   "metadata": {},
   "source": [
    "Сделаем проверку"
   ]
  },
  {
   "cell_type": "code",
   "execution_count": 166,
   "metadata": {},
   "outputs": [
    {
     "data": {
      "text/plain": [
       "shipped        1107\n",
       "canceled        625\n",
       "unavailable     609\n",
       "invoiced        314\n",
       "processing      301\n",
       "created           5\n",
       "approved          2\n",
       "Name: order_status, dtype: Int64"
      ]
     },
     "execution_count": 166,
     "metadata": {},
     "output_type": "execute_result"
    }
   ],
   "source": [
    "orders_with_date_types[orders_with_date_types.order_status != 'delivered'].order_status.value_counts()"
   ]
  },
  {
   "cell_type": "markdown",
   "metadata": {},
   "source": [
    "Создадим новую колонку и разделим значения количества заказов на количество месяцев, чтобы получить среднее"
   ]
  },
  {
   "cell_type": "code",
   "execution_count": 167,
   "metadata": {},
   "outputs": [],
   "source": [
    "num_of_undelivered_orders['mean'] = round(num_of_undelivered_orders.orders_num / months_num ,2)"
   ]
  },
  {
   "cell_type": "code",
   "execution_count": 168,
   "metadata": {},
   "outputs": [
    {
     "data": {
      "text/html": [
       "<div>\n",
       "<style scoped>\n",
       "    .dataframe tbody tr th:only-of-type {\n",
       "        vertical-align: middle;\n",
       "    }\n",
       "\n",
       "    .dataframe tbody tr th {\n",
       "        vertical-align: top;\n",
       "    }\n",
       "\n",
       "    .dataframe thead th {\n",
       "        text-align: right;\n",
       "    }\n",
       "</style>\n",
       "<table border=\"1\" class=\"dataframe\">\n",
       "  <thead>\n",
       "    <tr style=\"text-align: right;\">\n",
       "      <th></th>\n",
       "      <th>order_status</th>\n",
       "      <th>orders_num</th>\n",
       "      <th>mean</th>\n",
       "    </tr>\n",
       "  </thead>\n",
       "  <tbody>\n",
       "    <tr>\n",
       "      <th>5</th>\n",
       "      <td>shipped</td>\n",
       "      <td>1107</td>\n",
       "      <td>46.91</td>\n",
       "    </tr>\n",
       "    <tr>\n",
       "      <th>1</th>\n",
       "      <td>canceled</td>\n",
       "      <td>625</td>\n",
       "      <td>26.49</td>\n",
       "    </tr>\n",
       "    <tr>\n",
       "      <th>6</th>\n",
       "      <td>unavailable</td>\n",
       "      <td>609</td>\n",
       "      <td>25.81</td>\n",
       "    </tr>\n",
       "    <tr>\n",
       "      <th>3</th>\n",
       "      <td>invoiced</td>\n",
       "      <td>314</td>\n",
       "      <td>13.31</td>\n",
       "    </tr>\n",
       "    <tr>\n",
       "      <th>4</th>\n",
       "      <td>processing</td>\n",
       "      <td>301</td>\n",
       "      <td>12.76</td>\n",
       "    </tr>\n",
       "    <tr>\n",
       "      <th>2</th>\n",
       "      <td>created</td>\n",
       "      <td>5</td>\n",
       "      <td>0.21</td>\n",
       "    </tr>\n",
       "    <tr>\n",
       "      <th>0</th>\n",
       "      <td>approved</td>\n",
       "      <td>2</td>\n",
       "      <td>0.08</td>\n",
       "    </tr>\n",
       "  </tbody>\n",
       "</table>\n",
       "</div>"
      ],
      "text/plain": [
       "  order_status  orders_num   mean\n",
       "5      shipped        1107  46.91\n",
       "1     canceled         625  26.49\n",
       "6  unavailable         609  25.81\n",
       "3     invoiced         314  13.31\n",
       "4   processing         301  12.76\n",
       "2      created           5   0.21\n",
       "0     approved           2   0.08"
      ]
     },
     "execution_count": 168,
     "metadata": {},
     "output_type": "execute_result"
    }
   ],
   "source": [
    "num_of_undelivered_orders"
   ]
  },
  {
   "cell_type": "markdown",
   "metadata": {},
   "source": [
    "### Ответ на задание 2:"
   ]
  },
  {
   "cell_type": "markdown",
   "metadata": {},
   "source": [
    "Итак, мы видим, что в среднем не доставляются:\n",
    "- __46.91 заказа__ по причине того, что товар был отгружен со склада и находится на пути к покупателю\n",
    "- __26.49 заказа__ по причине того, что заказ был отменен на каком-то этапе цепочки от создания заказа до его получения\n",
    "- __25.81 заказа__ по причине того, что товар(или заказ) был не доступен\n",
    "- __13.31 заказа__ по причине того, что счет еще не оплачен покупателем или заказ еще не был передан на сборку\n",
    "- __12.76 заказа__ по причине того, что заказ находится в процессе сборки\n",
    "- __0.21 заказа__ по причине того, что заказ еще не был подвержден\n",
    "- __0.08 заказа__ по причине того, что заказ был подтвержден, но еще не был выставлен счет"
   ]
  },
  {
   "cell_type": "markdown",
   "metadata": {},
   "source": [
    "### Задание 3. По каждому товару определить, в какой день недели товар чаще всего покупается."
   ]
  },
  {
   "cell_type": "markdown",
   "metadata": {},
   "source": [
    "Создаем пустой df и помещаем туда данные из df `orders`"
   ]
  },
  {
   "cell_type": "code",
   "execution_count": 169,
   "metadata": {},
   "outputs": [],
   "source": [
    "orders_with_purchase_days = orders.copy()"
   ]
  },
  {
   "cell_type": "markdown",
   "metadata": {},
   "source": [
    "Делаем мердж `orders_with_purchase_days` с `items`, чтобы узнать id товаров"
   ]
  },
  {
   "cell_type": "code",
   "execution_count": 170,
   "metadata": {},
   "outputs": [],
   "source": [
    "orders_with_items_purchase_days = orders_with_purchase_days.merge(items, on='order_id', how='left')"
   ]
  },
  {
   "cell_type": "markdown",
   "metadata": {},
   "source": [
    "Приводим тип данных колонки с датой покупки (`order_purchase_timestamp`) к типу даты"
   ]
  },
  {
   "cell_type": "code",
   "execution_count": 171,
   "metadata": {},
   "outputs": [],
   "source": [
    "orders_with_items_purchase_days['order_purchase_timestamp'] = \\\n",
    "    pd.to_datetime(orders_with_items_purchase_days['order_purchase_timestamp'])"
   ]
  },
  {
   "cell_type": "markdown",
   "metadata": {},
   "source": [
    "Так как нужно узнать, в какой день недели покупали товар чаще всего, то создаем колонку с днями недели"
   ]
  },
  {
   "cell_type": "code",
   "execution_count": 172,
   "metadata": {},
   "outputs": [],
   "source": [
    "orders_with_items_purchase_days['weekday'] = \\\n",
    "    orders_with_items_purchase_days['order_purchase_timestamp'].dt.day_name()"
   ]
  },
  {
   "cell_type": "markdown",
   "metadata": {},
   "source": [
    "Считаем, в какой день недели каждый товар чаще всего покупается. \n",
    "Так как нас интересует именно факт покупки товара, а не факт покупки и доставки товара покупателю, то за покупку будем считать наличие даты подтверждения заказа (`order_approved_at`). Исключаем заказы, которые не были подтверждены (`\"created\"`). Покупатель мог совершить покупку импульсивно или ошибочно и не подтвердить заказ в будущем) и заказы, у которых отсутствует дата подтверждения заказа (`order_approved_at`)."
   ]
  },
  {
   "cell_type": "markdown",
   "metadata": {},
   "source": [
    "Считаем количество товаров"
   ]
  },
  {
   "cell_type": "code",
   "execution_count": 194,
   "metadata": {
    "scrolled": true
   },
   "outputs": [],
   "source": [
    "orders_num_max_day=orders_with_items_purchase_days \\\n",
    "    .query(\"order_status != 'created' & order_approved_at.isna() != True\") \\\n",
    "    .groupby(['product_id', 'weekday'], as_index=False) \\\n",
    "    .agg({'order_id':'count'}) \\\n",
    "    .rename(columns={'order_id':'orders_num'})"
   ]
  },
  {
   "cell_type": "markdown",
   "metadata": {},
   "source": [
    "Выводим id товаров и дни, в которые данный товар продавался максимальное количество раз. Если товар продавался одинакого много в разные дни, то будут выведены все дни с максимальным числом продаж"
   ]
  },
  {
   "cell_type": "code",
   "execution_count": 195,
   "metadata": {},
   "outputs": [],
   "source": [
    "orders_num_max_day=orders_num_max_day.groupby(['product_id', 'weekday'], as_index=False).max() \\\n",
    "     .sort_values('orders_num', ascending=False)"
   ]
  },
  {
   "cell_type": "markdown",
   "metadata": {},
   "source": [
    "### Ответ на Задание 3:"
   ]
  },
  {
   "cell_type": "code",
   "execution_count": 196,
   "metadata": {},
   "outputs": [
    {
     "data": {
      "text/html": [
       "<div>\n",
       "<style scoped>\n",
       "    .dataframe tbody tr th:only-of-type {\n",
       "        vertical-align: middle;\n",
       "    }\n",
       "\n",
       "    .dataframe tbody tr th {\n",
       "        vertical-align: top;\n",
       "    }\n",
       "\n",
       "    .dataframe thead th {\n",
       "        text-align: right;\n",
       "    }\n",
       "</style>\n",
       "<table border=\"1\" class=\"dataframe\">\n",
       "  <thead>\n",
       "    <tr style=\"text-align: right;\">\n",
       "      <th></th>\n",
       "      <th>product_id</th>\n",
       "      <th>weekday</th>\n",
       "      <th>orders_num</th>\n",
       "    </tr>\n",
       "  </thead>\n",
       "  <tbody>\n",
       "    <tr>\n",
       "      <th>15899</th>\n",
       "      <td>422879e10f46682990de24d770e7f83d</td>\n",
       "      <td>Wednesday</td>\n",
       "      <td>93</td>\n",
       "    </tr>\n",
       "    <tr>\n",
       "      <th>36507</th>\n",
       "      <td>99a4788cb24856965c36a24e339b6058</td>\n",
       "      <td>Monday</td>\n",
       "      <td>92</td>\n",
       "    </tr>\n",
       "    <tr>\n",
       "      <th>41039</th>\n",
       "      <td>aca2eb7d00ea1a7b8ebd4e68314663af</td>\n",
       "      <td>Thursday</td>\n",
       "      <td>89</td>\n",
       "    </tr>\n",
       "    <tr>\n",
       "      <th>41035</th>\n",
       "      <td>aca2eb7d00ea1a7b8ebd4e68314663af</td>\n",
       "      <td>Friday</td>\n",
       "      <td>87</td>\n",
       "    </tr>\n",
       "    <tr>\n",
       "      <th>41040</th>\n",
       "      <td>aca2eb7d00ea1a7b8ebd4e68314663af</td>\n",
       "      <td>Tuesday</td>\n",
       "      <td>85</td>\n",
       "    </tr>\n",
       "    <tr>\n",
       "      <th>...</th>\n",
       "      <td>...</td>\n",
       "      <td>...</td>\n",
       "      <td>...</td>\n",
       "    </tr>\n",
       "    <tr>\n",
       "      <th>24016</th>\n",
       "      <td>642e125cbc752b4eeb8faf442319c39f</td>\n",
       "      <td>Thursday</td>\n",
       "      <td>1</td>\n",
       "    </tr>\n",
       "    <tr>\n",
       "      <th>24019</th>\n",
       "      <td>64315bd8c0c47303179dd2e25b579d00</td>\n",
       "      <td>Saturday</td>\n",
       "      <td>1</td>\n",
       "    </tr>\n",
       "    <tr>\n",
       "      <th>24024</th>\n",
       "      <td>6432d844f2be41bb6f2fd279e23415da</td>\n",
       "      <td>Friday</td>\n",
       "      <td>1</td>\n",
       "    </tr>\n",
       "    <tr>\n",
       "      <th>24026</th>\n",
       "      <td>6435535083cf42eb1ce5d96f2c4d3482</td>\n",
       "      <td>Tuesday</td>\n",
       "      <td>1</td>\n",
       "    </tr>\n",
       "    <tr>\n",
       "      <th>61220</th>\n",
       "      <td>fffe9eeff12fcbd74a2f2b007dde0c58</td>\n",
       "      <td>Wednesday</td>\n",
       "      <td>1</td>\n",
       "    </tr>\n",
       "  </tbody>\n",
       "</table>\n",
       "<p>61221 rows × 3 columns</p>\n",
       "</div>"
      ],
      "text/plain": [
       "                             product_id    weekday  orders_num\n",
       "15899  422879e10f46682990de24d770e7f83d  Wednesday          93\n",
       "36507  99a4788cb24856965c36a24e339b6058     Monday          92\n",
       "41039  aca2eb7d00ea1a7b8ebd4e68314663af   Thursday          89\n",
       "41035  aca2eb7d00ea1a7b8ebd4e68314663af     Friday          87\n",
       "41040  aca2eb7d00ea1a7b8ebd4e68314663af    Tuesday          85\n",
       "...                                 ...        ...         ...\n",
       "24016  642e125cbc752b4eeb8faf442319c39f   Thursday           1\n",
       "24019  64315bd8c0c47303179dd2e25b579d00   Saturday           1\n",
       "24024  6432d844f2be41bb6f2fd279e23415da     Friday           1\n",
       "24026  6435535083cf42eb1ce5d96f2c4d3482    Tuesday           1\n",
       "61220  fffe9eeff12fcbd74a2f2b007dde0c58  Wednesday           1\n",
       "\n",
       "[61221 rows x 3 columns]"
      ]
     },
     "execution_count": 196,
     "metadata": {},
     "output_type": "execute_result"
    }
   ],
   "source": [
    "orders_num_max_day"
   ]
  },
  {
   "cell_type": "markdown",
   "metadata": {},
   "source": [
    "### Задание 4. Сколько у каждого из пользователей в среднем покупок в неделю (по месяцам)? Не стоит забывать, что внутри месяца может быть не целое количество недель. Например, в ноябре 2021 года 4,28 недели. И внутри метрики это нужно учесть."
   ]
  },
  {
   "cell_type": "markdown",
   "metadata": {},
   "source": [
    "Создаем пустой df и помещаем туда данные из df `orders_merge_with_customers` (мердж из `orders` и `customers`)"
   ]
  },
  {
   "cell_type": "code",
   "execution_count": 197,
   "metadata": {},
   "outputs": [],
   "source": [
    "task4_merge_orders_with_customers = orders_merge_with_customers.copy()"
   ]
  },
  {
   "cell_type": "markdown",
   "metadata": {},
   "source": [
    "Приводим тип данных колонки с датой покупки (`order_purchase_timestamp`) к типу даты. Оставляем только дату (без времени) для подсчета количества покупок по дням"
   ]
  },
  {
   "cell_type": "code",
   "execution_count": 200,
   "metadata": {},
   "outputs": [],
   "source": [
    "task4_merge_orders_with_customers['order_purchase_timestamp'] = \\\n",
    "    pd.to_datetime(task4_merge_orders_with_customers['order_purchase_timestamp']).dt.date"
   ]
  },
  {
   "cell_type": "markdown",
   "metadata": {},
   "source": [
    "Считаем, сколько покупок совершил каждый покупатель в день.  \n",
    "Так как нас интересует именно факт покупки товара, а не факт покупки и доставки товара покупателю, то за покупку будем считать наличие даты подтверждения заказа (`order_approved_at`). Исключаем заказы, которые не были подтверждены (`\"created\"`). Покупатель мог совершить покупку импульсивно или ошибочно и не подтвердить заказ в будущем) и заказы, у которых отсутствует дата подтверждения заказа (`order_approved_at`)"
   ]
  },
  {
   "cell_type": "code",
   "execution_count": 264,
   "metadata": {},
   "outputs": [],
   "source": [
    "orders_number_per_client_and_day = task4_merge_orders_with_customers \\\n",
    "    .query(\"order_status != 'created' & order_approved_at.isna() != True\") \\\n",
    "    .groupby(['customer_unique_id', 'order_purchase_timestamp'], as_index=False) \\\n",
    "    .agg({'order_id':'count'}) \\\n",
    "    .rename(columns={'order_id':'orders_num'}) \\\n",
    "    .sort_values('orders_num', ascending=False)"
   ]
  },
  {
   "cell_type": "markdown",
   "metadata": {},
   "source": [
    "Создаем колонку с указанием даты )год + месяц), отдельно года и месяца совершения заказа покупателем"
   ]
  },
  {
   "cell_type": "code",
   "execution_count": 265,
   "metadata": {},
   "outputs": [],
   "source": [
    "orders_number_per_client_and_day['date'] = \\\n",
    "    pd.DatetimeIndex(orders_number_per_client_and_day['order_purchase_timestamp']).strftime('%Y-%m')"
   ]
  },
  {
   "cell_type": "code",
   "execution_count": 266,
   "metadata": {},
   "outputs": [],
   "source": [
    "orders_number_per_client_and_day['month'] = \\\n",
    "    pd.DatetimeIndex(orders_number_per_client_and_day['order_purchase_timestamp']).month"
   ]
  },
  {
   "cell_type": "code",
   "execution_count": 267,
   "metadata": {},
   "outputs": [],
   "source": [
    "orders_number_per_client_and_day['year'] = \\\n",
    "    pd.DatetimeIndex(orders_number_per_client_and_day['order_purchase_timestamp']).year"
   ]
  },
  {
   "cell_type": "markdown",
   "metadata": {},
   "source": [
    "С помощью цикла и функции `monthrange` определяем количество дней в месяце x и помещяем значение в список, а затем добавляем значения списка в колонку `week_num`"
   ]
  },
  {
   "cell_type": "code",
   "execution_count": 268,
   "metadata": {},
   "outputs": [],
   "source": [
    "new_list = []\n",
    "for x in orders_number_per_client_and_day.itertuples():\n",
    "    new_list.append(monthrange(x.year, x.month)[1]/7)\n",
    "orders_number_per_client_and_day['week_num'] = new_list"
   ]
  },
  {
   "cell_type": "code",
   "execution_count": 269,
   "metadata": {},
   "outputs": [
    {
     "data": {
      "text/html": [
       "<div>\n",
       "<style scoped>\n",
       "    .dataframe tbody tr th:only-of-type {\n",
       "        vertical-align: middle;\n",
       "    }\n",
       "\n",
       "    .dataframe tbody tr th {\n",
       "        vertical-align: top;\n",
       "    }\n",
       "\n",
       "    .dataframe thead th {\n",
       "        text-align: right;\n",
       "    }\n",
       "</style>\n",
       "<table border=\"1\" class=\"dataframe\">\n",
       "  <thead>\n",
       "    <tr style=\"text-align: right;\">\n",
       "      <th></th>\n",
       "      <th>customer_unique_id</th>\n",
       "      <th>order_purchase_timestamp</th>\n",
       "      <th>orders_num</th>\n",
       "      <th>date</th>\n",
       "      <th>month</th>\n",
       "      <th>year</th>\n",
       "      <th>week_num</th>\n",
       "    </tr>\n",
       "  </thead>\n",
       "  <tbody>\n",
       "    <tr>\n",
       "      <th>7340</th>\n",
       "      <td>12f5d6e1cbf93dafd9dcc19095df0b3d</td>\n",
       "      <td>2017-01-05</td>\n",
       "      <td>6</td>\n",
       "      <td>2017-01</td>\n",
       "      <td>1</td>\n",
       "      <td>2017</td>\n",
       "      <td>4.428571</td>\n",
       "    </tr>\n",
       "    <tr>\n",
       "      <th>50771</th>\n",
       "      <td>83e7958a94bd7f74a9414d8782f87628</td>\n",
       "      <td>2017-01-05</td>\n",
       "      <td>4</td>\n",
       "      <td>2017-01</td>\n",
       "      <td>1</td>\n",
       "      <td>2017</td>\n",
       "      <td>4.428571</td>\n",
       "    </tr>\n",
       "    <tr>\n",
       "      <th>86627</th>\n",
       "      <td>e13e8b789e5a8e6fe1445f924a4ed4f6</td>\n",
       "      <td>2018-06-01</td>\n",
       "      <td>3</td>\n",
       "      <td>2018-06</td>\n",
       "      <td>6</td>\n",
       "      <td>2018</td>\n",
       "      <td>4.285714</td>\n",
       "    </tr>\n",
       "    <tr>\n",
       "      <th>71754</th>\n",
       "      <td>ba87a137c5191264841e0be40e53f4ed</td>\n",
       "      <td>2018-02-21</td>\n",
       "      <td>3</td>\n",
       "      <td>2018-02</td>\n",
       "      <td>2</td>\n",
       "      <td>2018</td>\n",
       "      <td>4.000000</td>\n",
       "    </tr>\n",
       "    <tr>\n",
       "      <th>59504</th>\n",
       "      <td>9aae8213ff9bc04cc3ce48b85f43a173</td>\n",
       "      <td>2018-05-27</td>\n",
       "      <td>3</td>\n",
       "      <td>2018-05</td>\n",
       "      <td>5</td>\n",
       "      <td>2018</td>\n",
       "      <td>4.428571</td>\n",
       "    </tr>\n",
       "  </tbody>\n",
       "</table>\n",
       "</div>"
      ],
      "text/plain": [
       "                     customer_unique_id order_purchase_timestamp  orders_num  \\\n",
       "7340   12f5d6e1cbf93dafd9dcc19095df0b3d               2017-01-05           6   \n",
       "50771  83e7958a94bd7f74a9414d8782f87628               2017-01-05           4   \n",
       "86627  e13e8b789e5a8e6fe1445f924a4ed4f6               2018-06-01           3   \n",
       "71754  ba87a137c5191264841e0be40e53f4ed               2018-02-21           3   \n",
       "59504  9aae8213ff9bc04cc3ce48b85f43a173               2018-05-27           3   \n",
       "\n",
       "          date  month  year  week_num  \n",
       "7340   2017-01      1  2017  4.428571  \n",
       "50771  2017-01      1  2017  4.428571  \n",
       "86627  2018-06      6  2018  4.285714  \n",
       "71754  2018-02      2  2018  4.000000  \n",
       "59504  2018-05      5  2018  4.428571  "
      ]
     },
     "execution_count": 269,
     "metadata": {},
     "output_type": "execute_result"
    }
   ],
   "source": [
    "orders_number_per_client_and_day.head()"
   ]
  },
  {
   "cell_type": "markdown",
   "metadata": {},
   "source": [
    "Проверим, имеются ли у нас данные за все дни в первый и последний месяц в датафрейме"
   ]
  },
  {
   "cell_type": "code",
   "execution_count": 270,
   "metadata": {},
   "outputs": [
    {
     "data": {
      "text/plain": [
       "datetime.date(2016, 9, 4)"
      ]
     },
     "execution_count": 270,
     "metadata": {},
     "output_type": "execute_result"
    }
   ],
   "source": [
    "orders_number_per_client_and_day.sort_values('order_purchase_timestamp').order_purchase_timestamp.min()"
   ]
  },
  {
   "cell_type": "code",
   "execution_count": 271,
   "metadata": {},
   "outputs": [
    {
     "data": {
      "text/plain": [
       "datetime.date(2018, 9, 3)"
      ]
     },
     "execution_count": 271,
     "metadata": {},
     "output_type": "execute_result"
    }
   ],
   "source": [
    "orders_number_per_client_and_day.sort_values('order_purchase_timestamp').order_purchase_timestamp.max()"
   ]
  },
  {
   "cell_type": "markdown",
   "metadata": {},
   "source": [
    "Видим, что первая строка в датафрейме - 4-е сентября 2016, последняя - 3 сентября 2018. Так как продажи есть только за часть этих периодов, убираем эти месяци, чтобы не исказить результат"
   ]
  },
  {
   "cell_type": "code",
   "execution_count": 272,
   "metadata": {},
   "outputs": [],
   "source": [
    "orders_number_per_client_and_day = \\\n",
    "    orders_number_per_client_and_day.query('(year != 2016 & month != 9) | (year != 2018 & month !=9)')"
   ]
  },
  {
   "cell_type": "markdown",
   "metadata": {},
   "source": [
    "Считаем количество заказов в каждом месяце"
   ]
  },
  {
   "cell_type": "code",
   "execution_count": 274,
   "metadata": {},
   "outputs": [],
   "source": [
    "orders_num_mean_per_week = orders_number_per_client_and_day \\\n",
    "    .groupby(['customer_unique_id', 'date', 'week_num'], as_index=False) \\\n",
    "    .agg({'orders_num':'sum'})"
   ]
  },
  {
   "cell_type": "markdown",
   "metadata": {},
   "source": [
    "Делим количество заказов на количество недель в месяце, чтобы найти среднее количество заказов у каждого пользователя в неделю по месяцам"
   ]
  },
  {
   "cell_type": "code",
   "execution_count": 275,
   "metadata": {},
   "outputs": [],
   "source": [
    "orders_num_mean_per_week['mean_per_week']= \\\n",
    "    orders_num_mean_per_week['orders_num']/orders_num_mean_per_week['week_num']"
   ]
  },
  {
   "cell_type": "markdown",
   "metadata": {},
   "source": [
    "### Ответ на задание 4:"
   ]
  },
  {
   "cell_type": "code",
   "execution_count": 276,
   "metadata": {},
   "outputs": [
    {
     "data": {
      "text/html": [
       "<div>\n",
       "<style scoped>\n",
       "    .dataframe tbody tr th:only-of-type {\n",
       "        vertical-align: middle;\n",
       "    }\n",
       "\n",
       "    .dataframe tbody tr th {\n",
       "        vertical-align: top;\n",
       "    }\n",
       "\n",
       "    .dataframe thead th {\n",
       "        text-align: right;\n",
       "    }\n",
       "</style>\n",
       "<table border=\"1\" class=\"dataframe\">\n",
       "  <thead>\n",
       "    <tr style=\"text-align: right;\">\n",
       "      <th></th>\n",
       "      <th>customer_unique_id</th>\n",
       "      <th>date</th>\n",
       "      <th>week_num</th>\n",
       "      <th>orders_num</th>\n",
       "      <th>mean_per_week</th>\n",
       "    </tr>\n",
       "  </thead>\n",
       "  <tbody>\n",
       "    <tr>\n",
       "      <th>7017</th>\n",
       "      <td>12f5d6e1cbf93dafd9dcc19095df0b3d</td>\n",
       "      <td>2017-01</td>\n",
       "      <td>4.428571</td>\n",
       "      <td>6</td>\n",
       "      <td>1.354839</td>\n",
       "    </tr>\n",
       "    <tr>\n",
       "      <th>66311</th>\n",
       "      <td>b4e4f24de1e8725b74e4a1f4975116ed</td>\n",
       "      <td>2018-02</td>\n",
       "      <td>4.000000</td>\n",
       "      <td>4</td>\n",
       "      <td>1.000000</td>\n",
       "    </tr>\n",
       "    <tr>\n",
       "      <th>59480</th>\n",
       "      <td>a239b8e2fbce33780f1f1912e2ee5275</td>\n",
       "      <td>2017-02</td>\n",
       "      <td>4.000000</td>\n",
       "      <td>4</td>\n",
       "      <td>1.000000</td>\n",
       "    </tr>\n",
       "    <tr>\n",
       "      <th>22898</th>\n",
       "      <td>3e43e6105506432c953e165fb2acf44c</td>\n",
       "      <td>2018-02</td>\n",
       "      <td>4.000000</td>\n",
       "      <td>4</td>\n",
       "      <td>1.000000</td>\n",
       "    </tr>\n",
       "    <tr>\n",
       "      <th>13871</th>\n",
       "      <td>25a560b9a6006157838aab1bdbd68624</td>\n",
       "      <td>2017-04</td>\n",
       "      <td>4.285714</td>\n",
       "      <td>4</td>\n",
       "      <td>0.933333</td>\n",
       "    </tr>\n",
       "    <tr>\n",
       "      <th>...</th>\n",
       "      <td>...</td>\n",
       "      <td>...</td>\n",
       "      <td>...</td>\n",
       "      <td>...</td>\n",
       "      <td>...</td>\n",
       "    </tr>\n",
       "    <tr>\n",
       "      <th>38484</th>\n",
       "      <td>68e3b9aa8653faf591d8e33d5154e325</td>\n",
       "      <td>2018-08</td>\n",
       "      <td>4.428571</td>\n",
       "      <td>1</td>\n",
       "      <td>0.225806</td>\n",
       "    </tr>\n",
       "    <tr>\n",
       "      <th>38485</th>\n",
       "      <td>68e4ba2b1343d7613572ad66c0d066f0</td>\n",
       "      <td>2018-07</td>\n",
       "      <td>4.428571</td>\n",
       "      <td>1</td>\n",
       "      <td>0.225806</td>\n",
       "    </tr>\n",
       "    <tr>\n",
       "      <th>38486</th>\n",
       "      <td>68e7a15ebbdef8c710aece489f7b7499</td>\n",
       "      <td>2018-05</td>\n",
       "      <td>4.428571</td>\n",
       "      <td>1</td>\n",
       "      <td>0.225806</td>\n",
       "    </tr>\n",
       "    <tr>\n",
       "      <th>38488</th>\n",
       "      <td>68ea2bc1718c8b2937503497480a484d</td>\n",
       "      <td>2017-12</td>\n",
       "      <td>4.428571</td>\n",
       "      <td>1</td>\n",
       "      <td>0.225806</td>\n",
       "    </tr>\n",
       "    <tr>\n",
       "      <th>93702</th>\n",
       "      <td>ffffd2657e2aad2907e67c3e9daecbeb</td>\n",
       "      <td>2017-05</td>\n",
       "      <td>4.428571</td>\n",
       "      <td>1</td>\n",
       "      <td>0.225806</td>\n",
       "    </tr>\n",
       "  </tbody>\n",
       "</table>\n",
       "<p>93703 rows × 5 columns</p>\n",
       "</div>"
      ],
      "text/plain": [
       "                     customer_unique_id     date  week_num  orders_num  \\\n",
       "7017   12f5d6e1cbf93dafd9dcc19095df0b3d  2017-01  4.428571           6   \n",
       "66311  b4e4f24de1e8725b74e4a1f4975116ed  2018-02  4.000000           4   \n",
       "59480  a239b8e2fbce33780f1f1912e2ee5275  2017-02  4.000000           4   \n",
       "22898  3e43e6105506432c953e165fb2acf44c  2018-02  4.000000           4   \n",
       "13871  25a560b9a6006157838aab1bdbd68624  2017-04  4.285714           4   \n",
       "...                                 ...      ...       ...         ...   \n",
       "38484  68e3b9aa8653faf591d8e33d5154e325  2018-08  4.428571           1   \n",
       "38485  68e4ba2b1343d7613572ad66c0d066f0  2018-07  4.428571           1   \n",
       "38486  68e7a15ebbdef8c710aece489f7b7499  2018-05  4.428571           1   \n",
       "38488  68ea2bc1718c8b2937503497480a484d  2017-12  4.428571           1   \n",
       "93702  ffffd2657e2aad2907e67c3e9daecbeb  2017-05  4.428571           1   \n",
       "\n",
       "       mean_per_week  \n",
       "7017        1.354839  \n",
       "66311       1.000000  \n",
       "59480       1.000000  \n",
       "22898       1.000000  \n",
       "13871       0.933333  \n",
       "...              ...  \n",
       "38484       0.225806  \n",
       "38485       0.225806  \n",
       "38486       0.225806  \n",
       "38488       0.225806  \n",
       "93702       0.225806  \n",
       "\n",
       "[93703 rows x 5 columns]"
      ]
     },
     "execution_count": 276,
     "metadata": {},
     "output_type": "execute_result"
    }
   ],
   "source": [
    "orders_num_mean_per_week.sort_values('mean_per_week', ascending=False)"
   ]
  },
  {
   "cell_type": "markdown",
   "metadata": {
    "scrolled": true
   },
   "source": [
    "### Задание 5. Используя pandas, проведи когортный анализ пользователей. В период с января по декабрь выяви когорту с самым высоким retention на 3й месяц."
   ]
  },
  {
   "cell_type": "markdown",
   "metadata": {},
   "source": [
    "Перед проведением когортного анализа определим четыре параметра:\n",
    "\n",
    "- __Признак формирования когорты__ — совершение первой покупки (действие, которое объединяет людей в группу).\n",
    "- __Размер когорты__ — временной интервал: месяц.  \n",
    "- __Отчетный период__ — с 2016 года по 2018 год.  \n",
    "- Анализируемый ключевой показатель: __Retention Rate__."
   ]
  },
  {
   "cell_type": "markdown",
   "metadata": {},
   "source": [
    "Создаем пустой df и помещаем туда данные из df `orders_merge_with_customers` (мердж из `orders` и `customers`)"
   ]
  },
  {
   "cell_type": "markdown",
   "metadata": {},
   "source": [
    "Так как нас для дальнейшего расчета интересует именно факт покупки товара, а не факт покупки и доставки товара покупателю, то за покупку будем считать наличие даты подтверждения заказа (order_approved_at). Исключаем заказы, которые не были подтверждены (\"created\"). Покупатель мог совершить покупку импульсивно или ошибочно и не подтвердить заказ в будущем) и заказы, у которых отсутствует дата подтверждения заказа (order_approved_at)"
   ]
  },
  {
   "cell_type": "code",
   "execution_count": 313,
   "metadata": {},
   "outputs": [],
   "source": [
    "task5_merge_orders_with_customers = orders_merge_with_customers.copy() \\\n",
    "    .query(\"order_status != 'created' & order_approved_at.isna() != True\")"
   ]
  },
  {
   "cell_type": "markdown",
   "metadata": {},
   "source": [
    "Приводим тип данных колонки с датой покупки (`order_purchase_timestamp`) к типу даты"
   ]
  },
  {
   "cell_type": "code",
   "execution_count": 314,
   "metadata": {},
   "outputs": [],
   "source": [
    "task5_merge_orders_with_customers['order_purchase_timestamp'] = \\\n",
    "    pd.to_datetime(task5_merge_orders_with_customers['order_purchase_timestamp']).values.astype('datetime64[D]')"
   ]
  },
  {
   "cell_type": "markdown",
   "metadata": {},
   "source": [
    "Оставялем нужные нам колонки для будущего анализа"
   ]
  },
  {
   "cell_type": "code",
   "execution_count": 315,
   "metadata": {},
   "outputs": [],
   "source": [
    "task5_merge_orders_with_customers=task5_merge_orders_with_customers[['customer_unique_id', \\\n",
    "    'order_purchase_timestamp']]"
   ]
  },
  {
   "cell_type": "markdown",
   "metadata": {},
   "source": [
    "Создаем колонку с месяцами `\"purchase_month\"` для того, чтобы затем выявить когорту на 3-й месяц"
   ]
  },
  {
   "cell_type": "code",
   "execution_count": 316,
   "metadata": {},
   "outputs": [],
   "source": [
    "task5_merge_orders_with_customers['purchase_month'] = \\\n",
    "    task5_merge_orders_with_customers['order_purchase_timestamp'].dt.to_period('M')\n",
    "# pd.DatetimeIndex(task5_merge_orders_with_customers['order_purchase_timestamp']).strftime('%Y-%m')"
   ]
  },
  {
   "cell_type": "markdown",
   "metadata": {},
   "source": [
    "Создаем колонку с когортами `\"cohort\"` - колонку с месяцем совершения первой покупки"
   ]
  },
  {
   "cell_type": "code",
   "execution_count": 322,
   "metadata": {},
   "outputs": [],
   "source": [
    "task5_merge_orders_with_customers['cohort'] = \\\n",
    "    task5_merge_orders_with_customers.groupby('customer_unique_id')['order_purchase_timestamp'] \\\n",
    "    .transform('min').dt.to_period('M')"
   ]
  },
  {
   "cell_type": "markdown",
   "metadata": {},
   "source": [
    "Смотрим на наш df для проверки выполнения вышеперечисленных операций"
   ]
  },
  {
   "cell_type": "code",
   "execution_count": 324,
   "metadata": {
    "scrolled": false
   },
   "outputs": [
    {
     "data": {
      "text/html": [
       "<div>\n",
       "<style scoped>\n",
       "    .dataframe tbody tr th:only-of-type {\n",
       "        vertical-align: middle;\n",
       "    }\n",
       "\n",
       "    .dataframe tbody tr th {\n",
       "        vertical-align: top;\n",
       "    }\n",
       "\n",
       "    .dataframe thead th {\n",
       "        text-align: right;\n",
       "    }\n",
       "</style>\n",
       "<table border=\"1\" class=\"dataframe\">\n",
       "  <thead>\n",
       "    <tr style=\"text-align: right;\">\n",
       "      <th></th>\n",
       "      <th>customer_unique_id</th>\n",
       "      <th>order_purchase_timestamp</th>\n",
       "      <th>purchase_month</th>\n",
       "      <th>cohort</th>\n",
       "    </tr>\n",
       "  </thead>\n",
       "  <tbody>\n",
       "    <tr>\n",
       "      <th>0</th>\n",
       "      <td>7c396fd4830fd04220f754e42b4e5bff</td>\n",
       "      <td>2017-10-02</td>\n",
       "      <td>2017-10</td>\n",
       "      <td>2017-09</td>\n",
       "    </tr>\n",
       "    <tr>\n",
       "      <th>1</th>\n",
       "      <td>af07308b275d755c9edb36a90c618231</td>\n",
       "      <td>2018-07-24</td>\n",
       "      <td>2018-07</td>\n",
       "      <td>2018-07</td>\n",
       "    </tr>\n",
       "    <tr>\n",
       "      <th>2</th>\n",
       "      <td>3a653a41f6f9fc3d2a113cf8398680e8</td>\n",
       "      <td>2018-08-08</td>\n",
       "      <td>2018-08</td>\n",
       "      <td>2018-08</td>\n",
       "    </tr>\n",
       "    <tr>\n",
       "      <th>3</th>\n",
       "      <td>7c142cf63193a1473d2e66489a9ae977</td>\n",
       "      <td>2017-11-18</td>\n",
       "      <td>2017-11</td>\n",
       "      <td>2017-11</td>\n",
       "    </tr>\n",
       "    <tr>\n",
       "      <th>4</th>\n",
       "      <td>72632f0f9dd73dfee390c9b22eb56dd6</td>\n",
       "      <td>2018-02-13</td>\n",
       "      <td>2018-02</td>\n",
       "      <td>2018-02</td>\n",
       "    </tr>\n",
       "  </tbody>\n",
       "</table>\n",
       "</div>"
      ],
      "text/plain": [
       "                 customer_unique_id order_purchase_timestamp purchase_month  \\\n",
       "0  7c396fd4830fd04220f754e42b4e5bff               2017-10-02        2017-10   \n",
       "1  af07308b275d755c9edb36a90c618231               2018-07-24        2018-07   \n",
       "2  3a653a41f6f9fc3d2a113cf8398680e8               2018-08-08        2018-08   \n",
       "3  7c142cf63193a1473d2e66489a9ae977               2017-11-18        2017-11   \n",
       "4  72632f0f9dd73dfee390c9b22eb56dd6               2018-02-13        2018-02   \n",
       "\n",
       "    cohort  \n",
       "0  2017-09  \n",
       "1  2018-07  \n",
       "2  2018-08  \n",
       "3  2017-11  \n",
       "4  2018-02  "
      ]
     },
     "execution_count": 324,
     "metadata": {},
     "output_type": "execute_result"
    }
   ],
   "source": [
    "task5_merge_orders_with_customers.head()"
   ]
  },
  {
   "cell_type": "markdown",
   "metadata": {},
   "source": [
    "Поверим, в какие месяцы в году у нас есть данные в df.  \n",
    "Видим, что только 2017 год содержит данные по всем 12-ти месяцам."
   ]
  },
  {
   "cell_type": "code",
   "execution_count": 44,
   "metadata": {},
   "outputs": [
    {
     "data": {
      "text/plain": [
       "2016-09       4\n",
       "2016-10     324\n",
       "2016-12       1\n",
       "2017-01     800\n",
       "2017-02    1780\n",
       "2017-03    2682\n",
       "2017-04    2404\n",
       "2017-05    3700\n",
       "2017-06    3245\n",
       "2017-07    4026\n",
       "2017-08    4331\n",
       "2017-09    4285\n",
       "2017-10    4631\n",
       "2017-11    7544\n",
       "2017-12    5673\n",
       "2018-01    7269\n",
       "2018-02    6728\n",
       "2018-03    7211\n",
       "2018-04    6939\n",
       "2018-05    6873\n",
       "2018-06    6167\n",
       "2018-07    6292\n",
       "2018-08    6512\n",
       "2018-09      16\n",
       "2018-10       4\n",
       "Freq: M, Name: purchase_month, dtype: int64"
      ]
     },
     "execution_count": 44,
     "metadata": {},
     "output_type": "execute_result"
    }
   ],
   "source": [
    "task5_merge_orders_with_customers.purchase_month.value_counts().sort_index()"
   ]
  },
  {
   "cell_type": "markdown",
   "metadata": {},
   "source": [
    "Проанализируем когорты только за 2017 год, так как за 2016 и 2018 года у нас мало данных\n",
    "Отбираем данные по когортам за 2017 год"
   ]
  },
  {
   "cell_type": "code",
   "execution_count": 349,
   "metadata": {},
   "outputs": [],
   "source": [
    "task5_merge_orders_with_customers = task5_merge_orders_with_customers \\\n",
    "    .query('cohort.dt.year != 2016 & cohort.dt.year != 2018')"
   ]
  },
  {
   "cell_type": "markdown",
   "metadata": {},
   "source": [
    "Сгруппируем данные по когорте и месяцу покупки и агрегируем по количеству `customer_unique_id`, чтобы получить данные по количеству пользователей в каждой когорте, совершивших покупки в разные месяцы. C помощью этих данных мы и посчитаем __retention__."
   ]
  },
  {
   "cell_type": "code",
   "execution_count": 351,
   "metadata": {
    "scrolled": true
   },
   "outputs": [],
   "source": [
    "task5_with_cohorts = task5_merge_orders_with_customers \\\n",
    "    .groupby(['cohort', 'purchase_month'], as_index=False) \\\n",
    "    .agg({'customer_unique_id':'nunique'}) \\\n",
    "    .rename(columns={'customer_unique_id':'customers_num'})"
   ]
  },
  {
   "cell_type": "markdown",
   "metadata": {},
   "source": [
    "Так как мы хотим посмотреть, как каждая когорта вела себя в течение 12 месяцев после их первой покупки,\n",
    "для удобства присвоим каждой когорте номер месяца, когда была совершена повторная покупка после самого первого месяца покупки.  \n",
    "Например, period = 0 будет месяцем совершения первой покупки (то есть покупка была совершена в месяц, равный признаку когорты - месяцу совершения первой покупки).  \n",
    "period = 1 является первым месяцем совершения ПОВТОРНОЙ покупки (не месяцем совершения первой покупки \"period 0\") покупателями из когорты, первый месяц покупки которой равен period 0.  \n",
    "period 0 также равняется размеру когорты (количеству покупателей, совершивших первую покупку в данный месяц)"
   ]
  },
  {
   "cell_type": "markdown",
   "metadata": {},
   "source": [
    "Создаем столбец с периодом и с помощью функции `attrgetter` считаем в какой месяц по счету была совершена повторная покупка"
   ]
  },
  {
   "cell_type": "code",
   "execution_count": 352,
   "metadata": {},
   "outputs": [],
   "source": [
    "task5_with_cohorts['period'] = \\\n",
    "    (task5_with_cohorts.purchase_month - task5_with_cohorts.cohort).apply(attrgetter('n')) "
   ]
  },
  {
   "cell_type": "markdown",
   "metadata": {},
   "source": [
    "Проверяем df"
   ]
  },
  {
   "cell_type": "code",
   "execution_count": 353,
   "metadata": {
    "scrolled": false
   },
   "outputs": [
    {
     "data": {
      "text/html": [
       "<div>\n",
       "<style scoped>\n",
       "    .dataframe tbody tr th:only-of-type {\n",
       "        vertical-align: middle;\n",
       "    }\n",
       "\n",
       "    .dataframe tbody tr th {\n",
       "        vertical-align: top;\n",
       "    }\n",
       "\n",
       "    .dataframe thead th {\n",
       "        text-align: right;\n",
       "    }\n",
       "</style>\n",
       "<table border=\"1\" class=\"dataframe\">\n",
       "  <thead>\n",
       "    <tr style=\"text-align: right;\">\n",
       "      <th></th>\n",
       "      <th>cohort</th>\n",
       "      <th>purchase_month</th>\n",
       "      <th>customers_num</th>\n",
       "      <th>period</th>\n",
       "    </tr>\n",
       "  </thead>\n",
       "  <tbody>\n",
       "    <tr>\n",
       "      <th>0</th>\n",
       "      <td>2017-01</td>\n",
       "      <td>2017-01</td>\n",
       "      <td>762</td>\n",
       "      <td>0</td>\n",
       "    </tr>\n",
       "    <tr>\n",
       "      <th>1</th>\n",
       "      <td>2017-01</td>\n",
       "      <td>2017-02</td>\n",
       "      <td>3</td>\n",
       "      <td>1</td>\n",
       "    </tr>\n",
       "    <tr>\n",
       "      <th>2</th>\n",
       "      <td>2017-01</td>\n",
       "      <td>2017-03</td>\n",
       "      <td>2</td>\n",
       "      <td>2</td>\n",
       "    </tr>\n",
       "    <tr>\n",
       "      <th>3</th>\n",
       "      <td>2017-01</td>\n",
       "      <td>2017-04</td>\n",
       "      <td>1</td>\n",
       "      <td>3</td>\n",
       "    </tr>\n",
       "    <tr>\n",
       "      <th>4</th>\n",
       "      <td>2017-01</td>\n",
       "      <td>2017-05</td>\n",
       "      <td>3</td>\n",
       "      <td>4</td>\n",
       "    </tr>\n",
       "    <tr>\n",
       "      <th>5</th>\n",
       "      <td>2017-01</td>\n",
       "      <td>2017-06</td>\n",
       "      <td>1</td>\n",
       "      <td>5</td>\n",
       "    </tr>\n",
       "    <tr>\n",
       "      <th>6</th>\n",
       "      <td>2017-01</td>\n",
       "      <td>2017-07</td>\n",
       "      <td>4</td>\n",
       "      <td>6</td>\n",
       "    </tr>\n",
       "    <tr>\n",
       "      <th>7</th>\n",
       "      <td>2017-01</td>\n",
       "      <td>2017-08</td>\n",
       "      <td>1</td>\n",
       "      <td>7</td>\n",
       "    </tr>\n",
       "    <tr>\n",
       "      <th>8</th>\n",
       "      <td>2017-01</td>\n",
       "      <td>2017-09</td>\n",
       "      <td>1</td>\n",
       "      <td>8</td>\n",
       "    </tr>\n",
       "    <tr>\n",
       "      <th>9</th>\n",
       "      <td>2017-01</td>\n",
       "      <td>2017-11</td>\n",
       "      <td>3</td>\n",
       "      <td>10</td>\n",
       "    </tr>\n",
       "  </tbody>\n",
       "</table>\n",
       "</div>"
      ],
      "text/plain": [
       "    cohort purchase_month  customers_num  period\n",
       "0  2017-01        2017-01            762       0\n",
       "1  2017-01        2017-02              3       1\n",
       "2  2017-01        2017-03              2       2\n",
       "3  2017-01        2017-04              1       3\n",
       "4  2017-01        2017-05              3       4\n",
       "5  2017-01        2017-06              1       5\n",
       "6  2017-01        2017-07              4       6\n",
       "7  2017-01        2017-08              1       7\n",
       "8  2017-01        2017-09              1       8\n",
       "9  2017-01        2017-11              3      10"
      ]
     },
     "execution_count": 353,
     "metadata": {},
     "output_type": "execute_result"
    }
   ],
   "source": [
    "task5_with_cohorts.head(10)"
   ]
  },
  {
   "cell_type": "markdown",
   "metadata": {},
   "source": [
    "С помощью `pivot` приводим таблицу к удобному виду"
   ]
  },
  {
   "cell_type": "code",
   "execution_count": 354,
   "metadata": {},
   "outputs": [],
   "source": [
    "task5_with_cohorts_final=task5_with_cohorts.pivot(index='cohort', columns='period', values='customers_num')"
   ]
  },
  {
   "cell_type": "markdown",
   "metadata": {},
   "source": [
    "Считаем __retention__ в %. Чтобы это сделать, разделим каждое значение на размер когорты и умножим на 100"
   ]
  },
  {
   "cell_type": "code",
   "execution_count": 355,
   "metadata": {},
   "outputs": [],
   "source": [
    "task5_with_cohorts_final=task5_with_cohorts_final.div(task5_with_cohorts_final[0], axis='index')*100"
   ]
  },
  {
   "cell_type": "code",
   "execution_count": 356,
   "metadata": {},
   "outputs": [
    {
     "data": {
      "text/html": [
       "<div>\n",
       "<style scoped>\n",
       "    .dataframe tbody tr th:only-of-type {\n",
       "        vertical-align: middle;\n",
       "    }\n",
       "\n",
       "    .dataframe tbody tr th {\n",
       "        vertical-align: top;\n",
       "    }\n",
       "\n",
       "    .dataframe thead th {\n",
       "        text-align: right;\n",
       "    }\n",
       "</style>\n",
       "<table border=\"1\" class=\"dataframe\">\n",
       "  <thead>\n",
       "    <tr style=\"text-align: right;\">\n",
       "      <th>period</th>\n",
       "      <th>0</th>\n",
       "      <th>1</th>\n",
       "      <th>2</th>\n",
       "      <th>3</th>\n",
       "      <th>4</th>\n",
       "      <th>5</th>\n",
       "      <th>6</th>\n",
       "      <th>7</th>\n",
       "      <th>8</th>\n",
       "      <th>9</th>\n",
       "      <th>10</th>\n",
       "      <th>11</th>\n",
       "      <th>12</th>\n",
       "      <th>13</th>\n",
       "      <th>14</th>\n",
       "      <th>15</th>\n",
       "      <th>16</th>\n",
       "      <th>17</th>\n",
       "      <th>19</th>\n",
       "    </tr>\n",
       "    <tr>\n",
       "      <th>cohort</th>\n",
       "      <th></th>\n",
       "      <th></th>\n",
       "      <th></th>\n",
       "      <th></th>\n",
       "      <th></th>\n",
       "      <th></th>\n",
       "      <th></th>\n",
       "      <th></th>\n",
       "      <th></th>\n",
       "      <th></th>\n",
       "      <th></th>\n",
       "      <th></th>\n",
       "      <th></th>\n",
       "      <th></th>\n",
       "      <th></th>\n",
       "      <th></th>\n",
       "      <th></th>\n",
       "      <th></th>\n",
       "      <th></th>\n",
       "    </tr>\n",
       "  </thead>\n",
       "  <tbody>\n",
       "    <tr>\n",
       "      <th>2017-01</th>\n",
       "      <td>100.0</td>\n",
       "      <td>0.393701</td>\n",
       "      <td>0.262467</td>\n",
       "      <td>0.131234</td>\n",
       "      <td>0.393701</td>\n",
       "      <td>0.131234</td>\n",
       "      <td>0.524934</td>\n",
       "      <td>0.131234</td>\n",
       "      <td>0.131234</td>\n",
       "      <td>NaN</td>\n",
       "      <td>0.393701</td>\n",
       "      <td>0.131234</td>\n",
       "      <td>0.787402</td>\n",
       "      <td>0.393701</td>\n",
       "      <td>0.131234</td>\n",
       "      <td>0.131234</td>\n",
       "      <td>0.262467</td>\n",
       "      <td>0.393701</td>\n",
       "      <td>0.131234</td>\n",
       "    </tr>\n",
       "    <tr>\n",
       "      <th>2017-02</th>\n",
       "      <td>100.0</td>\n",
       "      <td>0.230150</td>\n",
       "      <td>0.287687</td>\n",
       "      <td>0.115075</td>\n",
       "      <td>0.402762</td>\n",
       "      <td>0.115075</td>\n",
       "      <td>0.230150</td>\n",
       "      <td>0.172612</td>\n",
       "      <td>0.115075</td>\n",
       "      <td>0.230150</td>\n",
       "      <td>0.115075</td>\n",
       "      <td>0.287687</td>\n",
       "      <td>0.172612</td>\n",
       "      <td>0.172612</td>\n",
       "      <td>0.115075</td>\n",
       "      <td>0.057537</td>\n",
       "      <td>0.057537</td>\n",
       "      <td>0.230150</td>\n",
       "      <td>NaN</td>\n",
       "    </tr>\n",
       "    <tr>\n",
       "      <th>2017-03</th>\n",
       "      <td>100.0</td>\n",
       "      <td>0.493546</td>\n",
       "      <td>0.341686</td>\n",
       "      <td>0.379651</td>\n",
       "      <td>0.341686</td>\n",
       "      <td>0.151860</td>\n",
       "      <td>0.151860</td>\n",
       "      <td>0.303721</td>\n",
       "      <td>0.341686</td>\n",
       "      <td>0.075930</td>\n",
       "      <td>0.379651</td>\n",
       "      <td>0.151860</td>\n",
       "      <td>0.227790</td>\n",
       "      <td>0.113895</td>\n",
       "      <td>0.151860</td>\n",
       "      <td>0.227790</td>\n",
       "      <td>0.075930</td>\n",
       "      <td>0.151860</td>\n",
       "      <td>NaN</td>\n",
       "    </tr>\n",
       "    <tr>\n",
       "      <th>2017-04</th>\n",
       "      <td>100.0</td>\n",
       "      <td>0.596252</td>\n",
       "      <td>0.212947</td>\n",
       "      <td>0.170358</td>\n",
       "      <td>0.340716</td>\n",
       "      <td>0.255537</td>\n",
       "      <td>0.340716</td>\n",
       "      <td>0.298126</td>\n",
       "      <td>0.298126</td>\n",
       "      <td>0.170358</td>\n",
       "      <td>0.255537</td>\n",
       "      <td>0.085179</td>\n",
       "      <td>0.085179</td>\n",
       "      <td>0.042589</td>\n",
       "      <td>0.085179</td>\n",
       "      <td>0.085179</td>\n",
       "      <td>0.212947</td>\n",
       "      <td>NaN</td>\n",
       "      <td>NaN</td>\n",
       "    </tr>\n",
       "    <tr>\n",
       "      <th>2017-05</th>\n",
       "      <td>100.0</td>\n",
       "      <td>0.473538</td>\n",
       "      <td>0.501393</td>\n",
       "      <td>0.389972</td>\n",
       "      <td>0.306407</td>\n",
       "      <td>0.334262</td>\n",
       "      <td>0.417827</td>\n",
       "      <td>0.167131</td>\n",
       "      <td>0.250696</td>\n",
       "      <td>0.306407</td>\n",
       "      <td>0.250696</td>\n",
       "      <td>0.334262</td>\n",
       "      <td>0.250696</td>\n",
       "      <td>0.027855</td>\n",
       "      <td>0.194986</td>\n",
       "      <td>0.250696</td>\n",
       "      <td>NaN</td>\n",
       "      <td>NaN</td>\n",
       "      <td>NaN</td>\n",
       "    </tr>\n",
       "    <tr>\n",
       "      <th>2017-06</th>\n",
       "      <td>100.0</td>\n",
       "      <td>0.478011</td>\n",
       "      <td>0.350542</td>\n",
       "      <td>0.414277</td>\n",
       "      <td>0.254939</td>\n",
       "      <td>0.382409</td>\n",
       "      <td>0.382409</td>\n",
       "      <td>0.223072</td>\n",
       "      <td>0.127470</td>\n",
       "      <td>0.223072</td>\n",
       "      <td>0.318674</td>\n",
       "      <td>0.350542</td>\n",
       "      <td>0.159337</td>\n",
       "      <td>0.127470</td>\n",
       "      <td>0.191205</td>\n",
       "      <td>NaN</td>\n",
       "      <td>NaN</td>\n",
       "      <td>NaN</td>\n",
       "      <td>NaN</td>\n",
       "    </tr>\n",
       "    <tr>\n",
       "      <th>2017-07</th>\n",
       "      <td>100.0</td>\n",
       "      <td>0.514271</td>\n",
       "      <td>0.359990</td>\n",
       "      <td>0.257136</td>\n",
       "      <td>0.282849</td>\n",
       "      <td>0.205708</td>\n",
       "      <td>0.308563</td>\n",
       "      <td>0.102854</td>\n",
       "      <td>0.179995</td>\n",
       "      <td>0.257136</td>\n",
       "      <td>0.231422</td>\n",
       "      <td>0.308563</td>\n",
       "      <td>0.128568</td>\n",
       "      <td>0.257136</td>\n",
       "      <td>NaN</td>\n",
       "      <td>NaN</td>\n",
       "      <td>NaN</td>\n",
       "      <td>NaN</td>\n",
       "      <td>NaN</td>\n",
       "    </tr>\n",
       "    <tr>\n",
       "      <th>2017-08</th>\n",
       "      <td>100.0</td>\n",
       "      <td>0.669696</td>\n",
       "      <td>0.334848</td>\n",
       "      <td>0.263095</td>\n",
       "      <td>0.358766</td>\n",
       "      <td>0.526190</td>\n",
       "      <td>0.287013</td>\n",
       "      <td>0.263095</td>\n",
       "      <td>0.143506</td>\n",
       "      <td>0.143506</td>\n",
       "      <td>0.239177</td>\n",
       "      <td>0.191342</td>\n",
       "      <td>0.095671</td>\n",
       "      <td>NaN</td>\n",
       "      <td>NaN</td>\n",
       "      <td>NaN</td>\n",
       "      <td>NaN</td>\n",
       "      <td>NaN</td>\n",
       "      <td>NaN</td>\n",
       "    </tr>\n",
       "    <tr>\n",
       "      <th>2017-10</th>\n",
       "      <td>100.0</td>\n",
       "      <td>0.693978</td>\n",
       "      <td>0.246250</td>\n",
       "      <td>0.089546</td>\n",
       "      <td>0.223864</td>\n",
       "      <td>0.201478</td>\n",
       "      <td>0.223864</td>\n",
       "      <td>0.358182</td>\n",
       "      <td>0.268637</td>\n",
       "      <td>0.201478</td>\n",
       "      <td>0.201478</td>\n",
       "      <td>NaN</td>\n",
       "      <td>NaN</td>\n",
       "      <td>NaN</td>\n",
       "      <td>NaN</td>\n",
       "      <td>NaN</td>\n",
       "      <td>NaN</td>\n",
       "      <td>NaN</td>\n",
       "      <td>NaN</td>\n",
       "    </tr>\n",
       "    <tr>\n",
       "      <th>2017-11</th>\n",
       "      <td>100.0</td>\n",
       "      <td>0.548170</td>\n",
       "      <td>0.383719</td>\n",
       "      <td>0.178155</td>\n",
       "      <td>0.191860</td>\n",
       "      <td>0.178155</td>\n",
       "      <td>0.109634</td>\n",
       "      <td>0.191860</td>\n",
       "      <td>0.137043</td>\n",
       "      <td>0.054817</td>\n",
       "      <td>NaN</td>\n",
       "      <td>NaN</td>\n",
       "      <td>NaN</td>\n",
       "      <td>NaN</td>\n",
       "      <td>NaN</td>\n",
       "      <td>NaN</td>\n",
       "      <td>NaN</td>\n",
       "      <td>NaN</td>\n",
       "      <td>NaN</td>\n",
       "    </tr>\n",
       "    <tr>\n",
       "      <th>2017-12</th>\n",
       "      <td>100.0</td>\n",
       "      <td>0.255381</td>\n",
       "      <td>0.273623</td>\n",
       "      <td>0.346589</td>\n",
       "      <td>0.273623</td>\n",
       "      <td>0.200657</td>\n",
       "      <td>0.164174</td>\n",
       "      <td>0.036483</td>\n",
       "      <td>0.218898</td>\n",
       "      <td>NaN</td>\n",
       "      <td>NaN</td>\n",
       "      <td>NaN</td>\n",
       "      <td>NaN</td>\n",
       "      <td>NaN</td>\n",
       "      <td>NaN</td>\n",
       "      <td>NaN</td>\n",
       "      <td>NaN</td>\n",
       "      <td>NaN</td>\n",
       "      <td>NaN</td>\n",
       "    </tr>\n",
       "  </tbody>\n",
       "</table>\n",
       "</div>"
      ],
      "text/plain": [
       "period      0         1         2         3         4         5         6   \\\n",
       "cohort                                                                       \n",
       "2017-01  100.0  0.393701  0.262467  0.131234  0.393701  0.131234  0.524934   \n",
       "2017-02  100.0  0.230150  0.287687  0.115075  0.402762  0.115075  0.230150   \n",
       "2017-03  100.0  0.493546  0.341686  0.379651  0.341686  0.151860  0.151860   \n",
       "2017-04  100.0  0.596252  0.212947  0.170358  0.340716  0.255537  0.340716   \n",
       "2017-05  100.0  0.473538  0.501393  0.389972  0.306407  0.334262  0.417827   \n",
       "2017-06  100.0  0.478011  0.350542  0.414277  0.254939  0.382409  0.382409   \n",
       "2017-07  100.0  0.514271  0.359990  0.257136  0.282849  0.205708  0.308563   \n",
       "2017-08  100.0  0.669696  0.334848  0.263095  0.358766  0.526190  0.287013   \n",
       "2017-10  100.0  0.693978  0.246250  0.089546  0.223864  0.201478  0.223864   \n",
       "2017-11  100.0  0.548170  0.383719  0.178155  0.191860  0.178155  0.109634   \n",
       "2017-12  100.0  0.255381  0.273623  0.346589  0.273623  0.200657  0.164174   \n",
       "\n",
       "period         7         8         9         10        11        12        13  \\\n",
       "cohort                                                                          \n",
       "2017-01  0.131234  0.131234       NaN  0.393701  0.131234  0.787402  0.393701   \n",
       "2017-02  0.172612  0.115075  0.230150  0.115075  0.287687  0.172612  0.172612   \n",
       "2017-03  0.303721  0.341686  0.075930  0.379651  0.151860  0.227790  0.113895   \n",
       "2017-04  0.298126  0.298126  0.170358  0.255537  0.085179  0.085179  0.042589   \n",
       "2017-05  0.167131  0.250696  0.306407  0.250696  0.334262  0.250696  0.027855   \n",
       "2017-06  0.223072  0.127470  0.223072  0.318674  0.350542  0.159337  0.127470   \n",
       "2017-07  0.102854  0.179995  0.257136  0.231422  0.308563  0.128568  0.257136   \n",
       "2017-08  0.263095  0.143506  0.143506  0.239177  0.191342  0.095671       NaN   \n",
       "2017-10  0.358182  0.268637  0.201478  0.201478       NaN       NaN       NaN   \n",
       "2017-11  0.191860  0.137043  0.054817       NaN       NaN       NaN       NaN   \n",
       "2017-12  0.036483  0.218898       NaN       NaN       NaN       NaN       NaN   \n",
       "\n",
       "period         14        15        16        17        19  \n",
       "cohort                                                     \n",
       "2017-01  0.131234  0.131234  0.262467  0.393701  0.131234  \n",
       "2017-02  0.115075  0.057537  0.057537  0.230150       NaN  \n",
       "2017-03  0.151860  0.227790  0.075930  0.151860       NaN  \n",
       "2017-04  0.085179  0.085179  0.212947       NaN       NaN  \n",
       "2017-05  0.194986  0.250696       NaN       NaN       NaN  \n",
       "2017-06  0.191205       NaN       NaN       NaN       NaN  \n",
       "2017-07       NaN       NaN       NaN       NaN       NaN  \n",
       "2017-08       NaN       NaN       NaN       NaN       NaN  \n",
       "2017-10       NaN       NaN       NaN       NaN       NaN  \n",
       "2017-11       NaN       NaN       NaN       NaN       NaN  \n",
       "2017-12       NaN       NaN       NaN       NaN       NaN  "
      ]
     },
     "execution_count": 356,
     "metadata": {},
     "output_type": "execute_result"
    }
   ],
   "source": [
    "task5_with_cohorts_final"
   ]
  },
  {
   "cell_type": "markdown",
   "metadata": {},
   "source": [
    "Захайлайтим максимумы в каждом столбце, оставив только два знака после запятой.  \n",
    "Также уберем пустые значения"
   ]
  },
  {
   "cell_type": "code",
   "execution_count": 357,
   "metadata": {},
   "outputs": [
    {
     "data": {
      "text/html": [
       "<style type=\"text/css\">\n",
       "#T_f620b_row0_col0, #T_f620b_row0_col6, #T_f620b_row0_col10, #T_f620b_row0_col12, #T_f620b_row0_col13, #T_f620b_row0_col16, #T_f620b_row0_col17, #T_f620b_row0_col18, #T_f620b_row1_col0, #T_f620b_row1_col4, #T_f620b_row2_col0, #T_f620b_row2_col8, #T_f620b_row3_col0, #T_f620b_row4_col0, #T_f620b_row4_col2, #T_f620b_row4_col9, #T_f620b_row4_col14, #T_f620b_row4_col15, #T_f620b_row5_col0, #T_f620b_row5_col3, #T_f620b_row5_col11, #T_f620b_row6_col0, #T_f620b_row7_col0, #T_f620b_row7_col5, #T_f620b_row8_col0, #T_f620b_row8_col1, #T_f620b_row8_col7, #T_f620b_row9_col0, #T_f620b_row10_col0 {\n",
       "  background-color: red;\n",
       "}\n",
       "</style>\n",
       "<table id=\"T_f620b\">\n",
       "  <caption>Cohort Analysis</caption>\n",
       "  <thead>\n",
       "    <tr>\n",
       "      <th class=\"index_name level0\" >period</th>\n",
       "      <th id=\"T_f620b_level0_col0\" class=\"col_heading level0 col0\" >0</th>\n",
       "      <th id=\"T_f620b_level0_col1\" class=\"col_heading level0 col1\" >1</th>\n",
       "      <th id=\"T_f620b_level0_col2\" class=\"col_heading level0 col2\" >2</th>\n",
       "      <th id=\"T_f620b_level0_col3\" class=\"col_heading level0 col3\" >3</th>\n",
       "      <th id=\"T_f620b_level0_col4\" class=\"col_heading level0 col4\" >4</th>\n",
       "      <th id=\"T_f620b_level0_col5\" class=\"col_heading level0 col5\" >5</th>\n",
       "      <th id=\"T_f620b_level0_col6\" class=\"col_heading level0 col6\" >6</th>\n",
       "      <th id=\"T_f620b_level0_col7\" class=\"col_heading level0 col7\" >7</th>\n",
       "      <th id=\"T_f620b_level0_col8\" class=\"col_heading level0 col8\" >8</th>\n",
       "      <th id=\"T_f620b_level0_col9\" class=\"col_heading level0 col9\" >9</th>\n",
       "      <th id=\"T_f620b_level0_col10\" class=\"col_heading level0 col10\" >10</th>\n",
       "      <th id=\"T_f620b_level0_col11\" class=\"col_heading level0 col11\" >11</th>\n",
       "      <th id=\"T_f620b_level0_col12\" class=\"col_heading level0 col12\" >12</th>\n",
       "      <th id=\"T_f620b_level0_col13\" class=\"col_heading level0 col13\" >13</th>\n",
       "      <th id=\"T_f620b_level0_col14\" class=\"col_heading level0 col14\" >14</th>\n",
       "      <th id=\"T_f620b_level0_col15\" class=\"col_heading level0 col15\" >15</th>\n",
       "      <th id=\"T_f620b_level0_col16\" class=\"col_heading level0 col16\" >16</th>\n",
       "      <th id=\"T_f620b_level0_col17\" class=\"col_heading level0 col17\" >17</th>\n",
       "      <th id=\"T_f620b_level0_col18\" class=\"col_heading level0 col18\" >19</th>\n",
       "    </tr>\n",
       "    <tr>\n",
       "      <th class=\"index_name level0\" >cohort</th>\n",
       "      <th class=\"blank col0\" >&nbsp;</th>\n",
       "      <th class=\"blank col1\" >&nbsp;</th>\n",
       "      <th class=\"blank col2\" >&nbsp;</th>\n",
       "      <th class=\"blank col3\" >&nbsp;</th>\n",
       "      <th class=\"blank col4\" >&nbsp;</th>\n",
       "      <th class=\"blank col5\" >&nbsp;</th>\n",
       "      <th class=\"blank col6\" >&nbsp;</th>\n",
       "      <th class=\"blank col7\" >&nbsp;</th>\n",
       "      <th class=\"blank col8\" >&nbsp;</th>\n",
       "      <th class=\"blank col9\" >&nbsp;</th>\n",
       "      <th class=\"blank col10\" >&nbsp;</th>\n",
       "      <th class=\"blank col11\" >&nbsp;</th>\n",
       "      <th class=\"blank col12\" >&nbsp;</th>\n",
       "      <th class=\"blank col13\" >&nbsp;</th>\n",
       "      <th class=\"blank col14\" >&nbsp;</th>\n",
       "      <th class=\"blank col15\" >&nbsp;</th>\n",
       "      <th class=\"blank col16\" >&nbsp;</th>\n",
       "      <th class=\"blank col17\" >&nbsp;</th>\n",
       "      <th class=\"blank col18\" >&nbsp;</th>\n",
       "    </tr>\n",
       "  </thead>\n",
       "  <tbody>\n",
       "    <tr>\n",
       "      <th id=\"T_f620b_level0_row0\" class=\"row_heading level0 row0\" >2017-01</th>\n",
       "      <td id=\"T_f620b_row0_col0\" class=\"data row0 col0\" >100.00</td>\n",
       "      <td id=\"T_f620b_row0_col1\" class=\"data row0 col1\" >0.39</td>\n",
       "      <td id=\"T_f620b_row0_col2\" class=\"data row0 col2\" >0.26</td>\n",
       "      <td id=\"T_f620b_row0_col3\" class=\"data row0 col3\" >0.13</td>\n",
       "      <td id=\"T_f620b_row0_col4\" class=\"data row0 col4\" >0.39</td>\n",
       "      <td id=\"T_f620b_row0_col5\" class=\"data row0 col5\" >0.13</td>\n",
       "      <td id=\"T_f620b_row0_col6\" class=\"data row0 col6\" >0.52</td>\n",
       "      <td id=\"T_f620b_row0_col7\" class=\"data row0 col7\" >0.13</td>\n",
       "      <td id=\"T_f620b_row0_col8\" class=\"data row0 col8\" >0.13</td>\n",
       "      <td id=\"T_f620b_row0_col9\" class=\"data row0 col9\" ></td>\n",
       "      <td id=\"T_f620b_row0_col10\" class=\"data row0 col10\" >0.39</td>\n",
       "      <td id=\"T_f620b_row0_col11\" class=\"data row0 col11\" >0.13</td>\n",
       "      <td id=\"T_f620b_row0_col12\" class=\"data row0 col12\" >0.79</td>\n",
       "      <td id=\"T_f620b_row0_col13\" class=\"data row0 col13\" >0.39</td>\n",
       "      <td id=\"T_f620b_row0_col14\" class=\"data row0 col14\" >0.13</td>\n",
       "      <td id=\"T_f620b_row0_col15\" class=\"data row0 col15\" >0.13</td>\n",
       "      <td id=\"T_f620b_row0_col16\" class=\"data row0 col16\" >0.26</td>\n",
       "      <td id=\"T_f620b_row0_col17\" class=\"data row0 col17\" >0.39</td>\n",
       "      <td id=\"T_f620b_row0_col18\" class=\"data row0 col18\" >0.13</td>\n",
       "    </tr>\n",
       "    <tr>\n",
       "      <th id=\"T_f620b_level0_row1\" class=\"row_heading level0 row1\" >2017-02</th>\n",
       "      <td id=\"T_f620b_row1_col0\" class=\"data row1 col0\" >100.00</td>\n",
       "      <td id=\"T_f620b_row1_col1\" class=\"data row1 col1\" >0.23</td>\n",
       "      <td id=\"T_f620b_row1_col2\" class=\"data row1 col2\" >0.29</td>\n",
       "      <td id=\"T_f620b_row1_col3\" class=\"data row1 col3\" >0.12</td>\n",
       "      <td id=\"T_f620b_row1_col4\" class=\"data row1 col4\" >0.40</td>\n",
       "      <td id=\"T_f620b_row1_col5\" class=\"data row1 col5\" >0.12</td>\n",
       "      <td id=\"T_f620b_row1_col6\" class=\"data row1 col6\" >0.23</td>\n",
       "      <td id=\"T_f620b_row1_col7\" class=\"data row1 col7\" >0.17</td>\n",
       "      <td id=\"T_f620b_row1_col8\" class=\"data row1 col8\" >0.12</td>\n",
       "      <td id=\"T_f620b_row1_col9\" class=\"data row1 col9\" >0.23</td>\n",
       "      <td id=\"T_f620b_row1_col10\" class=\"data row1 col10\" >0.12</td>\n",
       "      <td id=\"T_f620b_row1_col11\" class=\"data row1 col11\" >0.29</td>\n",
       "      <td id=\"T_f620b_row1_col12\" class=\"data row1 col12\" >0.17</td>\n",
       "      <td id=\"T_f620b_row1_col13\" class=\"data row1 col13\" >0.17</td>\n",
       "      <td id=\"T_f620b_row1_col14\" class=\"data row1 col14\" >0.12</td>\n",
       "      <td id=\"T_f620b_row1_col15\" class=\"data row1 col15\" >0.06</td>\n",
       "      <td id=\"T_f620b_row1_col16\" class=\"data row1 col16\" >0.06</td>\n",
       "      <td id=\"T_f620b_row1_col17\" class=\"data row1 col17\" >0.23</td>\n",
       "      <td id=\"T_f620b_row1_col18\" class=\"data row1 col18\" ></td>\n",
       "    </tr>\n",
       "    <tr>\n",
       "      <th id=\"T_f620b_level0_row2\" class=\"row_heading level0 row2\" >2017-03</th>\n",
       "      <td id=\"T_f620b_row2_col0\" class=\"data row2 col0\" >100.00</td>\n",
       "      <td id=\"T_f620b_row2_col1\" class=\"data row2 col1\" >0.49</td>\n",
       "      <td id=\"T_f620b_row2_col2\" class=\"data row2 col2\" >0.34</td>\n",
       "      <td id=\"T_f620b_row2_col3\" class=\"data row2 col3\" >0.38</td>\n",
       "      <td id=\"T_f620b_row2_col4\" class=\"data row2 col4\" >0.34</td>\n",
       "      <td id=\"T_f620b_row2_col5\" class=\"data row2 col5\" >0.15</td>\n",
       "      <td id=\"T_f620b_row2_col6\" class=\"data row2 col6\" >0.15</td>\n",
       "      <td id=\"T_f620b_row2_col7\" class=\"data row2 col7\" >0.30</td>\n",
       "      <td id=\"T_f620b_row2_col8\" class=\"data row2 col8\" >0.34</td>\n",
       "      <td id=\"T_f620b_row2_col9\" class=\"data row2 col9\" >0.08</td>\n",
       "      <td id=\"T_f620b_row2_col10\" class=\"data row2 col10\" >0.38</td>\n",
       "      <td id=\"T_f620b_row2_col11\" class=\"data row2 col11\" >0.15</td>\n",
       "      <td id=\"T_f620b_row2_col12\" class=\"data row2 col12\" >0.23</td>\n",
       "      <td id=\"T_f620b_row2_col13\" class=\"data row2 col13\" >0.11</td>\n",
       "      <td id=\"T_f620b_row2_col14\" class=\"data row2 col14\" >0.15</td>\n",
       "      <td id=\"T_f620b_row2_col15\" class=\"data row2 col15\" >0.23</td>\n",
       "      <td id=\"T_f620b_row2_col16\" class=\"data row2 col16\" >0.08</td>\n",
       "      <td id=\"T_f620b_row2_col17\" class=\"data row2 col17\" >0.15</td>\n",
       "      <td id=\"T_f620b_row2_col18\" class=\"data row2 col18\" ></td>\n",
       "    </tr>\n",
       "    <tr>\n",
       "      <th id=\"T_f620b_level0_row3\" class=\"row_heading level0 row3\" >2017-04</th>\n",
       "      <td id=\"T_f620b_row3_col0\" class=\"data row3 col0\" >100.00</td>\n",
       "      <td id=\"T_f620b_row3_col1\" class=\"data row3 col1\" >0.60</td>\n",
       "      <td id=\"T_f620b_row3_col2\" class=\"data row3 col2\" >0.21</td>\n",
       "      <td id=\"T_f620b_row3_col3\" class=\"data row3 col3\" >0.17</td>\n",
       "      <td id=\"T_f620b_row3_col4\" class=\"data row3 col4\" >0.34</td>\n",
       "      <td id=\"T_f620b_row3_col5\" class=\"data row3 col5\" >0.26</td>\n",
       "      <td id=\"T_f620b_row3_col6\" class=\"data row3 col6\" >0.34</td>\n",
       "      <td id=\"T_f620b_row3_col7\" class=\"data row3 col7\" >0.30</td>\n",
       "      <td id=\"T_f620b_row3_col8\" class=\"data row3 col8\" >0.30</td>\n",
       "      <td id=\"T_f620b_row3_col9\" class=\"data row3 col9\" >0.17</td>\n",
       "      <td id=\"T_f620b_row3_col10\" class=\"data row3 col10\" >0.26</td>\n",
       "      <td id=\"T_f620b_row3_col11\" class=\"data row3 col11\" >0.09</td>\n",
       "      <td id=\"T_f620b_row3_col12\" class=\"data row3 col12\" >0.09</td>\n",
       "      <td id=\"T_f620b_row3_col13\" class=\"data row3 col13\" >0.04</td>\n",
       "      <td id=\"T_f620b_row3_col14\" class=\"data row3 col14\" >0.09</td>\n",
       "      <td id=\"T_f620b_row3_col15\" class=\"data row3 col15\" >0.09</td>\n",
       "      <td id=\"T_f620b_row3_col16\" class=\"data row3 col16\" >0.21</td>\n",
       "      <td id=\"T_f620b_row3_col17\" class=\"data row3 col17\" ></td>\n",
       "      <td id=\"T_f620b_row3_col18\" class=\"data row3 col18\" ></td>\n",
       "    </tr>\n",
       "    <tr>\n",
       "      <th id=\"T_f620b_level0_row4\" class=\"row_heading level0 row4\" >2017-05</th>\n",
       "      <td id=\"T_f620b_row4_col0\" class=\"data row4 col0\" >100.00</td>\n",
       "      <td id=\"T_f620b_row4_col1\" class=\"data row4 col1\" >0.47</td>\n",
       "      <td id=\"T_f620b_row4_col2\" class=\"data row4 col2\" >0.50</td>\n",
       "      <td id=\"T_f620b_row4_col3\" class=\"data row4 col3\" >0.39</td>\n",
       "      <td id=\"T_f620b_row4_col4\" class=\"data row4 col4\" >0.31</td>\n",
       "      <td id=\"T_f620b_row4_col5\" class=\"data row4 col5\" >0.33</td>\n",
       "      <td id=\"T_f620b_row4_col6\" class=\"data row4 col6\" >0.42</td>\n",
       "      <td id=\"T_f620b_row4_col7\" class=\"data row4 col7\" >0.17</td>\n",
       "      <td id=\"T_f620b_row4_col8\" class=\"data row4 col8\" >0.25</td>\n",
       "      <td id=\"T_f620b_row4_col9\" class=\"data row4 col9\" >0.31</td>\n",
       "      <td id=\"T_f620b_row4_col10\" class=\"data row4 col10\" >0.25</td>\n",
       "      <td id=\"T_f620b_row4_col11\" class=\"data row4 col11\" >0.33</td>\n",
       "      <td id=\"T_f620b_row4_col12\" class=\"data row4 col12\" >0.25</td>\n",
       "      <td id=\"T_f620b_row4_col13\" class=\"data row4 col13\" >0.03</td>\n",
       "      <td id=\"T_f620b_row4_col14\" class=\"data row4 col14\" >0.19</td>\n",
       "      <td id=\"T_f620b_row4_col15\" class=\"data row4 col15\" >0.25</td>\n",
       "      <td id=\"T_f620b_row4_col16\" class=\"data row4 col16\" ></td>\n",
       "      <td id=\"T_f620b_row4_col17\" class=\"data row4 col17\" ></td>\n",
       "      <td id=\"T_f620b_row4_col18\" class=\"data row4 col18\" ></td>\n",
       "    </tr>\n",
       "    <tr>\n",
       "      <th id=\"T_f620b_level0_row5\" class=\"row_heading level0 row5\" >2017-06</th>\n",
       "      <td id=\"T_f620b_row5_col0\" class=\"data row5 col0\" >100.00</td>\n",
       "      <td id=\"T_f620b_row5_col1\" class=\"data row5 col1\" >0.48</td>\n",
       "      <td id=\"T_f620b_row5_col2\" class=\"data row5 col2\" >0.35</td>\n",
       "      <td id=\"T_f620b_row5_col3\" class=\"data row5 col3\" >0.41</td>\n",
       "      <td id=\"T_f620b_row5_col4\" class=\"data row5 col4\" >0.25</td>\n",
       "      <td id=\"T_f620b_row5_col5\" class=\"data row5 col5\" >0.38</td>\n",
       "      <td id=\"T_f620b_row5_col6\" class=\"data row5 col6\" >0.38</td>\n",
       "      <td id=\"T_f620b_row5_col7\" class=\"data row5 col7\" >0.22</td>\n",
       "      <td id=\"T_f620b_row5_col8\" class=\"data row5 col8\" >0.13</td>\n",
       "      <td id=\"T_f620b_row5_col9\" class=\"data row5 col9\" >0.22</td>\n",
       "      <td id=\"T_f620b_row5_col10\" class=\"data row5 col10\" >0.32</td>\n",
       "      <td id=\"T_f620b_row5_col11\" class=\"data row5 col11\" >0.35</td>\n",
       "      <td id=\"T_f620b_row5_col12\" class=\"data row5 col12\" >0.16</td>\n",
       "      <td id=\"T_f620b_row5_col13\" class=\"data row5 col13\" >0.13</td>\n",
       "      <td id=\"T_f620b_row5_col14\" class=\"data row5 col14\" >0.19</td>\n",
       "      <td id=\"T_f620b_row5_col15\" class=\"data row5 col15\" ></td>\n",
       "      <td id=\"T_f620b_row5_col16\" class=\"data row5 col16\" ></td>\n",
       "      <td id=\"T_f620b_row5_col17\" class=\"data row5 col17\" ></td>\n",
       "      <td id=\"T_f620b_row5_col18\" class=\"data row5 col18\" ></td>\n",
       "    </tr>\n",
       "    <tr>\n",
       "      <th id=\"T_f620b_level0_row6\" class=\"row_heading level0 row6\" >2017-07</th>\n",
       "      <td id=\"T_f620b_row6_col0\" class=\"data row6 col0\" >100.00</td>\n",
       "      <td id=\"T_f620b_row6_col1\" class=\"data row6 col1\" >0.51</td>\n",
       "      <td id=\"T_f620b_row6_col2\" class=\"data row6 col2\" >0.36</td>\n",
       "      <td id=\"T_f620b_row6_col3\" class=\"data row6 col3\" >0.26</td>\n",
       "      <td id=\"T_f620b_row6_col4\" class=\"data row6 col4\" >0.28</td>\n",
       "      <td id=\"T_f620b_row6_col5\" class=\"data row6 col5\" >0.21</td>\n",
       "      <td id=\"T_f620b_row6_col6\" class=\"data row6 col6\" >0.31</td>\n",
       "      <td id=\"T_f620b_row6_col7\" class=\"data row6 col7\" >0.10</td>\n",
       "      <td id=\"T_f620b_row6_col8\" class=\"data row6 col8\" >0.18</td>\n",
       "      <td id=\"T_f620b_row6_col9\" class=\"data row6 col9\" >0.26</td>\n",
       "      <td id=\"T_f620b_row6_col10\" class=\"data row6 col10\" >0.23</td>\n",
       "      <td id=\"T_f620b_row6_col11\" class=\"data row6 col11\" >0.31</td>\n",
       "      <td id=\"T_f620b_row6_col12\" class=\"data row6 col12\" >0.13</td>\n",
       "      <td id=\"T_f620b_row6_col13\" class=\"data row6 col13\" >0.26</td>\n",
       "      <td id=\"T_f620b_row6_col14\" class=\"data row6 col14\" ></td>\n",
       "      <td id=\"T_f620b_row6_col15\" class=\"data row6 col15\" ></td>\n",
       "      <td id=\"T_f620b_row6_col16\" class=\"data row6 col16\" ></td>\n",
       "      <td id=\"T_f620b_row6_col17\" class=\"data row6 col17\" ></td>\n",
       "      <td id=\"T_f620b_row6_col18\" class=\"data row6 col18\" ></td>\n",
       "    </tr>\n",
       "    <tr>\n",
       "      <th id=\"T_f620b_level0_row7\" class=\"row_heading level0 row7\" >2017-08</th>\n",
       "      <td id=\"T_f620b_row7_col0\" class=\"data row7 col0\" >100.00</td>\n",
       "      <td id=\"T_f620b_row7_col1\" class=\"data row7 col1\" >0.67</td>\n",
       "      <td id=\"T_f620b_row7_col2\" class=\"data row7 col2\" >0.33</td>\n",
       "      <td id=\"T_f620b_row7_col3\" class=\"data row7 col3\" >0.26</td>\n",
       "      <td id=\"T_f620b_row7_col4\" class=\"data row7 col4\" >0.36</td>\n",
       "      <td id=\"T_f620b_row7_col5\" class=\"data row7 col5\" >0.53</td>\n",
       "      <td id=\"T_f620b_row7_col6\" class=\"data row7 col6\" >0.29</td>\n",
       "      <td id=\"T_f620b_row7_col7\" class=\"data row7 col7\" >0.26</td>\n",
       "      <td id=\"T_f620b_row7_col8\" class=\"data row7 col8\" >0.14</td>\n",
       "      <td id=\"T_f620b_row7_col9\" class=\"data row7 col9\" >0.14</td>\n",
       "      <td id=\"T_f620b_row7_col10\" class=\"data row7 col10\" >0.24</td>\n",
       "      <td id=\"T_f620b_row7_col11\" class=\"data row7 col11\" >0.19</td>\n",
       "      <td id=\"T_f620b_row7_col12\" class=\"data row7 col12\" >0.10</td>\n",
       "      <td id=\"T_f620b_row7_col13\" class=\"data row7 col13\" ></td>\n",
       "      <td id=\"T_f620b_row7_col14\" class=\"data row7 col14\" ></td>\n",
       "      <td id=\"T_f620b_row7_col15\" class=\"data row7 col15\" ></td>\n",
       "      <td id=\"T_f620b_row7_col16\" class=\"data row7 col16\" ></td>\n",
       "      <td id=\"T_f620b_row7_col17\" class=\"data row7 col17\" ></td>\n",
       "      <td id=\"T_f620b_row7_col18\" class=\"data row7 col18\" ></td>\n",
       "    </tr>\n",
       "    <tr>\n",
       "      <th id=\"T_f620b_level0_row8\" class=\"row_heading level0 row8\" >2017-10</th>\n",
       "      <td id=\"T_f620b_row8_col0\" class=\"data row8 col0\" >100.00</td>\n",
       "      <td id=\"T_f620b_row8_col1\" class=\"data row8 col1\" >0.69</td>\n",
       "      <td id=\"T_f620b_row8_col2\" class=\"data row8 col2\" >0.25</td>\n",
       "      <td id=\"T_f620b_row8_col3\" class=\"data row8 col3\" >0.09</td>\n",
       "      <td id=\"T_f620b_row8_col4\" class=\"data row8 col4\" >0.22</td>\n",
       "      <td id=\"T_f620b_row8_col5\" class=\"data row8 col5\" >0.20</td>\n",
       "      <td id=\"T_f620b_row8_col6\" class=\"data row8 col6\" >0.22</td>\n",
       "      <td id=\"T_f620b_row8_col7\" class=\"data row8 col7\" >0.36</td>\n",
       "      <td id=\"T_f620b_row8_col8\" class=\"data row8 col8\" >0.27</td>\n",
       "      <td id=\"T_f620b_row8_col9\" class=\"data row8 col9\" >0.20</td>\n",
       "      <td id=\"T_f620b_row8_col10\" class=\"data row8 col10\" >0.20</td>\n",
       "      <td id=\"T_f620b_row8_col11\" class=\"data row8 col11\" ></td>\n",
       "      <td id=\"T_f620b_row8_col12\" class=\"data row8 col12\" ></td>\n",
       "      <td id=\"T_f620b_row8_col13\" class=\"data row8 col13\" ></td>\n",
       "      <td id=\"T_f620b_row8_col14\" class=\"data row8 col14\" ></td>\n",
       "      <td id=\"T_f620b_row8_col15\" class=\"data row8 col15\" ></td>\n",
       "      <td id=\"T_f620b_row8_col16\" class=\"data row8 col16\" ></td>\n",
       "      <td id=\"T_f620b_row8_col17\" class=\"data row8 col17\" ></td>\n",
       "      <td id=\"T_f620b_row8_col18\" class=\"data row8 col18\" ></td>\n",
       "    </tr>\n",
       "    <tr>\n",
       "      <th id=\"T_f620b_level0_row9\" class=\"row_heading level0 row9\" >2017-11</th>\n",
       "      <td id=\"T_f620b_row9_col0\" class=\"data row9 col0\" >100.00</td>\n",
       "      <td id=\"T_f620b_row9_col1\" class=\"data row9 col1\" >0.55</td>\n",
       "      <td id=\"T_f620b_row9_col2\" class=\"data row9 col2\" >0.38</td>\n",
       "      <td id=\"T_f620b_row9_col3\" class=\"data row9 col3\" >0.18</td>\n",
       "      <td id=\"T_f620b_row9_col4\" class=\"data row9 col4\" >0.19</td>\n",
       "      <td id=\"T_f620b_row9_col5\" class=\"data row9 col5\" >0.18</td>\n",
       "      <td id=\"T_f620b_row9_col6\" class=\"data row9 col6\" >0.11</td>\n",
       "      <td id=\"T_f620b_row9_col7\" class=\"data row9 col7\" >0.19</td>\n",
       "      <td id=\"T_f620b_row9_col8\" class=\"data row9 col8\" >0.14</td>\n",
       "      <td id=\"T_f620b_row9_col9\" class=\"data row9 col9\" >0.05</td>\n",
       "      <td id=\"T_f620b_row9_col10\" class=\"data row9 col10\" ></td>\n",
       "      <td id=\"T_f620b_row9_col11\" class=\"data row9 col11\" ></td>\n",
       "      <td id=\"T_f620b_row9_col12\" class=\"data row9 col12\" ></td>\n",
       "      <td id=\"T_f620b_row9_col13\" class=\"data row9 col13\" ></td>\n",
       "      <td id=\"T_f620b_row9_col14\" class=\"data row9 col14\" ></td>\n",
       "      <td id=\"T_f620b_row9_col15\" class=\"data row9 col15\" ></td>\n",
       "      <td id=\"T_f620b_row9_col16\" class=\"data row9 col16\" ></td>\n",
       "      <td id=\"T_f620b_row9_col17\" class=\"data row9 col17\" ></td>\n",
       "      <td id=\"T_f620b_row9_col18\" class=\"data row9 col18\" ></td>\n",
       "    </tr>\n",
       "    <tr>\n",
       "      <th id=\"T_f620b_level0_row10\" class=\"row_heading level0 row10\" >2017-12</th>\n",
       "      <td id=\"T_f620b_row10_col0\" class=\"data row10 col0\" >100.00</td>\n",
       "      <td id=\"T_f620b_row10_col1\" class=\"data row10 col1\" >0.26</td>\n",
       "      <td id=\"T_f620b_row10_col2\" class=\"data row10 col2\" >0.27</td>\n",
       "      <td id=\"T_f620b_row10_col3\" class=\"data row10 col3\" >0.35</td>\n",
       "      <td id=\"T_f620b_row10_col4\" class=\"data row10 col4\" >0.27</td>\n",
       "      <td id=\"T_f620b_row10_col5\" class=\"data row10 col5\" >0.20</td>\n",
       "      <td id=\"T_f620b_row10_col6\" class=\"data row10 col6\" >0.16</td>\n",
       "      <td id=\"T_f620b_row10_col7\" class=\"data row10 col7\" >0.04</td>\n",
       "      <td id=\"T_f620b_row10_col8\" class=\"data row10 col8\" >0.22</td>\n",
       "      <td id=\"T_f620b_row10_col9\" class=\"data row10 col9\" ></td>\n",
       "      <td id=\"T_f620b_row10_col10\" class=\"data row10 col10\" ></td>\n",
       "      <td id=\"T_f620b_row10_col11\" class=\"data row10 col11\" ></td>\n",
       "      <td id=\"T_f620b_row10_col12\" class=\"data row10 col12\" ></td>\n",
       "      <td id=\"T_f620b_row10_col13\" class=\"data row10 col13\" ></td>\n",
       "      <td id=\"T_f620b_row10_col14\" class=\"data row10 col14\" ></td>\n",
       "      <td id=\"T_f620b_row10_col15\" class=\"data row10 col15\" ></td>\n",
       "      <td id=\"T_f620b_row10_col16\" class=\"data row10 col16\" ></td>\n",
       "      <td id=\"T_f620b_row10_col17\" class=\"data row10 col17\" ></td>\n",
       "      <td id=\"T_f620b_row10_col18\" class=\"data row10 col18\" ></td>\n",
       "    </tr>\n",
       "  </tbody>\n",
       "</table>\n"
      ],
      "text/plain": [
       "<pandas.io.formats.style.Styler at 0x7fd01ac0c730>"
      ]
     },
     "execution_count": 357,
     "metadata": {},
     "output_type": "execute_result"
    }
   ],
   "source": [
    "task5_with_cohorts_final \\\n",
    "    .style.set_caption('Cohort Analysis') \\\n",
    "    .highlight_max(axis=0, color='red') \\\n",
    "    .format(\"{:.2f}\", subset=task5_with_cohorts_final.columns, na_rep=\"\")"
   ]
  },
  {
   "cell_type": "markdown",
   "metadata": {},
   "source": [
    "### Ответ на задание 5:\n",
    "Когорта с самым высоким __retention на 3й месяц__ - __2017-06__ "
   ]
  },
  {
   "cell_type": "markdown",
   "metadata": {},
   "source": [
    "### Задание 6. Часто для качественного анализа аудитории использую подходы, основанные на сегментации. Используя python, построй RFM-сегментацию пользователей, чтобы качественно оценить свою аудиторию. В кластеризации можешь выбрать следующие метрики: R - время от последней покупки пользователя до текущей даты, F - суммарное количество покупок у пользователя за всё время, M - сумма покупок за всё время. Подробно опиши, как ты создавал кластеры. Для каждого RFM-сегмента построй границы метрик recency, frequency и monetary для интерпретации этих кластеров. Пример такого описания: RFM-сегмент 132 (recency=1, frequency=3, monetary=2) имеет границы метрик recency от 130 до 500 дней, frequency от 2 до 5 заказов в неделю, monetary от 1780 до 3560 рублей в неделю. (35 баллов)"
   ]
  },
  {
   "cell_type": "markdown",
   "metadata": {},
   "source": [
    "Мерджим датафреймы"
   ]
  },
  {
   "cell_type": "code",
   "execution_count": 362,
   "metadata": {},
   "outputs": [],
   "source": [
    "items_and_orders = items.merge(orders, on='order_id', how='inner')\n",
    "all_data_frames = items_and_orders.merge(customers, on='customer_id', how='inner')"
   ]
  },
  {
   "cell_type": "markdown",
   "metadata": {},
   "source": [
    "Так как нас для дальнейшего расчета интересует именно факт покупки товара, а не факт покупки и доставки товара покупателю, то за покупку будем считать наличие даты подтверждения заказа (order_approved_at). Исключаем заказы, которые не были подтверждены (\"created\"). Покупатель мог совершить покупку импульсивно или ошибочно и не подтвердить заказ в будущем) и заказы, у которых отсутствует дата подтверждения заказа (order_approved_at)"
   ]
  },
  {
   "cell_type": "code",
   "execution_count": 363,
   "metadata": {},
   "outputs": [],
   "source": [
    "all_data_frames = items_and_orders.merge(customers, on='customer_id', how='inner') \\\n",
    "    .query(\"order_status != 'created' & order_approved_at.isna() != True\")"
   ]
  },
  {
   "cell_type": "markdown",
   "metadata": {},
   "source": [
    "Отбираем нужные для анализа колонки"
   ]
  },
  {
   "cell_type": "code",
   "execution_count": 364,
   "metadata": {},
   "outputs": [],
   "source": [
    "all_data_frames = all_data_frames \\\n",
    "    [['order_id','product_id','price','order_purchase_timestamp', 'customer_unique_id']]"
   ]
  },
  {
   "cell_type": "code",
   "execution_count": 365,
   "metadata": {},
   "outputs": [
    {
     "data": {
      "text/html": [
       "<div>\n",
       "<style scoped>\n",
       "    .dataframe tbody tr th:only-of-type {\n",
       "        vertical-align: middle;\n",
       "    }\n",
       "\n",
       "    .dataframe tbody tr th {\n",
       "        vertical-align: top;\n",
       "    }\n",
       "\n",
       "    .dataframe thead th {\n",
       "        text-align: right;\n",
       "    }\n",
       "</style>\n",
       "<table border=\"1\" class=\"dataframe\">\n",
       "  <thead>\n",
       "    <tr style=\"text-align: right;\">\n",
       "      <th></th>\n",
       "      <th>order_id</th>\n",
       "      <th>product_id</th>\n",
       "      <th>price</th>\n",
       "      <th>order_purchase_timestamp</th>\n",
       "      <th>customer_unique_id</th>\n",
       "    </tr>\n",
       "  </thead>\n",
       "  <tbody>\n",
       "    <tr>\n",
       "      <th>0</th>\n",
       "      <td>00010242fe8c5a6d1ba2dd792cb16214</td>\n",
       "      <td>4244733e06e7ecb4970a6e2683c13e61</td>\n",
       "      <td>58.90</td>\n",
       "      <td>2017-09-13 08:59:02</td>\n",
       "      <td>871766c5855e863f6eccc05f988b23cb</td>\n",
       "    </tr>\n",
       "    <tr>\n",
       "      <th>1</th>\n",
       "      <td>00018f77f2f0320c557190d7a144bdd3</td>\n",
       "      <td>e5f2d52b802189ee658865ca93d83a8f</td>\n",
       "      <td>239.90</td>\n",
       "      <td>2017-04-26 10:53:06</td>\n",
       "      <td>eb28e67c4c0b83846050ddfb8a35d051</td>\n",
       "    </tr>\n",
       "    <tr>\n",
       "      <th>2</th>\n",
       "      <td>000229ec398224ef6ca0657da4fc703e</td>\n",
       "      <td>c777355d18b72b67abbeef9df44fd0fd</td>\n",
       "      <td>199.00</td>\n",
       "      <td>2018-01-14 14:33:31</td>\n",
       "      <td>3818d81c6709e39d06b2738a8d3a2474</td>\n",
       "    </tr>\n",
       "    <tr>\n",
       "      <th>3</th>\n",
       "      <td>00024acbcdf0a6daa1e931b038114c75</td>\n",
       "      <td>7634da152a4610f1595efa32f14722fc</td>\n",
       "      <td>12.99</td>\n",
       "      <td>2018-08-08 10:00:35</td>\n",
       "      <td>af861d436cfc08b2c2ddefd0ba074622</td>\n",
       "    </tr>\n",
       "    <tr>\n",
       "      <th>4</th>\n",
       "      <td>00042b26cf59d7ce69dfabb4e55b4fd9</td>\n",
       "      <td>ac6c3623068f30de03045865e4e10089</td>\n",
       "      <td>199.90</td>\n",
       "      <td>2017-02-04 13:57:51</td>\n",
       "      <td>64b576fb70d441e8f1b2d7d446e483c5</td>\n",
       "    </tr>\n",
       "  </tbody>\n",
       "</table>\n",
       "</div>"
      ],
      "text/plain": [
       "                           order_id                        product_id   price  \\\n",
       "0  00010242fe8c5a6d1ba2dd792cb16214  4244733e06e7ecb4970a6e2683c13e61   58.90   \n",
       "1  00018f77f2f0320c557190d7a144bdd3  e5f2d52b802189ee658865ca93d83a8f  239.90   \n",
       "2  000229ec398224ef6ca0657da4fc703e  c777355d18b72b67abbeef9df44fd0fd  199.00   \n",
       "3  00024acbcdf0a6daa1e931b038114c75  7634da152a4610f1595efa32f14722fc   12.99   \n",
       "4  00042b26cf59d7ce69dfabb4e55b4fd9  ac6c3623068f30de03045865e4e10089  199.90   \n",
       "\n",
       "  order_purchase_timestamp                customer_unique_id  \n",
       "0      2017-09-13 08:59:02  871766c5855e863f6eccc05f988b23cb  \n",
       "1      2017-04-26 10:53:06  eb28e67c4c0b83846050ddfb8a35d051  \n",
       "2      2018-01-14 14:33:31  3818d81c6709e39d06b2738a8d3a2474  \n",
       "3      2018-08-08 10:00:35  af861d436cfc08b2c2ddefd0ba074622  \n",
       "4      2017-02-04 13:57:51  64b576fb70d441e8f1b2d7d446e483c5  "
      ]
     },
     "execution_count": 365,
     "metadata": {},
     "output_type": "execute_result"
    }
   ],
   "source": [
    "all_data_frames.head(5)"
   ]
  },
  {
   "cell_type": "markdown",
   "metadata": {},
   "source": [
    "Приводим колонку с датой покупки к типу даты"
   ]
  },
  {
   "cell_type": "code",
   "execution_count": 366,
   "metadata": {},
   "outputs": [],
   "source": [
    "all_data_frames['order_purchase_timestamp'] = \\\n",
    "    pd.to_datetime(all_data_frames['order_purchase_timestamp']).values.astype('datetime64[D]')"
   ]
  },
  {
   "cell_type": "markdown",
   "metadata": {},
   "source": [
    "Видим, что количество дней 729 (почти 2 года) Из статьи https://guillaume-martin.github.io/rfm-segmentation-with-python.html следует, что для RFM обычно используется период в 365 дней."
   ]
  },
  {
   "cell_type": "code",
   "execution_count": 367,
   "metadata": {},
   "outputs": [
    {
     "data": {
      "text/plain": [
       "Timedelta('729 days 00:00:00')"
      ]
     },
     "execution_count": 367,
     "metadata": {},
     "output_type": "execute_result"
    }
   ],
   "source": [
    "(all_data_frames.order_purchase_timestamp.max() - all_data_frames.order_purchase_timestamp.min())"
   ]
  },
  {
   "cell_type": "markdown",
   "metadata": {},
   "source": [
    "Как видно из серии ниже 2018-08 - последний месяц с большим количеством данных.  \n",
    "Начнем отсчет от этого месяца и возьмем промежуток размером в год (макс день в df - 365 дней)"
   ]
  },
  {
   "cell_type": "code",
   "execution_count": 368,
   "metadata": {
    "scrolled": false
   },
   "outputs": [
    {
     "data": {
      "text/plain": [
       "2018-09       1\n",
       "2018-08    7248\n",
       "2018-07    7092\n",
       "2018-06    7078\n",
       "2018-05    7925\n",
       "2018-04    7975\n",
       "2018-03    8217\n",
       "2018-02    7672\n",
       "2018-01    8208\n",
       "2017-12    6308\n",
       "2017-11    8665\n",
       "2017-10    5322\n",
       "2017-09    4831\n",
       "2017-08    4910\n",
       "2017-07    4519\n",
       "2017-06    3583\n",
       "2017-05    4136\n",
       "2017-04    2684\n",
       "2017-03    3000\n",
       "2017-02    1938\n",
       "2017-01     953\n",
       "2016-12       1\n",
       "2016-10     363\n",
       "2016-09       6\n",
       "Freq: M, Name: order_purchase_timestamp, dtype: int64"
      ]
     },
     "execution_count": 368,
     "metadata": {},
     "output_type": "execute_result"
    }
   ],
   "source": [
    "all_data_frames['order_purchase_timestamp'].dt.to_period('M').value_counts().sort_index(ascending=False)"
   ]
  },
  {
   "cell_type": "markdown",
   "metadata": {},
   "source": [
    "Ограничиваем новый датафрейм по последнему месяцу с большим количеством данных"
   ]
  },
  {
   "cell_type": "code",
   "execution_count": 369,
   "metadata": {},
   "outputs": [],
   "source": [
    "df_one_year = \\\n",
    "    all_data_frames[all_data_frames['order_purchase_timestamp'].dt.strftime('%Y-%m') <= '2018-08']"
   ]
  },
  {
   "cell_type": "markdown",
   "metadata": {},
   "source": [
    "Отсчитываем 365 дней от максимальной даты в нашем `df_one_year`"
   ]
  },
  {
   "cell_type": "code",
   "execution_count": 370,
   "metadata": {},
   "outputs": [
    {
     "data": {
      "text/plain": [
       "Timestamp('2017-08-29 00:00:00')"
      ]
     },
     "execution_count": 370,
     "metadata": {},
     "output_type": "execute_result"
    }
   ],
   "source": [
    "df_one_year.order_purchase_timestamp.max() - timedelta(days=365)"
   ]
  },
  {
   "cell_type": "markdown",
   "metadata": {},
   "source": [
    "Ограничиваем наш `df_one_year` в один год"
   ]
  },
  {
   "cell_type": "code",
   "execution_count": 371,
   "metadata": {},
   "outputs": [],
   "source": [
    "df_one_year = \\\n",
    "    df_one_year[df_one_year['order_purchase_timestamp'].dt.strftime('%Y-%m-%d') > '2017-08-29']"
   ]
  },
  {
   "cell_type": "markdown",
   "metadata": {},
   "source": [
    "Проверяем"
   ]
  },
  {
   "cell_type": "code",
   "execution_count": 372,
   "metadata": {},
   "outputs": [
    {
     "data": {
      "text/plain": [
       "365"
      ]
     },
     "execution_count": 372,
     "metadata": {},
     "output_type": "execute_result"
    }
   ],
   "source": [
    "df_one_year.order_purchase_timestamp.nunique()"
   ]
  },
  {
   "cell_type": "markdown",
   "metadata": {},
   "source": [
    "Считаем, сколько потратил каждый покупатель в определенном заказе и в определенный день.  \n",
    "Получили df, в котором видим номер заказа, дату заказа и сколько уникальный покупатель потратил денег"
   ]
  },
  {
   "cell_type": "code",
   "execution_count": 374,
   "metadata": {},
   "outputs": [],
   "source": [
    "df_one_year_sum = df_one_year \\\n",
    "    .groupby(['order_id', 'order_purchase_timestamp', 'customer_unique_id'], as_index=False) \\\n",
    "    .agg({'price':'sum'})"
   ]
  },
  {
   "cell_type": "code",
   "execution_count": 375,
   "metadata": {},
   "outputs": [
    {
     "data": {
      "text/html": [
       "<div>\n",
       "<style scoped>\n",
       "    .dataframe tbody tr th:only-of-type {\n",
       "        vertical-align: middle;\n",
       "    }\n",
       "\n",
       "    .dataframe tbody tr th {\n",
       "        vertical-align: top;\n",
       "    }\n",
       "\n",
       "    .dataframe thead th {\n",
       "        text-align: right;\n",
       "    }\n",
       "</style>\n",
       "<table border=\"1\" class=\"dataframe\">\n",
       "  <thead>\n",
       "    <tr style=\"text-align: right;\">\n",
       "      <th></th>\n",
       "      <th>order_id</th>\n",
       "      <th>order_purchase_timestamp</th>\n",
       "      <th>customer_unique_id</th>\n",
       "      <th>price</th>\n",
       "    </tr>\n",
       "  </thead>\n",
       "  <tbody>\n",
       "    <tr>\n",
       "      <th>0</th>\n",
       "      <td>00010242fe8c5a6d1ba2dd792cb16214</td>\n",
       "      <td>2017-09-13</td>\n",
       "      <td>871766c5855e863f6eccc05f988b23cb</td>\n",
       "      <td>58.90</td>\n",
       "    </tr>\n",
       "    <tr>\n",
       "      <th>1</th>\n",
       "      <td>000229ec398224ef6ca0657da4fc703e</td>\n",
       "      <td>2018-01-14</td>\n",
       "      <td>3818d81c6709e39d06b2738a8d3a2474</td>\n",
       "      <td>199.00</td>\n",
       "    </tr>\n",
       "    <tr>\n",
       "      <th>2</th>\n",
       "      <td>00024acbcdf0a6daa1e931b038114c75</td>\n",
       "      <td>2018-08-08</td>\n",
       "      <td>af861d436cfc08b2c2ddefd0ba074622</td>\n",
       "      <td>12.99</td>\n",
       "    </tr>\n",
       "    <tr>\n",
       "      <th>3</th>\n",
       "      <td>00054e8431b9d7675808bcb819fb4a32</td>\n",
       "      <td>2017-12-10</td>\n",
       "      <td>635d9ac1680f03288e72ada3a1035803</td>\n",
       "      <td>19.90</td>\n",
       "    </tr>\n",
       "    <tr>\n",
       "      <th>4</th>\n",
       "      <td>000576fe39319847cbb9d288c5617fa6</td>\n",
       "      <td>2018-07-04</td>\n",
       "      <td>fda4476abb6307ab3c415b7e6d026526</td>\n",
       "      <td>810.00</td>\n",
       "    </tr>\n",
       "  </tbody>\n",
       "</table>\n",
       "</div>"
      ],
      "text/plain": [
       "                           order_id order_purchase_timestamp  \\\n",
       "0  00010242fe8c5a6d1ba2dd792cb16214               2017-09-13   \n",
       "1  000229ec398224ef6ca0657da4fc703e               2018-01-14   \n",
       "2  00024acbcdf0a6daa1e931b038114c75               2018-08-08   \n",
       "3  00054e8431b9d7675808bcb819fb4a32               2017-12-10   \n",
       "4  000576fe39319847cbb9d288c5617fa6               2018-07-04   \n",
       "\n",
       "                 customer_unique_id   price  \n",
       "0  871766c5855e863f6eccc05f988b23cb   58.90  \n",
       "1  3818d81c6709e39d06b2738a8d3a2474  199.00  \n",
       "2  af861d436cfc08b2c2ddefd0ba074622   12.99  \n",
       "3  635d9ac1680f03288e72ada3a1035803   19.90  \n",
       "4  fda4476abb6307ab3c415b7e6d026526  810.00  "
      ]
     },
     "execution_count": 375,
     "metadata": {},
     "output_type": "execute_result"
    }
   ],
   "source": [
    "df_one_year_sum.head()"
   ]
  },
  {
   "cell_type": "markdown",
   "metadata": {},
   "source": [
    "Для того, чтобы посчитать __recency__, нам понадобится точка отсчета, которая будет равна следующему по счету дню после самого последнего дня в `df_one_year_sum`"
   ]
  },
  {
   "cell_type": "code",
   "execution_count": 376,
   "metadata": {},
   "outputs": [],
   "source": [
    "now_date = df_one_year_sum['order_purchase_timestamp'].max() + timedelta(days=1)"
   ]
  },
  {
   "cell_type": "code",
   "execution_count": 377,
   "metadata": {},
   "outputs": [
    {
     "data": {
      "text/plain": [
       "Timestamp('2018-08-30 00:00:00')"
      ]
     },
     "execution_count": 377,
     "metadata": {},
     "output_type": "execute_result"
    }
   ],
   "source": [
    "now_date"
   ]
  },
  {
   "cell_type": "markdown",
   "metadata": {},
   "source": [
    "Получили 2018-08-30"
   ]
  },
  {
   "cell_type": "markdown",
   "metadata": {},
   "source": [
    "Добавим колонку с числом дней между покупкой и нашей датой 2018-08-30, чтобы потом найти __recency__ путем нахождения разницы между now_date (сегодняшней датой) и датами совершения покупок"
   ]
  },
  {
   "cell_type": "code",
   "execution_count": 378,
   "metadata": {},
   "outputs": [],
   "source": [
    "df_one_year_sum['days_since_last_order'] = \\\n",
    "    now_date - df_one_year_sum['order_purchase_timestamp']\n",
    "# .apply(lambda x: (now_date - x).days)"
   ]
  },
  {
   "cell_type": "markdown",
   "metadata": {},
   "source": [
    "Проверяем df"
   ]
  },
  {
   "cell_type": "code",
   "execution_count": 379,
   "metadata": {},
   "outputs": [
    {
     "data": {
      "text/html": [
       "<div>\n",
       "<style scoped>\n",
       "    .dataframe tbody tr th:only-of-type {\n",
       "        vertical-align: middle;\n",
       "    }\n",
       "\n",
       "    .dataframe tbody tr th {\n",
       "        vertical-align: top;\n",
       "    }\n",
       "\n",
       "    .dataframe thead th {\n",
       "        text-align: right;\n",
       "    }\n",
       "</style>\n",
       "<table border=\"1\" class=\"dataframe\">\n",
       "  <thead>\n",
       "    <tr style=\"text-align: right;\">\n",
       "      <th></th>\n",
       "      <th>order_id</th>\n",
       "      <th>order_purchase_timestamp</th>\n",
       "      <th>customer_unique_id</th>\n",
       "      <th>price</th>\n",
       "      <th>days_since_last_order</th>\n",
       "    </tr>\n",
       "  </thead>\n",
       "  <tbody>\n",
       "    <tr>\n",
       "      <th>0</th>\n",
       "      <td>00010242fe8c5a6d1ba2dd792cb16214</td>\n",
       "      <td>2017-09-13</td>\n",
       "      <td>871766c5855e863f6eccc05f988b23cb</td>\n",
       "      <td>58.90</td>\n",
       "      <td>351 days</td>\n",
       "    </tr>\n",
       "    <tr>\n",
       "      <th>1</th>\n",
       "      <td>000229ec398224ef6ca0657da4fc703e</td>\n",
       "      <td>2018-01-14</td>\n",
       "      <td>3818d81c6709e39d06b2738a8d3a2474</td>\n",
       "      <td>199.00</td>\n",
       "      <td>228 days</td>\n",
       "    </tr>\n",
       "    <tr>\n",
       "      <th>2</th>\n",
       "      <td>00024acbcdf0a6daa1e931b038114c75</td>\n",
       "      <td>2018-08-08</td>\n",
       "      <td>af861d436cfc08b2c2ddefd0ba074622</td>\n",
       "      <td>12.99</td>\n",
       "      <td>22 days</td>\n",
       "    </tr>\n",
       "    <tr>\n",
       "      <th>3</th>\n",
       "      <td>00054e8431b9d7675808bcb819fb4a32</td>\n",
       "      <td>2017-12-10</td>\n",
       "      <td>635d9ac1680f03288e72ada3a1035803</td>\n",
       "      <td>19.90</td>\n",
       "      <td>263 days</td>\n",
       "    </tr>\n",
       "    <tr>\n",
       "      <th>4</th>\n",
       "      <td>000576fe39319847cbb9d288c5617fa6</td>\n",
       "      <td>2018-07-04</td>\n",
       "      <td>fda4476abb6307ab3c415b7e6d026526</td>\n",
       "      <td>810.00</td>\n",
       "      <td>57 days</td>\n",
       "    </tr>\n",
       "  </tbody>\n",
       "</table>\n",
       "</div>"
      ],
      "text/plain": [
       "                           order_id order_purchase_timestamp  \\\n",
       "0  00010242fe8c5a6d1ba2dd792cb16214               2017-09-13   \n",
       "1  000229ec398224ef6ca0657da4fc703e               2018-01-14   \n",
       "2  00024acbcdf0a6daa1e931b038114c75               2018-08-08   \n",
       "3  00054e8431b9d7675808bcb819fb4a32               2017-12-10   \n",
       "4  000576fe39319847cbb9d288c5617fa6               2018-07-04   \n",
       "\n",
       "                 customer_unique_id   price days_since_last_order  \n",
       "0  871766c5855e863f6eccc05f988b23cb   58.90              351 days  \n",
       "1  3818d81c6709e39d06b2738a8d3a2474  199.00              228 days  \n",
       "2  af861d436cfc08b2c2ddefd0ba074622   12.99               22 days  \n",
       "3  635d9ac1680f03288e72ada3a1035803   19.90              263 days  \n",
       "4  fda4476abb6307ab3c415b7e6d026526  810.00               57 days  "
      ]
     },
     "execution_count": 379,
     "metadata": {},
     "output_type": "execute_result"
    }
   ],
   "source": [
    "df_one_year_sum.head()"
   ]
  },
  {
   "cell_type": "markdown",
   "metadata": {},
   "source": [
    "Так как у некоторых покупателей несколько заказов, находим минимальное значение в колонке `\"days_since_last_order\"`, чтобы посчитать __recency__  \n",
    "В агрегации посчитаем N дней с момента последней покупки (`recency`) и N заказов в изучаемый период (`frequency`).  \n",
    "Также посчтаем `monetary` - общая сумма покупок за изучаемый период"
   ]
  },
  {
   "cell_type": "code",
   "execution_count": 380,
   "metadata": {},
   "outputs": [],
   "source": [
    "rfm = df_one_year_sum \\\n",
    "    .groupby(['customer_unique_id'], as_index=False) \\\n",
    "    .agg({'days_since_last_order':'min', 'order_purchase_timestamp':'count', 'price':'sum'})\n",
    "\n",
    "rfm.rename(columns={'days_since_last_order': 'recency', 'order_purchase_timestamp': 'frequency', \\\n",
    "                   'price':'monetary'}, inplace=True)"
   ]
  },
  {
   "cell_type": "markdown",
   "metadata": {},
   "source": [
    "Смотрим наш df"
   ]
  },
  {
   "cell_type": "code",
   "execution_count": 381,
   "metadata": {},
   "outputs": [
    {
     "data": {
      "text/html": [
       "<div>\n",
       "<style scoped>\n",
       "    .dataframe tbody tr th:only-of-type {\n",
       "        vertical-align: middle;\n",
       "    }\n",
       "\n",
       "    .dataframe tbody tr th {\n",
       "        vertical-align: top;\n",
       "    }\n",
       "\n",
       "    .dataframe thead th {\n",
       "        text-align: right;\n",
       "    }\n",
       "</style>\n",
       "<table border=\"1\" class=\"dataframe\">\n",
       "  <thead>\n",
       "    <tr style=\"text-align: right;\">\n",
       "      <th></th>\n",
       "      <th>customer_unique_id</th>\n",
       "      <th>recency</th>\n",
       "      <th>frequency</th>\n",
       "      <th>monetary</th>\n",
       "    </tr>\n",
       "  </thead>\n",
       "  <tbody>\n",
       "    <tr>\n",
       "      <th>2866</th>\n",
       "      <td>0a0a92112bd4c708ca5fde585afaa872</td>\n",
       "      <td>335 days</td>\n",
       "      <td>1</td>\n",
       "      <td>13440.00</td>\n",
       "    </tr>\n",
       "    <tr>\n",
       "      <th>34124</th>\n",
       "      <td>763c8b1c9c68a0229c42c9fc6f662b93</td>\n",
       "      <td>46 days</td>\n",
       "      <td>1</td>\n",
       "      <td>7160.00</td>\n",
       "    </tr>\n",
       "    <tr>\n",
       "      <th>20083</th>\n",
       "      <td>459bef486812aa25204be022145caa62</td>\n",
       "      <td>36 days</td>\n",
       "      <td>1</td>\n",
       "      <td>6729.00</td>\n",
       "    </tr>\n",
       "    <tr>\n",
       "      <th>18507</th>\n",
       "      <td>4007669dec559734d6f53e029e360987</td>\n",
       "      <td>279 days</td>\n",
       "      <td>1</td>\n",
       "      <td>5934.60</td>\n",
       "    </tr>\n",
       "    <tr>\n",
       "      <th>26892</th>\n",
       "      <td>5d0a2980b292d049061542014e8960bf</td>\n",
       "      <td>49 days</td>\n",
       "      <td>1</td>\n",
       "      <td>4599.90</td>\n",
       "    </tr>\n",
       "    <tr>\n",
       "      <th>...</th>\n",
       "      <td>...</td>\n",
       "      <td>...</td>\n",
       "      <td>...</td>\n",
       "      <td>...</td>\n",
       "    </tr>\n",
       "    <tr>\n",
       "      <th>59922</th>\n",
       "      <td>cf3839da0d9492ad151690b65f45d800</td>\n",
       "      <td>209 days</td>\n",
       "      <td>1</td>\n",
       "      <td>2.99</td>\n",
       "    </tr>\n",
       "    <tr>\n",
       "      <th>54691</th>\n",
       "      <td>bd06ce0e06ad77a7f681f1a4960a3cc6</td>\n",
       "      <td>351 days</td>\n",
       "      <td>1</td>\n",
       "      <td>2.29</td>\n",
       "    </tr>\n",
       "    <tr>\n",
       "      <th>14293</th>\n",
       "      <td>317cfc692e3f86c45c95697c61c853a6</td>\n",
       "      <td>5 days</td>\n",
       "      <td>1</td>\n",
       "      <td>2.20</td>\n",
       "    </tr>\n",
       "    <tr>\n",
       "      <th>51965</th>\n",
       "      <td>b38211bd797f4fdd81a98b9d1754b606</td>\n",
       "      <td>128 days</td>\n",
       "      <td>1</td>\n",
       "      <td>0.85</td>\n",
       "    </tr>\n",
       "    <tr>\n",
       "      <th>62479</th>\n",
       "      <td>d80730c15c647bc8f2ad77c908ba5ca9</td>\n",
       "      <td>128 days</td>\n",
       "      <td>1</td>\n",
       "      <td>0.85</td>\n",
       "    </tr>\n",
       "  </tbody>\n",
       "</table>\n",
       "<p>73935 rows × 4 columns</p>\n",
       "</div>"
      ],
      "text/plain": [
       "                     customer_unique_id  recency  frequency  monetary\n",
       "2866   0a0a92112bd4c708ca5fde585afaa872 335 days          1  13440.00\n",
       "34124  763c8b1c9c68a0229c42c9fc6f662b93  46 days          1   7160.00\n",
       "20083  459bef486812aa25204be022145caa62  36 days          1   6729.00\n",
       "18507  4007669dec559734d6f53e029e360987 279 days          1   5934.60\n",
       "26892  5d0a2980b292d049061542014e8960bf  49 days          1   4599.90\n",
       "...                                 ...      ...        ...       ...\n",
       "59922  cf3839da0d9492ad151690b65f45d800 209 days          1      2.99\n",
       "54691  bd06ce0e06ad77a7f681f1a4960a3cc6 351 days          1      2.29\n",
       "14293  317cfc692e3f86c45c95697c61c853a6   5 days          1      2.20\n",
       "51965  b38211bd797f4fdd81a98b9d1754b606 128 days          1      0.85\n",
       "62479  d80730c15c647bc8f2ad77c908ba5ca9 128 days          1      0.85\n",
       "\n",
       "[73935 rows x 4 columns]"
      ]
     },
     "execution_count": 381,
     "metadata": {},
     "output_type": "execute_result"
    }
   ],
   "source": [
    "rfm.sort_values('monetary', ascending=False)"
   ]
  },
  {
   "cell_type": "markdown",
   "metadata": {},
   "source": [
    "__Считаем R F M значения__  \n",
    "На данный момент в датафрейме есть величиты __Recency__, __Frequency__ и __Monetary__. Каждый покупатель получит значение от 1 до 5 по каждому из параметров."
   ]
  },
  {
   "cell_type": "markdown",
   "metadata": {},
   "source": [
    "Сконвертируем `timedelta` в `int64`"
   ]
  },
  {
   "cell_type": "code",
   "execution_count": 382,
   "metadata": {},
   "outputs": [],
   "source": [
    "rfm['recency']=rfm['recency'].dt.days"
   ]
  },
  {
   "cell_type": "markdown",
   "metadata": {},
   "source": [
    "Для того, чтобы присвоить каждой строке rfm ранг (1-5), посчитаем границы метрик, а именно 25, 50 и 75 процентиль, и занесем значения в словарь, чтобы затем использовать его в функциях"
   ]
  },
  {
   "cell_type": "code",
   "execution_count": 385,
   "metadata": {},
   "outputs": [],
   "source": [
    "quantiles = rfm[['recency', 'frequency', 'monetary']].quantile([.25, .5, .75]).to_dict()"
   ]
  },
  {
   "cell_type": "markdown",
   "metadata": {},
   "source": [
    "Смотрим получившийся словарь  \n",
    "Видим, что значения `frequency` у каждого процентиля - 1, так как в данных много покупателей совершили покупку только один раз"
   ]
  },
  {
   "cell_type": "code",
   "execution_count": 386,
   "metadata": {},
   "outputs": [
    {
     "data": {
      "text/plain": [
       "{'recency': {0.25: 90.0, 0.5: 173.0, 0.75: 262.0},\n",
       " 'frequency': {0.25: 1.0, 0.5: 1.0, 0.75: 1.0},\n",
       " 'monetary': {0.25: 47.9, 0.5: 89.9, 0.75: 153.6}}"
      ]
     },
     "execution_count": 386,
     "metadata": {},
     "output_type": "execute_result"
    }
   ],
   "source": [
    "quantiles"
   ]
  },
  {
   "cell_type": "markdown",
   "metadata": {},
   "source": [
    "Видим, что данные распределены неравномерно. Поэтому буду на свое усмотрение присваивать ранги для f метрики"
   ]
  },
  {
   "cell_type": "code",
   "execution_count": 387,
   "metadata": {},
   "outputs": [
    {
     "data": {
      "text/plain": [
       "1     72064\n",
       "2      1744\n",
       "3       100\n",
       "4        17\n",
       "5         5\n",
       "7         3\n",
       "9         1\n",
       "11        1\n",
       "Name: frequency, dtype: int64"
      ]
     },
     "execution_count": 387,
     "metadata": {},
     "output_type": "execute_result"
    }
   ],
   "source": [
    "rfm.frequency.value_counts()"
   ]
  },
  {
   "cell_type": "markdown",
   "metadata": {},
   "source": [
    "Пишем функции для подсчета __rfm метрик__"
   ]
  },
  {
   "cell_type": "markdown",
   "metadata": {},
   "source": [
    "__Функция `r_score`__ - для подсчета __r метрики__  \n",
    "Сравниваем значения со значениями из словаря (`recency`) и присваиваем ранги: 4 - значение <= 25 процентилю и т.д.  \n",
    "Cамый высокий ранг 5 говорит нам о том, что количество дней спустя совершения последней покупки меньше или равно значению 25 процентиля, то есть кол-во дней минимальное\n",
    "\n",
    "__Функция `m_score`__ - для подсчета __m метрики__ \n",
    "Сравниваем значения со значениями из словаря (`monetary`) и присваиваем ранги: 4 - значение > 75 процентиля  \n",
    "То есть наивысший ранг 4 говорит нам о том, что покупатель за все время купил товаров на сумму больше значения 75 процентиля\n",
    "\n",
    "__Функция `f_score`__ - для подсчета __f метрики__ \n",
    "Сравниваем значения со значениями из словаря (`frequency`) и присваиваем ранги: 4 - значение большее 10 покупок  \n",
    "То есть наивысший ранг 4 говорит нам о том, что покупатель за все время совершил 10 и более покупок\n",
    "Ранги:\n",
    "- 1 - 1-3 покупки\n",
    "- 2 - 4-6 покупок\n",
    "- 3 - 7-9 покупок\n",
    "- 4 - 10-11 покупок"
   ]
  },
  {
   "cell_type": "code",
   "execution_count": 388,
   "metadata": {},
   "outputs": [],
   "source": [
    "def r_score(x):\n",
    "    if x <= quantiles['recency'][.25]:\n",
    "        return 4\n",
    "    elif x <= quantiles['recency'][.5]:\n",
    "        return 3\n",
    "    elif x <= quantiles['recency'][.75]:\n",
    "        return 2\n",
    "    else:\n",
    "        return 1\n",
    "\n",
    "def m_score(x): \n",
    "    if x <= quantiles['monetary'][.25]:   \n",
    "        return 1\n",
    "    elif x <= quantiles['monetary'][.5]:\n",
    "        return 2\n",
    "    elif x <= quantiles['monetary'][.75]:\n",
    "        return 3\n",
    "    else:\n",
    "        return 4  \n",
    "\n",
    "def f_score(x):\n",
    "    if x <= 3: \n",
    "        return 1\n",
    "    elif x <= 6:\n",
    "        return 2\n",
    "    elif x <= 9:\n",
    "        return 3\n",
    "    else:\n",
    "        return 4"
   ]
  },
  {
   "cell_type": "markdown",
   "metadata": {},
   "source": [
    "Создаем столбцы со значениями метрик путем применения функций к `recency`, `frequency` и `monetary`"
   ]
  },
  {
   "cell_type": "code",
   "execution_count": 389,
   "metadata": {},
   "outputs": [],
   "source": [
    "rfm['R'] = rfm['recency'].apply(lambda x: r_score(x))\n",
    "rfm['F'] = rfm['frequency'].apply(lambda x: f_score(x))\n",
    "rfm['M'] = rfm['monetary'].apply(lambda x: m_score(x))"
   ]
  },
  {
   "cell_type": "markdown",
   "metadata": {},
   "source": [
    "Считаем значения __rfm__ для каждого покупателя"
   ]
  },
  {
   "cell_type": "code",
   "execution_count": 390,
   "metadata": {},
   "outputs": [],
   "source": [
    "rfm['rfm_segments'] = rfm['R'].astype(str) + rfm['F'].astype(str) + rfm['M'].astype(str)"
   ]
  },
  {
   "cell_type": "markdown",
   "metadata": {},
   "source": [
    "Смотрим получившийся df"
   ]
  },
  {
   "cell_type": "code",
   "execution_count": 391,
   "metadata": {},
   "outputs": [
    {
     "data": {
      "text/html": [
       "<div>\n",
       "<style scoped>\n",
       "    .dataframe tbody tr th:only-of-type {\n",
       "        vertical-align: middle;\n",
       "    }\n",
       "\n",
       "    .dataframe tbody tr th {\n",
       "        vertical-align: top;\n",
       "    }\n",
       "\n",
       "    .dataframe thead th {\n",
       "        text-align: right;\n",
       "    }\n",
       "</style>\n",
       "<table border=\"1\" class=\"dataframe\">\n",
       "  <thead>\n",
       "    <tr style=\"text-align: right;\">\n",
       "      <th></th>\n",
       "      <th>customer_unique_id</th>\n",
       "      <th>recency</th>\n",
       "      <th>frequency</th>\n",
       "      <th>monetary</th>\n",
       "      <th>R</th>\n",
       "      <th>F</th>\n",
       "      <th>M</th>\n",
       "      <th>rfm_segments</th>\n",
       "    </tr>\n",
       "  </thead>\n",
       "  <tbody>\n",
       "    <tr>\n",
       "      <th>0</th>\n",
       "      <td>0000366f3b9a7992bf8c76cfdf3221e2</td>\n",
       "      <td>112</td>\n",
       "      <td>1</td>\n",
       "      <td>129.90</td>\n",
       "      <td>3</td>\n",
       "      <td>1</td>\n",
       "      <td>3</td>\n",
       "      <td>313</td>\n",
       "    </tr>\n",
       "    <tr>\n",
       "      <th>1</th>\n",
       "      <td>0000b849f77a49e4a4ce2b2a4ca5be3f</td>\n",
       "      <td>115</td>\n",
       "      <td>1</td>\n",
       "      <td>18.90</td>\n",
       "      <td>3</td>\n",
       "      <td>1</td>\n",
       "      <td>1</td>\n",
       "      <td>311</td>\n",
       "    </tr>\n",
       "    <tr>\n",
       "      <th>2</th>\n",
       "      <td>0000f6ccb0745a6a4b88665a16c9f078</td>\n",
       "      <td>322</td>\n",
       "      <td>1</td>\n",
       "      <td>25.99</td>\n",
       "      <td>1</td>\n",
       "      <td>1</td>\n",
       "      <td>1</td>\n",
       "      <td>111</td>\n",
       "    </tr>\n",
       "    <tr>\n",
       "      <th>3</th>\n",
       "      <td>0004aac84e0df4da2b147fca70cf8255</td>\n",
       "      <td>289</td>\n",
       "      <td>1</td>\n",
       "      <td>180.00</td>\n",
       "      <td>1</td>\n",
       "      <td>1</td>\n",
       "      <td>4</td>\n",
       "      <td>114</td>\n",
       "    </tr>\n",
       "    <tr>\n",
       "      <th>4</th>\n",
       "      <td>0004bd2a26a76fe21f786e4fbd80607f</td>\n",
       "      <td>147</td>\n",
       "      <td>1</td>\n",
       "      <td>154.00</td>\n",
       "      <td>3</td>\n",
       "      <td>1</td>\n",
       "      <td>4</td>\n",
       "      <td>314</td>\n",
       "    </tr>\n",
       "    <tr>\n",
       "      <th>...</th>\n",
       "      <td>...</td>\n",
       "      <td>...</td>\n",
       "      <td>...</td>\n",
       "      <td>...</td>\n",
       "      <td>...</td>\n",
       "      <td>...</td>\n",
       "      <td>...</td>\n",
       "      <td>...</td>\n",
       "    </tr>\n",
       "    <tr>\n",
       "      <th>73930</th>\n",
       "      <td>fffb09418989a0dbff854a28163e47c6</td>\n",
       "      <td>256</td>\n",
       "      <td>1</td>\n",
       "      <td>58.00</td>\n",
       "      <td>2</td>\n",
       "      <td>1</td>\n",
       "      <td>2</td>\n",
       "      <td>212</td>\n",
       "    </tr>\n",
       "    <tr>\n",
       "      <th>73931</th>\n",
       "      <td>fffbf87b7a1a6fa8b03f081c5f51a201</td>\n",
       "      <td>246</td>\n",
       "      <td>1</td>\n",
       "      <td>149.00</td>\n",
       "      <td>2</td>\n",
       "      <td>1</td>\n",
       "      <td>3</td>\n",
       "      <td>213</td>\n",
       "    </tr>\n",
       "    <tr>\n",
       "      <th>73932</th>\n",
       "      <td>fffcc512b7dfecaffd80f13614af1d16</td>\n",
       "      <td>141</td>\n",
       "      <td>1</td>\n",
       "      <td>688.00</td>\n",
       "      <td>3</td>\n",
       "      <td>1</td>\n",
       "      <td>4</td>\n",
       "      <td>314</td>\n",
       "    </tr>\n",
       "    <tr>\n",
       "      <th>73933</th>\n",
       "      <td>fffea47cd6d3cc0a88bd621562a9d061</td>\n",
       "      <td>263</td>\n",
       "      <td>1</td>\n",
       "      <td>64.89</td>\n",
       "      <td>1</td>\n",
       "      <td>1</td>\n",
       "      <td>2</td>\n",
       "      <td>112</td>\n",
       "    </tr>\n",
       "    <tr>\n",
       "      <th>73934</th>\n",
       "      <td>ffff5962728ec6157033ef9805bacc48</td>\n",
       "      <td>120</td>\n",
       "      <td>1</td>\n",
       "      <td>115.00</td>\n",
       "      <td>3</td>\n",
       "      <td>1</td>\n",
       "      <td>3</td>\n",
       "      <td>313</td>\n",
       "    </tr>\n",
       "  </tbody>\n",
       "</table>\n",
       "<p>73935 rows × 8 columns</p>\n",
       "</div>"
      ],
      "text/plain": [
       "                     customer_unique_id  recency  frequency  monetary  R  F  \\\n",
       "0      0000366f3b9a7992bf8c76cfdf3221e2      112          1    129.90  3  1   \n",
       "1      0000b849f77a49e4a4ce2b2a4ca5be3f      115          1     18.90  3  1   \n",
       "2      0000f6ccb0745a6a4b88665a16c9f078      322          1     25.99  1  1   \n",
       "3      0004aac84e0df4da2b147fca70cf8255      289          1    180.00  1  1   \n",
       "4      0004bd2a26a76fe21f786e4fbd80607f      147          1    154.00  3  1   \n",
       "...                                 ...      ...        ...       ... .. ..   \n",
       "73930  fffb09418989a0dbff854a28163e47c6      256          1     58.00  2  1   \n",
       "73931  fffbf87b7a1a6fa8b03f081c5f51a201      246          1    149.00  2  1   \n",
       "73932  fffcc512b7dfecaffd80f13614af1d16      141          1    688.00  3  1   \n",
       "73933  fffea47cd6d3cc0a88bd621562a9d061      263          1     64.89  1  1   \n",
       "73934  ffff5962728ec6157033ef9805bacc48      120          1    115.00  3  1   \n",
       "\n",
       "       M rfm_segments  \n",
       "0      3          313  \n",
       "1      1          311  \n",
       "2      1          111  \n",
       "3      4          114  \n",
       "4      4          314  \n",
       "...   ..          ...  \n",
       "73930  2          212  \n",
       "73931  3          213  \n",
       "73932  4          314  \n",
       "73933  2          112  \n",
       "73934  3          313  \n",
       "\n",
       "[73935 rows x 8 columns]"
      ]
     },
     "execution_count": 391,
     "metadata": {},
     "output_type": "execute_result"
    }
   ],
   "source": [
    "rfm"
   ]
  },
  {
   "cell_type": "markdown",
   "metadata": {},
   "source": [
    "Количество возможных вариантов __rfm-сегментов__"
   ]
  },
  {
   "cell_type": "code",
   "execution_count": 392,
   "metadata": {},
   "outputs": [
    {
     "data": {
      "text/plain": [
       "64"
      ]
     },
     "execution_count": 392,
     "metadata": {},
     "output_type": "execute_result"
    }
   ],
   "source": [
    "4**3"
   ]
  },
  {
   "cell_type": "markdown",
   "metadata": {},
   "source": [
    "Считаем, сколько всего получилось сегментов в нашем df"
   ]
  },
  {
   "cell_type": "code",
   "execution_count": 393,
   "metadata": {},
   "outputs": [
    {
     "data": {
      "text/plain": [
       "23"
      ]
     },
     "execution_count": 393,
     "metadata": {},
     "output_type": "execute_result"
    }
   ],
   "source": [
    "rfm.rfm_segments.nunique()"
   ]
  },
  {
   "cell_type": "markdown",
   "metadata": {},
   "source": [
    "Наши сегменты"
   ]
  },
  {
   "cell_type": "code",
   "execution_count": 394,
   "metadata": {
    "scrolled": false
   },
   "outputs": [
    {
     "data": {
      "text/plain": [
       "444       1\n",
       "434       2\n",
       "424      10\n",
       "414    4614\n",
       "413    4559\n",
       "412    4730\n",
       "411    4745\n",
       "324       6\n",
       "314    4724\n",
       "313    4595\n",
       "312    4517\n",
       "311    4517\n",
       "234       2\n",
       "224       4\n",
       "214    4489\n",
       "213    4517\n",
       "212    4830\n",
       "211    4846\n",
       "124       2\n",
       "114    4626\n",
       "113    4170\n",
       "112    5034\n",
       "111    4395\n",
       "Name: rfm_segments, dtype: int64"
      ]
     },
     "execution_count": 394,
     "metadata": {},
     "output_type": "execute_result"
    }
   ],
   "source": [
    "rfm.rfm_segments.value_counts().sort_index(ascending=False)"
   ]
  },
  {
   "cell_type": "markdown",
   "metadata": {},
   "source": [
    "Для удобства помещу сюда границы рангов __frequency__:\n",
    "- 1 - 1-3 покупки\n",
    "- 2 - 4-6 покупок\n",
    "- 3 - 7-9 покупок\n",
    "- 4 - 10-11 покупок"
   ]
  },
  {
   "cell_type": "code",
   "execution_count": 395,
   "metadata": {},
   "outputs": [
    {
     "data": {
      "text/plain": [
       "{'recency': {0.25: 90.0, 0.5: 173.0, 0.75: 262.0},\n",
       " 'frequency': {0.25: 1.0, 0.5: 1.0, 0.75: 1.0},\n",
       " 'monetary': {0.25: 47.9, 0.5: 89.9, 0.75: 153.6}}"
      ]
     },
     "execution_count": 395,
     "metadata": {},
     "output_type": "execute_result"
    }
   ],
   "source": [
    "quantiles"
   ]
  },
  {
   "cell_type": "markdown",
   "metadata": {},
   "source": [
    "Формируем 6-8 новых сегментов для облегчения анализа:\n",
    "\n",
    "- __Legendary Beasts__ - совершили покупку недавно, покупают часто, тратят много (444)\n",
    "\n",
    "- __Loyal Dogs__\t- совершили покупку недавно, покупают относительно регулярно, тратят много (424, 434)\n",
    "\n",
    "- __Rich Newbies__ - совершили покупку недавно, покупают редко, тратят много (414) - можно побудить их совершить покупку еще раз\n",
    "\n",
    "- __Average Newbies__ - совершили покупку недавно, покупают редко, тратят нормально (413) - можно побудить их совершить покупку еще раз\n",
    "\n",
    "- __Poor Newbies__ - совершили покупку недавно, покупают редко, тратят мало (412, 411) - можно побудить их совершить покупку еще раз\n",
    "\n",
    "- __Should be Stimulated__ - совершили покупку относительно недавно, покупают нечасто (324, 314, 313, 312, 311) - обязательно нужно подогреть покупателей этих сегментов, иначе спустя время они, возможно, перейдут в сегмент __Potential Lost__\n",
    "\n",
    "- __Required Immediate Actions__ (234) - совершили покупку давно, но покупали часто и тратили много (срочно надо их вернуть)\n",
    "\n",
    "- __Potential Lost__ - (224, 214, 212, 211, 213) - ниже среднего __recency__ и __frequency__. Можем их потерять, если не предпринять каких-либо действий.\n",
    "\n",
    "- __Lost__ - потерянные покупатели (111, 112, 113, 114, 124)"
   ]
  },
  {
   "cell_type": "markdown",
   "metadata": {},
   "source": [
    "Создаем функцию для присвоения новых сегментов"
   ]
  },
  {
   "cell_type": "code",
   "execution_count": 396,
   "metadata": {},
   "outputs": [],
   "source": [
    "def new_segments(df):\n",
    "    if df['rfm_segments'] in ['444']:\n",
    "        return 'Legendary Beasts'\n",
    "    elif df['rfm_segments'] in ['424', '434']:\n",
    "        return 'Loyal Dogs '\n",
    "    elif df['rfm_segments'] in ['414']:\n",
    "        return 'Rich Newbies'\n",
    "    elif df['rfm_segments'] in ['413']:\n",
    "        return 'Average Newbies'\n",
    "    elif df['rfm_segments'] in ['412', '411']:\n",
    "        return 'Poor Newbies'\n",
    "    elif df['rfm_segments'] in ['324', '314', '313', '312', '311']:\n",
    "        return 'Should be Stimulated'\n",
    "    elif df['rfm_segments'] in ['234']:\n",
    "        return 'Required Immediate Actions'\n",
    "    elif df['rfm_segments'] in ['224', '214', '212', '211', '213']:\n",
    "        return 'Potential Lost'\n",
    "    else:\n",
    "        return 'Lost'"
   ]
  },
  {
   "cell_type": "markdown",
   "metadata": {},
   "source": [
    "Применяем функцию"
   ]
  },
  {
   "cell_type": "code",
   "execution_count": 397,
   "metadata": {},
   "outputs": [],
   "source": [
    "rfm['new_segment'] = rfm.apply(new_segments, axis=1)"
   ]
  },
  {
   "cell_type": "markdown",
   "metadata": {},
   "source": [
    "Смотрим получившийся df"
   ]
  },
  {
   "cell_type": "code",
   "execution_count": 398,
   "metadata": {},
   "outputs": [
    {
     "data": {
      "text/html": [
       "<div>\n",
       "<style scoped>\n",
       "    .dataframe tbody tr th:only-of-type {\n",
       "        vertical-align: middle;\n",
       "    }\n",
       "\n",
       "    .dataframe tbody tr th {\n",
       "        vertical-align: top;\n",
       "    }\n",
       "\n",
       "    .dataframe thead th {\n",
       "        text-align: right;\n",
       "    }\n",
       "</style>\n",
       "<table border=\"1\" class=\"dataframe\">\n",
       "  <thead>\n",
       "    <tr style=\"text-align: right;\">\n",
       "      <th></th>\n",
       "      <th>customer_unique_id</th>\n",
       "      <th>recency</th>\n",
       "      <th>frequency</th>\n",
       "      <th>monetary</th>\n",
       "      <th>R</th>\n",
       "      <th>F</th>\n",
       "      <th>M</th>\n",
       "      <th>rfm_segments</th>\n",
       "      <th>new_segment</th>\n",
       "    </tr>\n",
       "  </thead>\n",
       "  <tbody>\n",
       "    <tr>\n",
       "      <th>0</th>\n",
       "      <td>0000366f3b9a7992bf8c76cfdf3221e2</td>\n",
       "      <td>112</td>\n",
       "      <td>1</td>\n",
       "      <td>129.90</td>\n",
       "      <td>3</td>\n",
       "      <td>1</td>\n",
       "      <td>3</td>\n",
       "      <td>313</td>\n",
       "      <td>Should be Stimulated</td>\n",
       "    </tr>\n",
       "    <tr>\n",
       "      <th>1</th>\n",
       "      <td>0000b849f77a49e4a4ce2b2a4ca5be3f</td>\n",
       "      <td>115</td>\n",
       "      <td>1</td>\n",
       "      <td>18.90</td>\n",
       "      <td>3</td>\n",
       "      <td>1</td>\n",
       "      <td>1</td>\n",
       "      <td>311</td>\n",
       "      <td>Should be Stimulated</td>\n",
       "    </tr>\n",
       "    <tr>\n",
       "      <th>2</th>\n",
       "      <td>0000f6ccb0745a6a4b88665a16c9f078</td>\n",
       "      <td>322</td>\n",
       "      <td>1</td>\n",
       "      <td>25.99</td>\n",
       "      <td>1</td>\n",
       "      <td>1</td>\n",
       "      <td>1</td>\n",
       "      <td>111</td>\n",
       "      <td>Lost</td>\n",
       "    </tr>\n",
       "    <tr>\n",
       "      <th>3</th>\n",
       "      <td>0004aac84e0df4da2b147fca70cf8255</td>\n",
       "      <td>289</td>\n",
       "      <td>1</td>\n",
       "      <td>180.00</td>\n",
       "      <td>1</td>\n",
       "      <td>1</td>\n",
       "      <td>4</td>\n",
       "      <td>114</td>\n",
       "      <td>Lost</td>\n",
       "    </tr>\n",
       "    <tr>\n",
       "      <th>4</th>\n",
       "      <td>0004bd2a26a76fe21f786e4fbd80607f</td>\n",
       "      <td>147</td>\n",
       "      <td>1</td>\n",
       "      <td>154.00</td>\n",
       "      <td>3</td>\n",
       "      <td>1</td>\n",
       "      <td>4</td>\n",
       "      <td>314</td>\n",
       "      <td>Should be Stimulated</td>\n",
       "    </tr>\n",
       "    <tr>\n",
       "      <th>...</th>\n",
       "      <td>...</td>\n",
       "      <td>...</td>\n",
       "      <td>...</td>\n",
       "      <td>...</td>\n",
       "      <td>...</td>\n",
       "      <td>...</td>\n",
       "      <td>...</td>\n",
       "      <td>...</td>\n",
       "      <td>...</td>\n",
       "    </tr>\n",
       "    <tr>\n",
       "      <th>73930</th>\n",
       "      <td>fffb09418989a0dbff854a28163e47c6</td>\n",
       "      <td>256</td>\n",
       "      <td>1</td>\n",
       "      <td>58.00</td>\n",
       "      <td>2</td>\n",
       "      <td>1</td>\n",
       "      <td>2</td>\n",
       "      <td>212</td>\n",
       "      <td>Potential Lost</td>\n",
       "    </tr>\n",
       "    <tr>\n",
       "      <th>73931</th>\n",
       "      <td>fffbf87b7a1a6fa8b03f081c5f51a201</td>\n",
       "      <td>246</td>\n",
       "      <td>1</td>\n",
       "      <td>149.00</td>\n",
       "      <td>2</td>\n",
       "      <td>1</td>\n",
       "      <td>3</td>\n",
       "      <td>213</td>\n",
       "      <td>Potential Lost</td>\n",
       "    </tr>\n",
       "    <tr>\n",
       "      <th>73932</th>\n",
       "      <td>fffcc512b7dfecaffd80f13614af1d16</td>\n",
       "      <td>141</td>\n",
       "      <td>1</td>\n",
       "      <td>688.00</td>\n",
       "      <td>3</td>\n",
       "      <td>1</td>\n",
       "      <td>4</td>\n",
       "      <td>314</td>\n",
       "      <td>Should be Stimulated</td>\n",
       "    </tr>\n",
       "    <tr>\n",
       "      <th>73933</th>\n",
       "      <td>fffea47cd6d3cc0a88bd621562a9d061</td>\n",
       "      <td>263</td>\n",
       "      <td>1</td>\n",
       "      <td>64.89</td>\n",
       "      <td>1</td>\n",
       "      <td>1</td>\n",
       "      <td>2</td>\n",
       "      <td>112</td>\n",
       "      <td>Lost</td>\n",
       "    </tr>\n",
       "    <tr>\n",
       "      <th>73934</th>\n",
       "      <td>ffff5962728ec6157033ef9805bacc48</td>\n",
       "      <td>120</td>\n",
       "      <td>1</td>\n",
       "      <td>115.00</td>\n",
       "      <td>3</td>\n",
       "      <td>1</td>\n",
       "      <td>3</td>\n",
       "      <td>313</td>\n",
       "      <td>Should be Stimulated</td>\n",
       "    </tr>\n",
       "  </tbody>\n",
       "</table>\n",
       "<p>73935 rows × 9 columns</p>\n",
       "</div>"
      ],
      "text/plain": [
       "                     customer_unique_id  recency  frequency  monetary  R  F  \\\n",
       "0      0000366f3b9a7992bf8c76cfdf3221e2      112          1    129.90  3  1   \n",
       "1      0000b849f77a49e4a4ce2b2a4ca5be3f      115          1     18.90  3  1   \n",
       "2      0000f6ccb0745a6a4b88665a16c9f078      322          1     25.99  1  1   \n",
       "3      0004aac84e0df4da2b147fca70cf8255      289          1    180.00  1  1   \n",
       "4      0004bd2a26a76fe21f786e4fbd80607f      147          1    154.00  3  1   \n",
       "...                                 ...      ...        ...       ... .. ..   \n",
       "73930  fffb09418989a0dbff854a28163e47c6      256          1     58.00  2  1   \n",
       "73931  fffbf87b7a1a6fa8b03f081c5f51a201      246          1    149.00  2  1   \n",
       "73932  fffcc512b7dfecaffd80f13614af1d16      141          1    688.00  3  1   \n",
       "73933  fffea47cd6d3cc0a88bd621562a9d061      263          1     64.89  1  1   \n",
       "73934  ffff5962728ec6157033ef9805bacc48      120          1    115.00  3  1   \n",
       "\n",
       "       M rfm_segments           new_segment  \n",
       "0      3          313  Should be Stimulated  \n",
       "1      1          311  Should be Stimulated  \n",
       "2      1          111                  Lost  \n",
       "3      4          114                  Lost  \n",
       "4      4          314  Should be Stimulated  \n",
       "...   ..          ...                   ...  \n",
       "73930  2          212        Potential Lost  \n",
       "73931  3          213        Potential Lost  \n",
       "73932  4          314  Should be Stimulated  \n",
       "73933  2          112                  Lost  \n",
       "73934  3          313  Should be Stimulated  \n",
       "\n",
       "[73935 rows x 9 columns]"
      ]
     },
     "execution_count": 398,
     "metadata": {},
     "output_type": "execute_result"
    }
   ],
   "source": [
    "rfm"
   ]
  },
  {
   "cell_type": "markdown",
   "metadata": {},
   "source": [
    "Построим график количества покупателей в каждом сегменте"
   ]
  },
  {
   "cell_type": "code",
   "execution_count": 399,
   "metadata": {},
   "outputs": [
    {
     "data": {
      "image/png": "[encoded data removed]",
      "text/plain": [
       "<Figure size 640x480 with 1 Axes>"
      ]
     },
     "metadata": {},
     "output_type": "display_data"
    }
   ],
   "source": [
    "segments_counts = rfm['new_segment'].value_counts().sort_values(ascending=True)\n",
    "\n",
    "fig, ax = plt.subplots()\n",
    "\n",
    "bars = ax.barh(range(len(segments_counts)),\n",
    "              segments_counts,\n",
    "              color='silver')\n",
    "ax.set_frame_on(False)\n",
    "ax.tick_params(left=False,\n",
    "               bottom=False,\n",
    "               labelbottom=False)\n",
    "ax.set_yticks(range(len(segments_counts)))\n",
    "ax.set_yticklabels(segments_counts.index)\n",
    "\n",
    "for i, bar in enumerate(bars):\n",
    "        value = bar.get_width()\n",
    "        if segments_counts.index[i] in ['Should be Stimulated', 'Potential Lost']:\n",
    "            bar.set_color('firebrick')\n",
    "        ax.text(value,\n",
    "                bar.get_y() + bar.get_height()/2,\n",
    "                '{:,} ({:}%)'.format(int(value),\n",
    "                                   int(value*100/segments_counts.sum())),\n",
    "                va='center',\n",
    "                ha='left'\n",
    "               )\n",
    "\n",
    "plt.show()"
   ]
  },
  {
   "cell_type": "markdown",
   "metadata": {},
   "source": [
    "### Ответ на задание 6:\n",
    "Итак, видим, что у нас мало лояльных покупателей за 2018 год и конец 2017. Можно увеличить их число путем создания соответствующей РК для сегментов __Potential Lost__ и __Should be Stimulated__.  \n",
    "Также видно, что за 2018 год и конец 2017 года __было потеряно 24% покупателей__. Можно проанализировать возможные причины потери покупателей и не допустить возникновение потенциальных потерь (либо предпринять действия по подогреву покупателей) в сегментах __Poor, Rich, Average Newbies__. "
   ]
  }
 ],
 "metadata": {
  "kernelspec": {
   "display_name": "Python 3 (ipykernel)",
   "language": "python",
   "name": "python3"
  },
  "language_info": {
   "codemirror_mode": {
    "name": "ipython",
    "version": 3
   },
   "file_extension": ".py",
   "mimetype": "text/x-python",
   "name": "python",
   "nbconvert_exporter": "python",
   "pygments_lexer": "ipython3",
   "version": "3.9.13"
  }
 },
 "nbformat": 4,
 "nbformat_minor": 4
}
